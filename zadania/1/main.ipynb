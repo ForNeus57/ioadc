{
 "cells": [
  {
   "cell_type": "code",
   "execution_count": 1,
   "id": "initial_id",
   "metadata": {
    "collapsed": true,
    "ExecuteTime": {
     "end_time": "2024-02-29T11:48:18.852698800Z",
     "start_time": "2024-02-29T11:48:18.763413600Z"
    }
   },
   "outputs": [],
   "source": [
    "import numpy as np\n",
    "import easyAI as ai"
   ]
  },
  {
   "cell_type": "code",
   "outputs": [],
   "source": [],
   "metadata": {
    "collapsed": false
   },
   "id": "3a590933f7cac641"
  }
 ],
 "metadata": {
  "kernelspec": {
   "name": "ioadc",
   "language": "python",
   "display_name": "IOADC"
  },
  "language_info": {
   "codemirror_mode": {
    "name": "ipython",
    "version": 2
   },
   "file_extension": ".py",
   "mimetype": "text/x-python",
   "name": "python",
   "nbconvert_exporter": "python",
   "pygments_lexer": "ipython2",
   "version": "2.7.6"
  }
 },
 "nbformat": 4,
 "nbformat_minor": 5
}
