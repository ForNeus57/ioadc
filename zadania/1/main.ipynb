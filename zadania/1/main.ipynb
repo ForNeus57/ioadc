{
 "cells": [
  {
   "cell_type": "markdown",
   "source": [
    "# Inteligencja Obliczeniowa w Analizie Danych Cyfrowych\n",
    "\n",
    "##\tProjekt I\n",
    "\n",
    "### Autorzy\n",
    "- Dominik Breksa\n",
    "- Robert Barcik\n",
    "- Konrad Bodzioch"
   ],
   "metadata": {
    "collapsed": false
   },
   "id": "2eb6a3daf248090e"
  },
  {
   "cell_type": "markdown",
   "source": [
    "Download all the necessary packages to run this `.ipynb` script.\n",
    "\n",
    "Python version: `3.12.2`\n",
    "Used packages:\n",
    "- *numpy*, `1.26.4`\n",
    "- *pandas*, `2.8.2`\n",
    "- *matplotlib*, `3.8.3`\n",
    "- *easyAI*, `2.0.12`"
   ],
   "metadata": {
    "collapsed": false
   },
   "id": "27eb9342853e0b97"
  },
  {
   "cell_type": "code",
   "outputs": [],
   "source": [
    "!pip install numpy\n",
    "!pip install pandas\n",
    "!pip install matplotlib\n",
    "!pip install easyAI"
   ],
   "metadata": {
    "collapsed": false
   },
   "id": "e86b1a39b87180ef",
   "execution_count": null
  },
  {
   "cell_type": "markdown",
   "source": [
    "Import all the necessary packages to run this `.ipynb` script."
   ],
   "metadata": {
    "collapsed": false
   },
   "id": "3b5ca2cc209ca962"
  },
  {
   "cell_type": "code",
   "outputs": [],
   "source": [
    "import numpy as np\n",
    "import pandas as pd"
   ],
   "metadata": {
    "collapsed": false
   },
   "id": "49186984cf2a0700",
   "execution_count": null
  },
  {
   "cell_type": "markdown",
   "source": [
    "### Nimby\n",
    "\n",
    "Nimby game created as described in the task. Probabilistic model added in make_move method.\n",
    "Added typing to help with code completion and readability."
   ],
   "metadata": {
    "collapsed": false
   },
   "id": "ecbf991ad25355c9"
  },
  {
   "cell_type": "code",
   "outputs": [],
   "source": [
    "from typing import Optional, Final\n",
    "from random import random\n",
    "\n",
    "from easyAI import TwoPlayerGame, AI_Player, Human_Player\n",
    "\n",
    "\n",
    "mutation_probability: Final[float] = 0.1\n",
    "\n",
    "class Nimby(TwoPlayerGame):\n",
    "    def __init__(self, players: Optional[list[AI_Player | Human_Player]] = None, max_removals_per_turn: Optional[int] = None, piles: Optional[list[int]] = None) -> None:\n",
    "        if piles is None:\n",
    "            piles = [5, 5, 5, 5]\n",
    "        self.players: Optional[AI_Player | Human_Player] = players\n",
    "        self.piles: Optional[list[int]] = piles\n",
    "        self.max_removals_per_turn: Optional[int] = max_removals_per_turn\n",
    "        self.current_player: int = 1\n",
    "\n",
    "    def possible_moves(self) -> list[str]:\n",
    "        return [\n",
    "            f'{i + 1},{j}'\n",
    "            for i in range(len(self.piles))\n",
    "            for j in range(\n",
    "                1,\n",
    "                self.piles[i] + 1\n",
    "                if self.max_removals_per_turn is None\n",
    "                else min(self.piles[i] + 1, self.max_removals_per_turn),\n",
    "            )\n",
    "        ]\n",
    "\n",
    "    def make_move(self, move: str) -> None:\n",
    "        where, count = tuple(map(int, move.split(\",\")))\n",
    "        #   Added randomness as described in the task\n",
    "        if mutation_probability >= random():\n",
    "            remove: int = count - 1\n",
    "        else:\n",
    "            remove: int = count\n",
    "\n",
    "        self.piles[where - 1] -= remove\n",
    "\n",
    "    def show(self) -> None:\n",
    "        print(' '.join(map(str, self.piles)))\n",
    "\n",
    "    def win(self) -> bool:\n",
    "        return max(self.piles) == 0\n",
    "\n",
    "    def is_over(self) -> bool:\n",
    "        return self.win()\n",
    "\n",
    "    def scoring(self) -> int:\n",
    "        return 100 if self.win() else 0\n",
    "\n",
    "    def ttentry(self) -> tuple:\n",
    "        \"\"\"Optional, speeds up AI move computation.\"\"\"\n",
    "        return tuple(self.piles)"
   ],
   "metadata": {
    "collapsed": false
   },
   "id": "3a590933f7cac641",
   "execution_count": null
  },
  {
   "cell_type": "markdown",
   "source": [
    "Make randomness seed deterministic."
   ],
   "metadata": {
    "collapsed": false
   },
   "id": "efea2c2e0cab5e41"
  },
  {
   "cell_type": "code",
   "outputs": [],
   "source": [
    "from random import seed\n",
    "\n",
    "seed(42)"
   ],
   "metadata": {
    "collapsed": false
   },
   "id": "6e578f4bcdcbd0e3",
   "execution_count": null
  },
  {
   "cell_type": "markdown",
   "source": [
    "Simple test of the Nimby game, to check if it works."
   ],
   "metadata": {
    "collapsed": false
   },
   "id": "52112d28707d9db7"
  },
  {
   "cell_type": "code",
   "outputs": [],
   "source": [
    "from easyAI import AI_Player, Negamax\n",
    "from easyAI.AI import TranspositionTable\n",
    "\n",
    "#   Test\n",
    "tt: TranspositionTable = TranspositionTable()\n",
    "ai1: Negamax = Negamax(8, tt=tt)\n",
    "ai2: Negamax = Negamax(4, tt=tt)\n",
    "game: Nimby = Nimby([AI_Player(ai1), AI_Player(ai2)])\n",
    "game.play()\n",
    "\n",
    "'player %d wins' % game.current_player"
   ],
   "metadata": {
    "collapsed": false
   },
   "id": "ec36a4ac34fc3a5a",
   "execution_count": null
  },
  {
   "cell_type": "markdown",
   "source": [
    "### Negamax - Deterministic\n",
    "\n",
    "1. Firstly we solve the Nim game using the `easyAI` library, in order to see max depth (`d == 14`) for perfect AI.\n",
    "2. We can also acknowledge the fact that the first player will always lose (`w == -1`), and the perfect move is `1,1`"
   ],
   "metadata": {
    "collapsed": false
   },
   "id": "6d225122286c2e6e"
  },
  {
   "cell_type": "code",
   "outputs": [],
   "source": [
    "from easyAI import solve_with_iterative_deepening\n",
    "\n",
    "from easyAI.games import Nim\n",
    "\n",
    "tt: TranspositionTable = TranspositionTable()\n",
    "w, d, m = solve_with_iterative_deepening(Nim(), range(1, 20), win_score=80, tt=tt)\n",
    "w, d, m, len(tt.d)"
   ],
   "metadata": {
    "collapsed": false
   },
   "id": "24e769b61122cf94",
   "execution_count": null
  },
  {
   "cell_type": "code",
   "outputs": [],
   "source": [
    "max_depth: Final[int] = d\n",
    "\n",
    "# Create a pandas dataframe to store the results\n",
    "df: pd.DataFrame = pd.DataFrame(\n",
    "    columns=['game_variant', 'algorithm', 'depths', 'starting_player', 'winner', 'time', 'rounds'])\n",
    "\n",
    "# If you have the computing power you can test all the possible combinations of depths, since the game is deterministic, you will always get the same results.\n",
    "# from itertools import product\n",
    "# config: list[tuple[int, int]] = list(product(range(1, max_depth + 1), repeat=2))\n",
    "\n",
    "# Tests as described in task.\n",
    "config_nim: list[tuple[int, int]] = [\n",
    "    (max_depth, max_depth // 2),\n",
    "    (max_depth // 3, max_depth // 2),\n",
    "]\n",
    "\n",
    "config_nim"
   ],
   "metadata": {
    "collapsed": false
   },
   "id": "90cf05703e8233a",
   "execution_count": null
  },
  {
   "cell_type": "code",
   "outputs": [],
   "source": [
    "df"
   ],
   "metadata": {
    "collapsed": false
   },
   "id": "c37945b4553c647d",
   "execution_count": null
  },
  {
   "cell_type": "code",
   "outputs": [],
   "source": [
    "from typing import Callable, Any\n",
    "from time import perf_counter\n",
    "\n",
    "from easyAI.AI.DUAL import DUAL\n",
    "from easyAI.AI.Negamax import Negamax\n",
    "from easyAI.AI.SSS import SSS\n",
    "\n",
    "type DepthConfiguration = tuple[int, int]\n",
    "type DataframeRecord = tuple[str, str, np.array, np.uint8, np.uint8, float, np.uint8]\n",
    "\n",
    "def create_environment(game_type: type(Nim) | type(Nimby), solving_algorithm: type(Negamax) | type(DUAL) | type(SSS), in_order: bool, look_up_tables: Optional[TranspositionTable] = None, **kwargs) -> Callable[[DepthConfiguration], DataframeRecord]:\n",
    "    if look_up_tables is None:\n",
    "        look_up_tables: TranspositionTable = TranspositionTable()\n",
    "    \n",
    "    def play_game(depths: DepthConfiguration) -> DataframeRecord:\n",
    "        player1_depth, player2_depth = depths\n",
    "        ai_1: solving_algorithm = solving_algorithm(depth=player1_depth, tt=look_up_tables)\n",
    "        ai_2: solving_algorithm = solving_algorithm(depth=player2_depth, tt=look_up_tables)\n",
    "        game_config: dict[str, Any] = {\n",
    "            'players': [\n",
    "                AI_Player(ai_1),\n",
    "                AI_Player(ai_2)\n",
    "            ],\n",
    "        } | kwargs\n",
    "        \n",
    "        environment: game_type = game_type(**game_config)\n",
    "        \n",
    "        if not in_order:\n",
    "            environment.switch_player()\n",
    "    \n",
    "        starting_player: int = environment.current_player\n",
    "    \n",
    "        start: float = perf_counter()\n",
    "        history: list = environment.play()\n",
    "        end: float = perf_counter()\n",
    "        \n",
    "        output: DataframeRecord = str(game_type.__name__), str(solving_algorithm.__name__), np.asarray(depths), np.uint8(starting_player),  np.uint8(environment.current_player), end - start, np.uint8(len(history) - 1)\n",
    "\n",
    "        print(\n",
    "            '======== Finished(game_type=\\'{}\\', solving_algorithm=\\'{}\\')(depths={}, starting_player={}, winner={}, time={}s, rounds_number={}) ========'.format(\n",
    "                *output   \n",
    "            )\n",
    "        )\n",
    "        return output\n",
    "    \n",
    "    return play_game\n",
    "\n",
    "def add_to_dataframe(data: pd.DataFrame, records: list[DataframeRecord]) -> None:\n",
    "    for record in records:\n",
    "        data.loc[len(data)] = record\n",
    "\n",
    "results: map = map(create_environment(Nim, Negamax, True, tt), config_nim)\n",
    "add_to_dataframe(df, list(results))"
   ],
   "metadata": {
    "collapsed": false
   },
   "id": "74a9eed1c0482d98",
   "execution_count": null
  },
  {
   "cell_type": "code",
   "outputs": [],
   "source": [
    "results: map = map(create_environment(Nim, Negamax, False, tt), config_nim)\n",
    "add_to_dataframe(df, list(results))"
   ],
   "metadata": {
    "collapsed": false
   },
   "id": "5d2856b942486658",
   "execution_count": null
  },
  {
   "cell_type": "code",
   "outputs": [],
   "source": [
    "df.dtypes"
   ],
   "metadata": {
    "collapsed": false
   },
   "id": "d7a2dd7d4370b61f",
   "execution_count": null
  },
  {
   "cell_type": "code",
   "outputs": [],
   "source": [
    "df"
   ],
   "metadata": {
    "collapsed": false
   },
   "id": "ef343c892d1fe64c",
   "execution_count": null
  },
  {
   "cell_type": "markdown",
   "source": [
    "### Negamax - Non-Deterministic"
   ],
   "metadata": {
    "collapsed": false
   },
   "id": "5cd2932cba33a000"
  },
  {
   "cell_type": "code",
   "outputs": [],
   "source": [
    "from itertools import chain\n",
    "\n",
    "repeat_count: Final[int] = 5\n",
    "\n",
    "config_nimby: list = list(chain.from_iterable([[element] * repeat_count for element in config_nim]))\n",
    "\n",
    "config_nimby"
   ],
   "metadata": {
    "collapsed": false
   },
   "id": "6196bb07e210ec39",
   "execution_count": null
  },
  {
   "cell_type": "code",
   "outputs": [],
   "source": [
    "results: map = map(create_environment(Nimby, Negamax, True, tt), config_nimby)\n",
    "add_to_dataframe(df, list(results))"
   ],
   "metadata": {
    "collapsed": false
   },
   "id": "60b9465f6c011f53",
   "execution_count": null
  },
  {
   "cell_type": "code",
   "outputs": [],
   "source": [
    "results: map = map(create_environment(Nimby, Negamax, False, tt), config_nimby)\n",
    "add_to_dataframe(df, list(results))"
   ],
   "metadata": {
    "collapsed": false
   },
   "id": "577b291e6b131c2c",
   "execution_count": null
  },
  {
   "cell_type": "code",
   "outputs": [],
   "source": [
    "df"
   ],
   "metadata": {
    "collapsed": false
   },
   "id": "57c85a1de4b9aecd",
   "execution_count": null
  },
  {
   "cell_type": "markdown",
   "source": [
    "### DUAL - Deterministic"
   ],
   "metadata": {
    "collapsed": false
   },
   "id": "2356e5301f649aab"
  },
  {
   "cell_type": "code",
   "outputs": [],
   "source": [
    "results: map = map(create_environment(Nim, DUAL, True), config_nim)\n",
    "add_to_dataframe(df, list(results))"
   ],
   "metadata": {
    "collapsed": false
   },
   "id": "5c1339ec8575d9d",
   "execution_count": null
  },
  {
   "cell_type": "code",
   "outputs": [],
   "source": [
    "results: map = map(create_environment(Nim, DUAL, False), config_nim)\n",
    "add_to_dataframe(df, list(results))"
   ],
   "metadata": {
    "collapsed": false
   },
   "id": "ee5f407ec107807b",
   "execution_count": null
  },
  {
   "cell_type": "code",
   "outputs": [],
   "source": [
    "df"
   ],
   "metadata": {
    "collapsed": false
   },
   "id": "3ecb0cc0efbf4526"
  },
  {
   "cell_type": "markdown",
   "source": [
    "### DUAL - Non-Deterministic"
   ],
   "metadata": {
    "collapsed": false
   },
   "id": "93a98bb60a73df2f"
  },
  {
   "cell_type": "code",
   "outputs": [],
   "source": [
    "results: map = map(create_environment(Nimby, DUAL, True), config_nimby)\n",
    "add_to_dataframe(df, list(results))"
   ],
   "metadata": {
    "collapsed": false
   },
   "id": "8eb3a9852ebf8bd1"
  },
  {
   "cell_type": "code",
   "outputs": [],
   "source": [
    "results: map = map(create_environment(Nimby, DUAL, False), config_nimby)\n",
    "add_to_dataframe(df, list(results))"
   ],
   "metadata": {
    "collapsed": false
   },
   "id": "231cd9787e19e48"
  },
  {
   "cell_type": "code",
   "outputs": [],
   "source": [
    "df"
   ],
   "metadata": {
    "collapsed": false
   },
   "id": "5c1dd43745ac3a6b"
  },
  {
   "cell_type": "markdown",
   "source": [
    "### SSS - Deterministic"
   ],
   "metadata": {
    "collapsed": false
   },
   "id": "a31aef655e2e1bcc"
  },
  {
   "cell_type": "code",
   "outputs": [],
   "source": [
    "results: map = map(create_environment(Nim, SSS, True, tt), config_nim)\n",
    "add_to_dataframe(df, list(results))"
   ],
   "metadata": {
    "collapsed": false
   },
   "id": "3708d2210598aab5"
  },
  {
   "cell_type": "code",
   "outputs": [],
   "source": [
    "results: map = map(create_environment(Nim, SSS, False, tt), config_nim)\n",
    "add_to_dataframe(df, list(results))"
   ],
   "metadata": {
    "collapsed": false
   },
   "id": "3e8a5070f0fd8236"
  },
  {
   "cell_type": "code",
   "outputs": [],
   "source": [
    "df"
   ],
   "metadata": {
    "collapsed": false
   },
   "id": "c20f4bb3d2f56048"
  },
  {
   "cell_type": "markdown",
   "source": [
    "### SSS - Non-Deterministic"
   ],
   "metadata": {
    "collapsed": false
   },
   "id": "6ebe0114e3c3de0d"
  },
  {
   "cell_type": "code",
   "outputs": [],
   "source": [
    "results: map = map(create_environment(Nimby, SSS, True, tt), config_nimby)\n",
    "add_to_dataframe(df, list(results))"
   ],
   "metadata": {
    "collapsed": false
   },
   "id": "a8eefc51bb086e5d"
  },
  {
   "cell_type": "code",
   "outputs": [],
   "source": [
    "results: map = map(create_environment(Nimby, SSS, False, tt), config_nimby)\n",
    "add_to_dataframe(df, list(results))"
   ],
   "metadata": {
    "collapsed": false
   },
   "id": "e0bc2dd27ed31dbe"
  },
  {
   "cell_type": "code",
   "outputs": [],
   "source": [
    "df"
   ],
   "metadata": {
    "collapsed": false
   },
   "id": "bdf5a5b499cdcd22"
  },
  {
   "cell_type": "markdown",
   "source": [
    "## Expecti-minimax"
   ],
   "metadata": {
    "collapsed": false
   },
   "id": "35ec1a5e64da76d"
  },
  {
   "cell_type": "code",
   "outputs": [],
   "source": [
    "\"\"\"\n",
    "The standard AI algorithm of easyAI is Negamax with alpha-beta pruning\n",
    "and (optionnally), transposition tables.\n",
    "\"\"\"\n",
    "\n",
    "LOWERBOUND, EXACT, UPPERBOUND = -1, 0, 1\n",
    "inf = float(\"infinity\")\n",
    "\n",
    "\n",
    "def custom_negamax(game, depth, origDepth, scoring, alpha=+inf, beta=-inf, tt=None):\n",
    "    \"\"\"\n",
    "    This implements Negamax with transposition tables.\n",
    "    This method is not meant to be used directly. See ``easyAI.Negamax``\n",
    "    for an example of practical use.\n",
    "    This function is implemented (almost) according to\n",
    "    http://en.wikipedia.org/wiki/Negamax\n",
    "    \"\"\"\n",
    "\n",
    "    alphaOrig = alpha\n",
    "\n",
    "    # Is there a transposition table and is this game in it ?\n",
    "    lookup = None if (tt is None) else tt.lookup(game)\n",
    "\n",
    "    if lookup is not None:\n",
    "        # The game has been visited in the past\n",
    "\n",
    "        if lookup[\"depth\"] >= depth:\n",
    "            flag, value = lookup[\"flag\"], lookup[\"value\"]\n",
    "            if flag == EXACT:\n",
    "                if depth == origDepth:\n",
    "                    game.ai_move = lookup[\"move\"]\n",
    "                return value\n",
    "            elif flag == LOWERBOUND:\n",
    "                alpha = max(alpha, value)\n",
    "            elif flag == UPPERBOUND:\n",
    "                beta = min(beta, value)\n",
    "\n",
    "            if alpha >= beta:\n",
    "                if depth == origDepth:\n",
    "                    game.ai_move = lookup[\"move\"]\n",
    "                return value\n",
    "\n",
    "    if (depth == 0) or game.is_over():\n",
    "        # NOTE: the \"depth\" variable represents the depth left to recurse into,\n",
    "        # so the smaller it is, the deeper we are in the negamax recursion.\n",
    "        # Here we add 0.001 as a bonus to signify that victories in less turns\n",
    "        # have more value than victories in many turns (and conversely, defeats\n",
    "        # after many turns are preferred over defeats in less turns)\n",
    "        return scoring(game) * (1 + 0.001 * depth)\n",
    "\n",
    "    if lookup is not None:\n",
    "        # Put the supposedly best move first in the list\n",
    "        possible_moves = game.possible_moves()\n",
    "        possible_moves.remove(lookup[\"move\"])\n",
    "        possible_moves = [lookup[\"move\"]] + possible_moves\n",
    "\n",
    "    else:\n",
    "\n",
    "        possible_moves = game.possible_moves()\n",
    "\n",
    "    state = game\n",
    "    best_move = possible_moves[0]\n",
    "    if depth == origDepth:\n",
    "        state.ai_move = possible_moves[0]\n",
    "\n",
    "    bestValue = -inf\n",
    "    unmake_move = hasattr(state, \"unmake_move\")\n",
    "\n",
    "    for move in possible_moves:\n",
    "\n",
    "        if not unmake_move:\n",
    "            game = state.copy()  # re-initialize move\n",
    "\n",
    "        game.make_move(move)\n",
    "        game.switch_player()\n",
    "\n",
    "        move_alpha = -custom_negamax(game, depth - 1, origDepth, scoring, -beta, -alpha, tt)\n",
    "\n",
    "        if unmake_move:\n",
    "            game.switch_player()\n",
    "            game.unmake_move(move)\n",
    "\n",
    "        # bestValue = max( bestValue,  move_alpha )\n",
    "        if bestValue < move_alpha:\n",
    "            bestValue = move_alpha\n",
    "            best_move = move\n",
    "\n",
    "        if alpha < move_alpha:\n",
    "            alpha = move_alpha\n",
    "            # best_move = move\n",
    "            if depth == origDepth:\n",
    "                state.ai_move = move\n",
    "            if alpha >= beta:\n",
    "                break\n",
    "\n",
    "    if tt is not None:\n",
    "\n",
    "        assert best_move in possible_moves\n",
    "        tt.store(\n",
    "            game=state,\n",
    "            depth=depth,\n",
    "            value=bestValue,\n",
    "            move=best_move,\n",
    "            flag=UPPERBOUND\n",
    "            if (bestValue <= alphaOrig)\n",
    "            else (LOWERBOUND if (bestValue >= beta) else EXACT),\n",
    "        )\n",
    "\n",
    "    return bestValue\n",
    "\n",
    "\n",
    "class CustomNegamax:\n",
    "    \"\"\"\n",
    "    This implements Negamax on steroids. The following example shows\n",
    "    how to set up the AI and play a Connect Four game:\n",
    "\n",
    "        >>> from easyAI.games import ConnectFour\n",
    "        >>> from easyAI import Negamax, Human_Player, AI_Player\n",
    "        >>> scoring = lambda game: -100 if game.lose() else 0\n",
    "        >>> ai_algo = Negamax(8, scoring) # AI will think 8 turns in advance\n",
    "        >>> game = ConnectFour([Human_Player(), AI_Player(ai_algo)])\n",
    "        >>> game.play()\n",
    "\n",
    "    Parameters\n",
    "    -----------\n",
    "\n",
    "    depth:\n",
    "      How many moves in advance should the AI think ?\n",
    "      (2 moves = 1 complete turn)\n",
    "\n",
    "    scoring:\n",
    "      A function f(game)-> score. If no scoring is provided\n",
    "         and the game object has a ``scoring`` method it will be used.\n",
    "\n",
    "    win_score:\n",
    "      Score above which the score means a win. This will be\n",
    "        used to speed up computations if provided, but the AI will not\n",
    "        differentiate quick defeats from long-fought ones (see next\n",
    "        section).\n",
    "\n",
    "    tt:\n",
    "      A transposition table (a table storing game states and moves)\n",
    "      scoring: can be none if the game that the AI will be given has a\n",
    "      ``scoring`` method.\n",
    "\n",
    "    Notes\n",
    "    -----\n",
    "\n",
    "    The score of a given game is given by\n",
    "\n",
    "    >>> scoring(current_game) - 0.01*sign*current_depth\n",
    "\n",
    "    for instance if a loss is -100 points, then losing after 4 moves\n",
    "    will score -99.96 points but losing after 8 moves will be -99.92\n",
    "    points. Thus, the AI will choose the move that leads to defeat in\n",
    "    8 turns, which makes it more difficult for the (human) opponent.\n",
    "    This will not always work if a ``win_score`` argument is provided.\n",
    "\n",
    "    \"\"\"\n",
    "\n",
    "    def __init__(self, depth: int, scoring=None, win_score=+inf, tt=None):\n",
    "        self.scoring = scoring\n",
    "        self.depth: int = depth\n",
    "        self.tt = tt\n",
    "        self.win_score = win_score\n",
    "\n",
    "    def __call__(self, game):\n",
    "        \"\"\"\n",
    "        Returns the AI's best move given the current state of the game.\n",
    "        \"\"\"\n",
    "\n",
    "        scoring = (\n",
    "            self.scoring if self.scoring else (lambda g: g.scoring())\n",
    "        )  # horrible hack\n",
    "\n",
    "        self.alpha = custom_negamax(\n",
    "            game,\n",
    "            self.depth,\n",
    "            self.depth,\n",
    "            scoring,\n",
    "            -self.win_score,\n",
    "            +self.win_score,\n",
    "            self.tt,\n",
    "        )\n",
    "        return game.ai_move\n"
   ],
   "metadata": {
    "collapsed": false
   },
   "id": "2b26fbc11b7e6771"
  },
  {
   "cell_type": "markdown",
   "source": [
    "### Expecti-minimax z odcięciem alfa-beta - Deterministic"
   ],
   "metadata": {
    "collapsed": false
   },
   "id": "dff8c69e03cbe84b"
  },
  {
   "cell_type": "code",
   "outputs": [],
   "source": [
    "results: map = map(create_environment(Nim, CustomNegamax, True, tt), config_nim)\n",
    "add_to_dataframe(df, list(results))"
   ],
   "metadata": {
    "collapsed": false
   },
   "id": "d3a5a5def966795c"
  },
  {
   "cell_type": "code",
   "outputs": [],
   "source": [
    "results: map = map(create_environment(Nim, CustomNegamax, False, tt), config_nim)\n",
    "add_to_dataframe(df, list(results))"
   ],
   "metadata": {
    "collapsed": false
   },
   "id": "456649db869b86c8"
  },
  {
   "cell_type": "code",
   "outputs": [],
   "source": [
    "df"
   ],
   "metadata": {
    "collapsed": false
   },
   "id": "612ad93ec2a468e7"
  },
  {
   "cell_type": "markdown",
   "source": [
    "### Expecti-minimax z odcięciem alfa-beta - Non-Deterministic"
   ],
   "metadata": {
    "collapsed": false
   },
   "id": "3e719363abd25b57"
  },
  {
   "cell_type": "code",
   "outputs": [],
   "source": [
    "results: map = map(create_environment(Nimby, CustomNegamax, True, tt), config_nim)\n",
    "add_to_dataframe(df, list(results))"
   ],
   "metadata": {
    "collapsed": false
   },
   "id": "773ada45f15f19f5"
  },
  {
   "cell_type": "code",
   "outputs": [],
   "source": [
    "results: map = map(create_environment(Nimby, CustomNegamax, False, tt), config_nim)\n",
    "add_to_dataframe(df, list(results))"
   ],
   "metadata": {
    "collapsed": false
   },
   "id": "6bd1959b9a799e22"
  },
  {
   "cell_type": "code",
   "outputs": [],
   "source": [
    "df"
   ],
   "metadata": {
    "collapsed": false
   },
   "id": "f87f6d216b1c5425"
  },
  {
   "cell_type": "markdown",
   "source": [
    "### Analysis\n",
    "\n",
    "Added average time spend on computing the move, by all AI players."
   ],
   "metadata": {
    "collapsed": false
   },
   "id": "398340893fdb7297"
  },
  {
   "cell_type": "code",
   "outputs": [],
   "source": [
    "df"
   ],
   "metadata": {
    "collapsed": false
   },
   "id": "56a46be5f2fc1721"
  },
  {
   "cell_type": "code",
   "outputs": [],
   "source": [
    "df['avg_round_time'] = (df['time'] / df['rounds']).astype(np.float32)"
   ],
   "metadata": {
    "collapsed": false
   },
   "id": "fc36cdc6bbcb9899",
   "execution_count": null
  },
  {
   "cell_type": "code",
   "outputs": [],
   "source": [
    "print(f'Total computation time: {df[\"time\"].sum()}s.')\n",
    "print(f'Average computation time: {df[\"avg_round_time\"].mean()}s.')"
   ],
   "metadata": {
    "collapsed": false
   },
   "id": "e83616689de2ae98"
  },
  {
   "cell_type": "code",
   "outputs": [],
   "source": [
    "df"
   ],
   "metadata": {
    "collapsed": false
   },
   "id": "dfb28a1a324bfa5b",
   "execution_count": null
  },
  {
   "cell_type": "code",
   "outputs": [],
   "source": [
    "player1_nim_wins: Final[int] = len(df.where((df['winner'] == 1) & (df['game_variant'] == 'Nim')).dropna())\n",
    "player2_nim_wins: Final[int] = len(df.where((df['winner'] == 2) & (df['game_variant'] == 'Nim')).dropna())"
   ],
   "metadata": {
    "collapsed": false
   },
   "id": "bfe9207c56395e48",
   "execution_count": null
  },
  {
   "cell_type": "code",
   "outputs": [],
   "source": [
    "print(f'Player 1 wins: {player1_nim_wins} times in Nim games.')\n",
    "print(f'Player 2 wins: {player2_nim_wins} times in Nim games.')\n",
    "print(f'Number of performed Nim games: {player1_nim_wins + player2_nim_wins}.')"
   ],
   "metadata": {
    "collapsed": false
   },
   "id": "e6551c6d9d2be19d"
  },
  {
   "cell_type": "code",
   "outputs": [],
   "source": [
    "player1_nimby_wins: Final[int] = len(df.where((df['winner'] == 1) & (df['game_variant'] == 'Nimby')).dropna())\n",
    "player2_nimby_wins: Final[int] = len(df.where((df['winner'] == 2) & (df['game_variant'] == 'Nimby')).dropna())"
   ],
   "metadata": {
    "collapsed": false
   },
   "id": "7f751d56055afc4f",
   "execution_count": null
  },
  {
   "cell_type": "code",
   "outputs": [],
   "source": [
    "print(f'Player 1 wins: {player1_nimby_wins} times in Nimby games.')\n",
    "print(f'Player 2 wins: {player2_nimby_wins} times in Nimby games.')\n",
    "print(f'Number of performed Nimby games: {player1_nimby_wins + player2_nimby_wins}.')"
   ],
   "metadata": {
    "collapsed": false
   },
   "id": "e14a8e4f160d7ae7"
  },
  {
   "cell_type": "code",
   "outputs": [],
   "source": [
    "print(f'Total number of games: {len(df)}.')\n",
    "\n",
    "print(f'Player 1 wins: {player1_nim_wins + player1_nimby_wins} times. Which is {((player1_nim_wins + player1_nimby_wins) / len(df)) * 100:.2f}% of all games.')\n",
    "print(f'Player 2 wins: {player2_nim_wins + player2_nimby_wins} times. Which is {((player2_nim_wins + player2_nimby_wins) / len(df)) * 100:.2f}% of all games.')"
   ],
   "metadata": {
    "collapsed": false
   },
   "id": "4108cb5b2fb6506c"
  },
  {
   "cell_type": "markdown",
   "source": [
    "Save the results to a `.csv` file."
   ],
   "metadata": {
    "collapsed": false
   },
   "id": "cd41533c5c96cb89"
  },
  {
   "cell_type": "code",
   "outputs": [],
   "source": [
    "df.to_csv('results.csv', index=False)"
   ],
   "metadata": {
    "collapsed": false
   },
   "id": "59b04ab53fa909b6"
  }
 ],
 "metadata": {
  "kernelspec": {
   "name": "ioadc",
   "language": "python",
   "display_name": "IOADC"
  },
  "language_info": {
   "codemirror_mode": {
    "name": "ipython",
    "version": 2
   },
   "file_extension": ".py",
   "mimetype": "text/x-python",
   "name": "python",
   "nbconvert_exporter": "python",
   "pygments_lexer": "ipython2",
   "version": "2.7.6"
  }
 },
 "nbformat": 4,
 "nbformat_minor": 5
}
