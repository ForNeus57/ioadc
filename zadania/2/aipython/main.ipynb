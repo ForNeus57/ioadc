{
 "cells": [
  {
   "cell_type": "code",
   "execution_count": 1,
   "metadata": {
    "ExecuteTime": {
     "end_time": "2024-03-11T10:09:42.709899Z",
     "start_time": "2024-03-11T10:09:36.808665Z"
    }
   },
   "outputs": [
    {
     "name": "stdout",
     "output_type": "stream",
     "text": [
      "Collecting numpy\n",
      "  Using cached numpy-1.26.4-cp312-cp312-win_amd64.whl.metadata (61 kB)\n",
      "Using cached numpy-1.26.4-cp312-cp312-win_amd64.whl (15.5 MB)\n",
      "Installing collected packages: numpy\n",
      "Successfully installed numpy-1.26.4\n",
      "Note: you may need to restart the kernel to use updated packages.\n",
      "Collecting pandas\n",
      "  Using cached pandas-2.2.1-cp312-cp312-win_amd64.whl.metadata (19 kB)\n",
      "Requirement already satisfied: numpy<2,>=1.26.0 in c:\\users\\dunge\\desktop\\inteligencja obliczeniowa\\ioadc\\.venv\\lib\\site-packages (from pandas) (1.26.4)\n",
      "Requirement already satisfied: python-dateutil>=2.8.2 in c:\\users\\dunge\\desktop\\inteligencja obliczeniowa\\ioadc\\.venv\\lib\\site-packages (from pandas) (2.9.0.post0)\n",
      "Collecting pytz>=2020.1 (from pandas)\n",
      "  Using cached pytz-2024.1-py2.py3-none-any.whl.metadata (22 kB)\n",
      "Collecting tzdata>=2022.7 (from pandas)\n",
      "  Using cached tzdata-2024.1-py2.py3-none-any.whl.metadata (1.4 kB)\n",
      "Requirement already satisfied: six>=1.5 in c:\\users\\dunge\\desktop\\inteligencja obliczeniowa\\ioadc\\.venv\\lib\\site-packages (from python-dateutil>=2.8.2->pandas) (1.16.0)\n",
      "Using cached pandas-2.2.1-cp312-cp312-win_amd64.whl (11.5 MB)\n",
      "Using cached pytz-2024.1-py2.py3-none-any.whl (505 kB)\n",
      "Using cached tzdata-2024.1-py2.py3-none-any.whl (345 kB)\n",
      "Installing collected packages: pytz, tzdata, pandas\n",
      "Successfully installed pandas-2.2.1 pytz-2024.1 tzdata-2024.1\n",
      "Note: you may need to restart the kernel to use updated packages.\n",
      "Collecting matplotlib\n",
      "  Using cached matplotlib-3.8.3-cp312-cp312-win_amd64.whl.metadata (5.9 kB)\n",
      "Collecting contourpy>=1.0.1 (from matplotlib)\n",
      "  Using cached contourpy-1.2.0-cp312-cp312-win_amd64.whl.metadata (5.8 kB)\n",
      "Collecting cycler>=0.10 (from matplotlib)\n",
      "  Using cached cycler-0.12.1-py3-none-any.whl.metadata (3.8 kB)\n",
      "Collecting fonttools>=4.22.0 (from matplotlib)\n",
      "  Downloading fonttools-4.50.0-cp312-cp312-win_amd64.whl.metadata (162 kB)\n",
      "     ---------------------------------------- 0.0/162.6 kB ? eta -:--:--\n",
      "     -- ------------------------------------- 10.2/162.6 kB ? eta -:--:--\n",
      "     ------ ------------------------------ 30.7/162.6 kB 330.3 kB/s eta 0:00:01\n",
      "     ---------------- -------------------- 71.7/162.6 kB 438.9 kB/s eta 0:00:01\n",
      "     ------------------------------------ 162.6/162.6 kB 891.0 kB/s eta 0:00:00\n",
      "Collecting kiwisolver>=1.3.1 (from matplotlib)\n",
      "  Using cached kiwisolver-1.4.5-cp312-cp312-win_amd64.whl.metadata (6.5 kB)\n",
      "Requirement already satisfied: numpy<2,>=1.21 in c:\\users\\dunge\\desktop\\inteligencja obliczeniowa\\ioadc\\.venv\\lib\\site-packages (from matplotlib) (1.26.4)\n",
      "Requirement already satisfied: packaging>=20.0 in c:\\users\\dunge\\desktop\\inteligencja obliczeniowa\\ioadc\\.venv\\lib\\site-packages (from matplotlib) (24.0)\n",
      "Collecting pillow>=8 (from matplotlib)\n",
      "  Using cached pillow-10.2.0-cp312-cp312-win_amd64.whl.metadata (9.9 kB)\n",
      "Collecting pyparsing>=2.3.1 (from matplotlib)\n",
      "  Downloading pyparsing-3.1.2-py3-none-any.whl.metadata (5.1 kB)\n",
      "Requirement already satisfied: python-dateutil>=2.7 in c:\\users\\dunge\\desktop\\inteligencja obliczeniowa\\ioadc\\.venv\\lib\\site-packages (from matplotlib) (2.9.0.post0)\n",
      "Requirement already satisfied: six>=1.5 in c:\\users\\dunge\\desktop\\inteligencja obliczeniowa\\ioadc\\.venv\\lib\\site-packages (from python-dateutil>=2.7->matplotlib) (1.16.0)\n",
      "Using cached matplotlib-3.8.3-cp312-cp312-win_amd64.whl (7.6 MB)\n",
      "Using cached contourpy-1.2.0-cp312-cp312-win_amd64.whl (187 kB)\n",
      "Using cached cycler-0.12.1-py3-none-any.whl (8.3 kB)\n",
      "Downloading fonttools-4.50.0-cp312-cp312-win_amd64.whl (2.2 MB)\n",
      "   ---------------------------------------- 0.0/2.2 MB ? eta -:--:--\n",
      "   --- ------------------------------------ 0.2/2.2 MB 6.3 MB/s eta 0:00:01\n",
      "   --------- ------------------------------ 0.5/2.2 MB 6.2 MB/s eta 0:00:01\n",
      "   -------------- ------------------------- 0.8/2.2 MB 6.2 MB/s eta 0:00:01\n",
      "   ------------------- -------------------- 1.0/2.2 MB 6.0 MB/s eta 0:00:01\n",
      "   ------------------------ --------------- 1.3/2.2 MB 6.1 MB/s eta 0:00:01\n",
      "   ------------------------------ --------- 1.7/2.2 MB 6.3 MB/s eta 0:00:01\n",
      "   ------------------------------------- -- 2.0/2.2 MB 6.4 MB/s eta 0:00:01\n",
      "   ---------------------------------------- 2.2/2.2 MB 6.0 MB/s eta 0:00:00\n",
      "Using cached kiwisolver-1.4.5-cp312-cp312-win_amd64.whl (56 kB)\n",
      "Using cached pillow-10.2.0-cp312-cp312-win_amd64.whl (2.6 MB)\n",
      "Downloading pyparsing-3.1.2-py3-none-any.whl (103 kB)\n",
      "   ---------------------------------------- 0.0/103.2 kB ? eta -:--:--\n",
      "   ---------------------------------------- 103.2/103.2 kB ? eta 0:00:00\n",
      "Installing collected packages: pyparsing, pillow, kiwisolver, fonttools, cycler, contourpy, matplotlib\n",
      "Successfully installed contourpy-1.2.0 cycler-0.12.1 fonttools-4.50.0 kiwisolver-1.4.5 matplotlib-3.8.3 pillow-10.2.0 pyparsing-3.1.2\n",
      "Note: you may need to restart the kernel to use updated packages.\n"
     ]
    }
   ],
   "source": [
    "%pip install numpy\n",
    "%pip install pandas\n",
    "%pip install matplotlib"
   ]
  },
  {
   "cell_type": "code",
   "execution_count": null,
   "metadata": {},
   "outputs": [],
   "source": [
    "#;;\n",
    "#;; Air cargo transport problem.\n",
    "#;; http://www.inf.unibz.it/~tessaris/teaching/AI_06-07/labs/2007-01-10/planning.html\n",
    "#;;\n",
    "\n",
    "#(define (domain air-cargo)\n",
    "#  (:requirements :strips)\n",
    "#  (:predicates (In ?obj ?place)\n",
    "#           (At ?obj ?place)\n",
    "#           (Cargo ?obj)\n",
    "#           (Plane ?obj)\n",
    "#           (Airport ?obj))\n",
    "\n",
    "#  (:action LOAD\n",
    "#     :parameters (?c ?p ?a)\n",
    "#     :precondition (and (At ?c ?a) (At ?p ?a)\n",
    "#             (Cargo ?c) (Plane ?p) (Airport ?a))\n",
    "#     :effect (and (In ?c ?p) (not (At ?c ?a))))\n",
    "#  \n",
    "#  (:action UNLOAD\n",
    "#     :parameters (?c ?p ?a)\n",
    "#     :precondition (and (In ?c ?p) (At ?p ?a)\n",
    "#             (Cargo ?c) (Plane ?p) (Airport ?a))\n",
    "#     :effect (and (At ?c ?a) (not (In ?c ?p))))\n",
    "#  \n",
    "#  (:action FLY\n",
    "#     :parameters (?p ?from ?to)\n",
    "#     :precondition (and (At ?p ?from)\n",
    "#             (Plane ?p) (Airport ?from) (Airport ?to))\n",
    "#     :effect (and (At ?p ?to) (not (At ?p ?from))))\n",
    "#  )"
   ]
  },
  {
   "cell_type": "code",
   "execution_count": 10,
   "metadata": {
    "ExecuteTime": {
     "end_time": "2024-03-11T10:09:44.014358Z",
     "start_time": "2024-03-11T10:09:44.011702Z"
    }
   },
   "outputs": [],
   "source": [
    "# STRIPS domain - Air Cargo Transportation\n",
    "from stripsProblem import STRIPS_domain, Strips\n",
    "\n",
    "def In(obj, place):\n",
    "    return obj+'_is_in_'+place\n",
    "\n",
    "def At(obj, place):\n",
    "    return obj+\"_is_at_\"+place\n",
    "\n",
    "def Cargo(obj):\n",
    "    return obj+\"_is_cargo\"\n",
    "\n",
    "def Plane(obj):\n",
    "    return obj+\"_is_plane\"\n",
    "\n",
    "def Airport(obj):\n",
    "    return obj+\"_is_airport\"\n",
    "\n",
    "def Load(cargo, plane, airport):\n",
    "    return \"load_\"+cargo+\"_from_\"+airport+\"_to_\"+plane\n",
    "\n",
    "def Unload(cargo, plane, airport):\n",
    "    return \"unload_\"+cargo+\"_from_\"+plane+\"_to_\"+airport\n",
    "\n",
    "def Fly(plane, airport_from, airport_to):\n",
    "    return \"fly_\"+plane+\"_from_\"+airport_from+\"_to_\"+airport_to\n",
    "\n",
    "\n",
    "boolean = {True, False}\n",
    "def create_air_cargo_transportation(cargo={'c1','c2'}, planes={'p1','p2'}, airports={'sfo', 'jfk'}):\n",
    "    #feature_domain_dict = {Cargo(x):True for x in cargo}\n",
    "    #feature_domain_dict.update({Cargo(x):False for x in cargo_storage})\n",
    "    #feature_domain_dict.update({Plane(x):True for x in planes})\n",
    "    #feature_domain_dict.update({Plane(x):False for x in cargo|airports})\n",
    "    #feature_domain_dict.update({Airport(x):True for x in airports})\n",
    "    #feature_domain_dict.update({Airport(x):False for x in cargo|planes})\n",
    "    feature_domain_dict = {In(x, y):boolean for x in cargo for y in planes}\n",
    "    feature_domain_dict.update({At(x, a):boolean for x in planes|cargo for a in airports})\n",
    "\n",
    "\n",
    "    stmap = {Strips(Load(c, p, a), {At(c,a):True, At(p,a):True}, {In(c, p):True, At(c, a):False}) \n",
    "                for c in cargo\n",
    "                for p in planes\n",
    "                for a in airports}\n",
    "    stmap.update({Strips(Unload(c, p, a), {In(c, p):True, At(p, a):True}, {At(c, a):True, In(c, p):False})\n",
    "                  for c in cargo\n",
    "                  for p in planes\n",
    "                  for a in airports})\n",
    "    \n",
    "    stmap.update({Strips(Fly(p, a_from, a_to), {At(p, a_from):True}, {At(p, a_to):True, At(p, a_from):False})\n",
    "                  for p in planes\n",
    "                  for a_from in airports\n",
    "                  for a_to in airports\n",
    "                  if a_from != a_to})\n",
    "    \n",
    "    return STRIPS_domain(feature_domain_dict, stmap)\n",
    "\n",
    "\n",
    "\n",
    "    \n",
    "\n"
   ]
  },
  {
   "cell_type": "code",
   "execution_count": 16,
   "metadata": {},
   "outputs": [],
   "source": [
    "from stripsProblem import Planning_problem, STRIPS_domain\n",
    "# Problem 1\n",
    "\n",
    "air_cargo1dom = create_air_cargo_transportation()\n",
    "\n",
    "air_setup1 = {\n",
    "                At('c1', 'sfo'):True,\n",
    "                At('c1', 'jfk'):False, \n",
    "                At('c2', 'jfk'):True, \n",
    "                At('c2', 'sfo'):False,\n",
    "                At('p1', 'sfo'):True,\n",
    "                At('p1', 'jfk'):False, \n",
    "                At('p2', 'jfk'):True,\n",
    "                At('p2', 'sfo'):False}\n",
    "\n",
    "\n",
    "air_cargo1 = Planning_problem(air_cargo1dom,\n",
    "                              air_setup1, #initial state\n",
    "                               {At('c1', 'jfk'):True, At('c2', 'sfo'):True, At('c1', 'sfo'):False, At('c2', 'jfk'):False}) #goal\n"
   ]
  },
  {
   "cell_type": "code",
   "execution_count": 17,
   "metadata": {},
   "outputs": [
    {
     "ename": "KeyError",
     "evalue": "'c1_is_in_p2'",
     "output_type": "error",
     "traceback": [
      "\u001b[1;31m---------------------------------------------------------------------------\u001b[0m",
      "\u001b[1;31mKeyError\u001b[0m                                  Traceback (most recent call last)",
      "Cell \u001b[1;32mIn[17], line 4\u001b[0m\n\u001b[0;32m      2\u001b[0m \u001b[38;5;28;01mfrom\u001b[39;00m \u001b[38;5;21;01msearchMPP\u001b[39;00m \u001b[38;5;28;01mimport\u001b[39;00m SearcherMPP\n\u001b[0;32m      3\u001b[0m \u001b[38;5;28;01mfrom\u001b[39;00m \u001b[38;5;21;01mstripsForwardPlanner\u001b[39;00m \u001b[38;5;28;01mimport\u001b[39;00m Forward_STRIPS\n\u001b[1;32m----> 4\u001b[0m \u001b[43mSearcherMPP\u001b[49m\u001b[43m(\u001b[49m\u001b[43mForward_STRIPS\u001b[49m\u001b[43m(\u001b[49m\u001b[43mair_cargo1\u001b[49m\u001b[43m)\u001b[49m\u001b[43m)\u001b[49m\u001b[38;5;241;43m.\u001b[39;49m\u001b[43msearch\u001b[49m\u001b[43m(\u001b[49m\u001b[43m)\u001b[49m\n",
      "File \u001b[1;32mc:\\Users\\dunge\\Desktop\\Inteligencja Obliczeniowa\\ioadc\\zadania\\2\\aipython\\searchMPP.py:40\u001b[0m, in \u001b[0;36mSearcherMPP.search\u001b[1;34m(self)\u001b[0m\n\u001b[0;32m     38\u001b[0m \u001b[38;5;28;01melse\u001b[39;00m:\n\u001b[0;32m     39\u001b[0m     \u001b[38;5;28mself\u001b[39m\u001b[38;5;241m.\u001b[39mdisplay(\u001b[38;5;241m4\u001b[39m,\u001b[38;5;124mf\u001b[39m\u001b[38;5;124m\"\u001b[39m\u001b[38;5;124mExpanding: \u001b[39m\u001b[38;5;132;01m{\u001b[39;00m\u001b[38;5;28mself\u001b[39m\u001b[38;5;241m.\u001b[39mpath\u001b[38;5;132;01m}\u001b[39;00m\u001b[38;5;124m (cost: \u001b[39m\u001b[38;5;132;01m{\u001b[39;00m\u001b[38;5;28mself\u001b[39m\u001b[38;5;241m.\u001b[39mpath\u001b[38;5;241m.\u001b[39mcost\u001b[38;5;132;01m}\u001b[39;00m\u001b[38;5;124m)\u001b[39m\u001b[38;5;124m\"\u001b[39m)\n\u001b[1;32m---> 40\u001b[0m     neighs \u001b[38;5;241m=\u001b[39m \u001b[38;5;28;43mself\u001b[39;49m\u001b[38;5;241;43m.\u001b[39;49m\u001b[43mproblem\u001b[49m\u001b[38;5;241;43m.\u001b[39;49m\u001b[43mneighbors\u001b[49m\u001b[43m(\u001b[49m\u001b[38;5;28;43mself\u001b[39;49m\u001b[38;5;241;43m.\u001b[39;49m\u001b[43mpath\u001b[49m\u001b[38;5;241;43m.\u001b[39;49m\u001b[43mend\u001b[49m\u001b[43m(\u001b[49m\u001b[43m)\u001b[49m\u001b[43m)\u001b[49m\n\u001b[0;32m     41\u001b[0m     \u001b[38;5;28mself\u001b[39m\u001b[38;5;241m.\u001b[39mdisplay(\u001b[38;5;241m2\u001b[39m,\u001b[38;5;124mf\u001b[39m\u001b[38;5;124m\"\u001b[39m\u001b[38;5;124mExpanding: \u001b[39m\u001b[38;5;132;01m{\u001b[39;00m\u001b[38;5;28mself\u001b[39m\u001b[38;5;241m.\u001b[39mpath\u001b[38;5;132;01m}\u001b[39;00m\u001b[38;5;124m with neighbors \u001b[39m\u001b[38;5;132;01m{\u001b[39;00mneighs\u001b[38;5;132;01m}\u001b[39;00m\u001b[38;5;124m\"\u001b[39m)\n\u001b[0;32m     42\u001b[0m     \u001b[38;5;28;01mfor\u001b[39;00m arc \u001b[38;5;129;01min\u001b[39;00m neighs:\n",
      "File \u001b[1;32mc:\\Users\\dunge\\Desktop\\Inteligencja Obliczeniowa\\ioadc\\zadania\\2\\aipython\\stripsForwardPlanner.py:62\u001b[0m, in \u001b[0;36mForward_STRIPS.neighbors\u001b[1;34m(self, state)\u001b[0m\n\u001b[0;32m     58\u001b[0m \u001b[38;5;28;01mdef\u001b[39;00m \u001b[38;5;21mneighbors\u001b[39m(\u001b[38;5;28mself\u001b[39m,state):\n\u001b[0;32m     59\u001b[0m \u001b[38;5;250m    \u001b[39m\u001b[38;5;124;03m\"\"\"returns neighbors of state in this problem\"\"\"\u001b[39;00m\n\u001b[0;32m     60\u001b[0m     \u001b[38;5;28;01mreturn\u001b[39;00m [ Arc(state, \u001b[38;5;28mself\u001b[39m\u001b[38;5;241m.\u001b[39meffect(act,state\u001b[38;5;241m.\u001b[39massignment), act\u001b[38;5;241m.\u001b[39mcost, act)\n\u001b[0;32m     61\u001b[0m              \u001b[38;5;28;01mfor\u001b[39;00m act \u001b[38;5;129;01min\u001b[39;00m \u001b[38;5;28mself\u001b[39m\u001b[38;5;241m.\u001b[39mprob_domain\u001b[38;5;241m.\u001b[39mactions\n\u001b[1;32m---> 62\u001b[0m              \u001b[38;5;28;01mif\u001b[39;00m \u001b[38;5;28;43mself\u001b[39;49m\u001b[38;5;241;43m.\u001b[39;49m\u001b[43mpossible\u001b[49m\u001b[43m(\u001b[49m\u001b[43mact\u001b[49m\u001b[43m,\u001b[49m\u001b[43mstate\u001b[49m\u001b[38;5;241;43m.\u001b[39;49m\u001b[43massignment\u001b[49m\u001b[43m)\u001b[49m]\n",
      "File \u001b[1;32mc:\\Users\\dunge\\Desktop\\Inteligencja Obliczeniowa\\ioadc\\zadania\\2\\aipython\\stripsForwardPlanner.py:67\u001b[0m, in \u001b[0;36mForward_STRIPS.possible\u001b[1;34m(self, act, state_asst)\u001b[0m\n\u001b[0;32m     64\u001b[0m \u001b[38;5;28;01mdef\u001b[39;00m \u001b[38;5;21mpossible\u001b[39m(\u001b[38;5;28mself\u001b[39m,act,state_asst):\n\u001b[0;32m     65\u001b[0m \u001b[38;5;250m    \u001b[39m\u001b[38;5;124;03m\"\"\"True if act is possible in state.\u001b[39;00m\n\u001b[0;32m     66\u001b[0m \u001b[38;5;124;03m    act is possible if all of its preconditions have the same value in the state\"\"\"\u001b[39;00m\n\u001b[1;32m---> 67\u001b[0m     \u001b[38;5;28;01mreturn\u001b[39;00m \u001b[38;5;28;43mall\u001b[39;49m\u001b[43m(\u001b[49m\u001b[43mstate_asst\u001b[49m\u001b[43m[\u001b[49m\u001b[43mpre\u001b[49m\u001b[43m]\u001b[49m\u001b[43m \u001b[49m\u001b[38;5;241;43m==\u001b[39;49m\u001b[43m \u001b[49m\u001b[43mact\u001b[49m\u001b[38;5;241;43m.\u001b[39;49m\u001b[43mpreconds\u001b[49m\u001b[43m[\u001b[49m\u001b[43mpre\u001b[49m\u001b[43m]\u001b[49m\n\u001b[0;32m     68\u001b[0m \u001b[43m               \u001b[49m\u001b[38;5;28;43;01mfor\u001b[39;49;00m\u001b[43m \u001b[49m\u001b[43mpre\u001b[49m\u001b[43m \u001b[49m\u001b[38;5;129;43;01min\u001b[39;49;00m\u001b[43m \u001b[49m\u001b[43mact\u001b[49m\u001b[38;5;241;43m.\u001b[39;49m\u001b[43mpreconds\u001b[49m\u001b[43m)\u001b[49m\n",
      "File \u001b[1;32mc:\\Users\\dunge\\Desktop\\Inteligencja Obliczeniowa\\ioadc\\zadania\\2\\aipython\\stripsForwardPlanner.py:67\u001b[0m, in \u001b[0;36m<genexpr>\u001b[1;34m(.0)\u001b[0m\n\u001b[0;32m     64\u001b[0m \u001b[38;5;28;01mdef\u001b[39;00m \u001b[38;5;21mpossible\u001b[39m(\u001b[38;5;28mself\u001b[39m,act,state_asst):\n\u001b[0;32m     65\u001b[0m \u001b[38;5;250m    \u001b[39m\u001b[38;5;124;03m\"\"\"True if act is possible in state.\u001b[39;00m\n\u001b[0;32m     66\u001b[0m \u001b[38;5;124;03m    act is possible if all of its preconditions have the same value in the state\"\"\"\u001b[39;00m\n\u001b[1;32m---> 67\u001b[0m     \u001b[38;5;28;01mreturn\u001b[39;00m \u001b[38;5;28mall\u001b[39m(\u001b[43mstate_asst\u001b[49m\u001b[43m[\u001b[49m\u001b[43mpre\u001b[49m\u001b[43m]\u001b[49m \u001b[38;5;241m==\u001b[39m act\u001b[38;5;241m.\u001b[39mpreconds[pre]\n\u001b[0;32m     68\u001b[0m                \u001b[38;5;28;01mfor\u001b[39;00m pre \u001b[38;5;129;01min\u001b[39;00m act\u001b[38;5;241m.\u001b[39mpreconds)\n",
      "\u001b[1;31mKeyError\u001b[0m: 'c1_is_in_p2'"
     ]
    }
   ],
   "source": [
    "#test\n",
    "from searchMPP import SearcherMPP\n",
    "from stripsForwardPlanner import Forward_STRIPS\n",
    "SearcherMPP(Forward_STRIPS(air_cargo1)).search()"
   ]
  },
  {
   "cell_type": "code",
   "execution_count": 13,
   "metadata": {},
   "outputs": [
    {
     "name": "stdout",
     "output_type": "stream",
     "text": [
      "Solution: {'RLoc': 'lab', 'MW': True, 'SWC': True, 'RHC': False, 'RHM': False}\n",
      "   --mc_lab--> {'RLoc': 'mr', 'MW': True, 'SWC': True, 'RHC': False, 'RHM': False}\n",
      "   --mc_mr--> {'RLoc': 'cs', 'MW': True, 'SWC': True, 'RHC': False, 'RHM': False}\n",
      "   --puc--> {'RLoc': 'cs', 'MW': True, 'SWC': True, 'RHC': True, 'RHM': False}\n",
      "   --mc_cs--> {'RLoc': 'off', 'MW': True, 'SWC': True, 'RHC': True, 'RHM': False}\n",
      "   --dc--> {'RLoc': 'off', 'MW': True, 'SWC': False, 'RHC': False, 'RHM': False} (cost: 5)\n",
      " 13 paths have been expanded and 10 paths remain in the frontier\n"
     ]
    },
    {
     "data": {
      "text/plain": [
       "{'RLoc': 'lab', 'MW': True, 'SWC': True, 'RHC': False, 'RHM': False}\n",
       "   --mc_lab--> {'RLoc': 'mr', 'MW': True, 'SWC': True, 'RHC': False, 'RHM': False}\n",
       "   --mc_mr--> {'RLoc': 'cs', 'MW': True, 'SWC': True, 'RHC': False, 'RHM': False}\n",
       "   --puc--> {'RLoc': 'cs', 'MW': True, 'SWC': True, 'RHC': True, 'RHM': False}\n",
       "   --mc_cs--> {'RLoc': 'off', 'MW': True, 'SWC': True, 'RHC': True, 'RHM': False}\n",
       "   --dc--> {'RLoc': 'off', 'MW': True, 'SWC': False, 'RHC': False, 'RHM': False}"
      ]
     },
     "execution_count": 13,
     "metadata": {},
     "output_type": "execute_result"
    }
   ],
   "source": [
    "# Problem 2\n",
    "import stripsProblem\n",
    "\n",
    "SearcherMPP(Forward_STRIPS(stripsProblem.problem1)).search()"
   ]
  },
  {
   "cell_type": "code",
   "execution_count": null,
   "metadata": {},
   "outputs": [],
   "source": [
    "# Problem 3"
   ]
  }
 ],
 "metadata": {
  "kernelspec": {
   "display_name": ".venv",
   "language": "python",
   "name": "python3"
  },
  "language_info": {
   "codemirror_mode": {
    "name": "ipython",
    "version": 3
   },
   "file_extension": ".py",
   "mimetype": "text/x-python",
   "name": "python",
   "nbconvert_exporter": "python",
   "pygments_lexer": "ipython3",
   "version": "3.12.1"
  }
 },
 "nbformat": 4,
 "nbformat_minor": 2
}
