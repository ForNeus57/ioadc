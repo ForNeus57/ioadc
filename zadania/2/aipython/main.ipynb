{
 "cells": [
  {
   "cell_type": "code",
   "execution_count": 1,
   "metadata": {
    "ExecuteTime": {
     "end_time": "2024-03-11T10:09:42.709899Z",
     "start_time": "2024-03-11T10:09:36.808665Z"
    }
   },
   "outputs": [
    {
     "name": "stdout",
     "output_type": "stream",
     "text": [
      "Collecting numpy\n",
      "  Using cached numpy-1.26.4-cp312-cp312-win_amd64.whl.metadata (61 kB)\n",
      "Using cached numpy-1.26.4-cp312-cp312-win_amd64.whl (15.5 MB)\n",
      "Installing collected packages: numpy\n",
      "Successfully installed numpy-1.26.4\n",
      "Note: you may need to restart the kernel to use updated packages.\n",
      "Collecting pandas\n",
      "  Using cached pandas-2.2.1-cp312-cp312-win_amd64.whl.metadata (19 kB)\n",
      "Requirement already satisfied: numpy<2,>=1.26.0 in c:\\users\\dunge\\desktop\\inteligencja obliczeniowa\\ioadc\\.venv\\lib\\site-packages (from pandas) (1.26.4)\n",
      "Requirement already satisfied: python-dateutil>=2.8.2 in c:\\users\\dunge\\desktop\\inteligencja obliczeniowa\\ioadc\\.venv\\lib\\site-packages (from pandas) (2.9.0.post0)\n",
      "Collecting pytz>=2020.1 (from pandas)\n",
      "  Using cached pytz-2024.1-py2.py3-none-any.whl.metadata (22 kB)\n",
      "Collecting tzdata>=2022.7 (from pandas)\n",
      "  Using cached tzdata-2024.1-py2.py3-none-any.whl.metadata (1.4 kB)\n",
      "Requirement already satisfied: six>=1.5 in c:\\users\\dunge\\desktop\\inteligencja obliczeniowa\\ioadc\\.venv\\lib\\site-packages (from python-dateutil>=2.8.2->pandas) (1.16.0)\n",
      "Using cached pandas-2.2.1-cp312-cp312-win_amd64.whl (11.5 MB)\n",
      "Using cached pytz-2024.1-py2.py3-none-any.whl (505 kB)\n",
      "Using cached tzdata-2024.1-py2.py3-none-any.whl (345 kB)\n",
      "Installing collected packages: pytz, tzdata, pandas\n",
      "Successfully installed pandas-2.2.1 pytz-2024.1 tzdata-2024.1\n",
      "Note: you may need to restart the kernel to use updated packages.\n",
      "Collecting matplotlib\n",
      "  Using cached matplotlib-3.8.3-cp312-cp312-win_amd64.whl.metadata (5.9 kB)\n",
      "Collecting contourpy>=1.0.1 (from matplotlib)\n",
      "  Using cached contourpy-1.2.0-cp312-cp312-win_amd64.whl.metadata (5.8 kB)\n",
      "Collecting cycler>=0.10 (from matplotlib)\n",
      "  Using cached cycler-0.12.1-py3-none-any.whl.metadata (3.8 kB)\n",
      "Collecting fonttools>=4.22.0 (from matplotlib)\n",
      "  Downloading fonttools-4.50.0-cp312-cp312-win_amd64.whl.metadata (162 kB)\n",
      "     ---------------------------------------- 0.0/162.6 kB ? eta -:--:--\n",
      "     -- ------------------------------------- 10.2/162.6 kB ? eta -:--:--\n",
      "     ------ ------------------------------ 30.7/162.6 kB 330.3 kB/s eta 0:00:01\n",
      "     ---------------- -------------------- 71.7/162.6 kB 438.9 kB/s eta 0:00:01\n",
      "     ------------------------------------ 162.6/162.6 kB 891.0 kB/s eta 0:00:00\n",
      "Collecting kiwisolver>=1.3.1 (from matplotlib)\n",
      "  Using cached kiwisolver-1.4.5-cp312-cp312-win_amd64.whl.metadata (6.5 kB)\n",
      "Requirement already satisfied: numpy<2,>=1.21 in c:\\users\\dunge\\desktop\\inteligencja obliczeniowa\\ioadc\\.venv\\lib\\site-packages (from matplotlib) (1.26.4)\n",
      "Requirement already satisfied: packaging>=20.0 in c:\\users\\dunge\\desktop\\inteligencja obliczeniowa\\ioadc\\.venv\\lib\\site-packages (from matplotlib) (24.0)\n",
      "Collecting pillow>=8 (from matplotlib)\n",
      "  Using cached pillow-10.2.0-cp312-cp312-win_amd64.whl.metadata (9.9 kB)\n",
      "Collecting pyparsing>=2.3.1 (from matplotlib)\n",
      "  Downloading pyparsing-3.1.2-py3-none-any.whl.metadata (5.1 kB)\n",
      "Requirement already satisfied: python-dateutil>=2.7 in c:\\users\\dunge\\desktop\\inteligencja obliczeniowa\\ioadc\\.venv\\lib\\site-packages (from matplotlib) (2.9.0.post0)\n",
      "Requirement already satisfied: six>=1.5 in c:\\users\\dunge\\desktop\\inteligencja obliczeniowa\\ioadc\\.venv\\lib\\site-packages (from python-dateutil>=2.7->matplotlib) (1.16.0)\n",
      "Using cached matplotlib-3.8.3-cp312-cp312-win_amd64.whl (7.6 MB)\n",
      "Using cached contourpy-1.2.0-cp312-cp312-win_amd64.whl (187 kB)\n",
      "Using cached cycler-0.12.1-py3-none-any.whl (8.3 kB)\n",
      "Downloading fonttools-4.50.0-cp312-cp312-win_amd64.whl (2.2 MB)\n",
      "   ---------------------------------------- 0.0/2.2 MB ? eta -:--:--\n",
      "   --- ------------------------------------ 0.2/2.2 MB 6.3 MB/s eta 0:00:01\n",
      "   --------- ------------------------------ 0.5/2.2 MB 6.2 MB/s eta 0:00:01\n",
      "   -------------- ------------------------- 0.8/2.2 MB 6.2 MB/s eta 0:00:01\n",
      "   ------------------- -------------------- 1.0/2.2 MB 6.0 MB/s eta 0:00:01\n",
      "   ------------------------ --------------- 1.3/2.2 MB 6.1 MB/s eta 0:00:01\n",
      "   ------------------------------ --------- 1.7/2.2 MB 6.3 MB/s eta 0:00:01\n",
      "   ------------------------------------- -- 2.0/2.2 MB 6.4 MB/s eta 0:00:01\n",
      "   ---------------------------------------- 2.2/2.2 MB 6.0 MB/s eta 0:00:00\n",
      "Using cached kiwisolver-1.4.5-cp312-cp312-win_amd64.whl (56 kB)\n",
      "Using cached pillow-10.2.0-cp312-cp312-win_amd64.whl (2.6 MB)\n",
      "Downloading pyparsing-3.1.2-py3-none-any.whl (103 kB)\n",
      "   ---------------------------------------- 0.0/103.2 kB ? eta -:--:--\n",
      "   ---------------------------------------- 103.2/103.2 kB ? eta 0:00:00\n",
      "Installing collected packages: pyparsing, pillow, kiwisolver, fonttools, cycler, contourpy, matplotlib\n",
      "Successfully installed contourpy-1.2.0 cycler-0.12.1 fonttools-4.50.0 kiwisolver-1.4.5 matplotlib-3.8.3 pillow-10.2.0 pyparsing-3.1.2\n",
      "Note: you may need to restart the kernel to use updated packages.\n"
     ]
    }
   ],
   "source": [
    "%pip install numpy\n",
    "%pip install pandas\n",
    "%pip install matplotlib"
   ]
  },
  {
   "cell_type": "code",
   "execution_count": null,
   "metadata": {},
   "outputs": [],
   "source": [
    "#;;\n",
    "#;; Air cargo transport problem.\n",
    "#;; http://www.inf.unibz.it/~tessaris/teaching/AI_06-07/labs/2007-01-10/planning.html\n",
    "#;;\n",
    "\n",
    "#(define (domain air-cargo)\n",
    "#  (:requirements :strips)\n",
    "#  (:predicates (In ?obj ?place)\n",
    "#           (At ?obj ?place)\n",
    "#           (Cargo ?obj)\n",
    "#           (Plane ?obj)\n",
    "#           (Airport ?obj))\n",
    "\n",
    "#  (:action LOAD\n",
    "#     :parameters (?c ?p ?a)\n",
    "#     :precondition (and (At ?c ?a) (At ?p ?a)\n",
    "#             (Cargo ?c) (Plane ?p) (Airport ?a))\n",
    "#     :effect (and (In ?c ?p) (not (At ?c ?a))))\n",
    "#  \n",
    "#  (:action UNLOAD\n",
    "#     :parameters (?c ?p ?a)\n",
    "#     :precondition (and (In ?c ?p) (At ?p ?a)\n",
    "#             (Cargo ?c) (Plane ?p) (Airport ?a))\n",
    "#     :effect (and (At ?c ?a) (not (In ?c ?p))))\n",
    "#  \n",
    "#  (:action FLY\n",
    "#     :parameters (?p ?from ?to)\n",
    "#     :precondition (and (At ?p ?from)\n",
    "#             (Plane ?p) (Airport ?from) (Airport ?to))\n",
    "#     :effect (and (At ?p ?to) (not (At ?p ?from))))\n",
    "#  )"
   ]
  },
  {
   "cell_type": "code",
   "execution_count": 44,
   "metadata": {
    "ExecuteTime": {
     "end_time": "2024-03-11T10:09:44.014358Z",
     "start_time": "2024-03-11T10:09:44.011702Z"
    }
   },
   "outputs": [],
   "source": [
    "# STRIPS domain - Air Cargo Transportation\n",
    "from stripsProblem import STRIPS_domain, Strips\n",
    "\n",
    "def In(obj):\n",
    "    return obj+'_is_in'\n",
    "\n",
    "def At(obj):\n",
    "    return obj+\"_is_at\"\n",
    "\n",
    "def Cargo(obj):\n",
    "    return obj+\"_is_cargo\"\n",
    "\n",
    "def Plane(obj):\n",
    "    return obj+\"_is_plane\"\n",
    "\n",
    "def Airport(obj):\n",
    "    return obj+\"_is_airport\"\n",
    "\n",
    "def Load(cargo, plane, airport):\n",
    "    return \"load_\"+cargo+\"_from_\"+airport+\"_to_\"+plane\n",
    "\n",
    "def Unload(cargo, plane, airport):\n",
    "    return \"unload_\"+cargo+\"_from_\"+plane+\"_to_\"+airport\n",
    "\n",
    "def Fly(plane, airport_from, airport_to):\n",
    "    return \"fly_\"+plane+\"_from_\"+airport_from+\"_to_\"+airport_to\n",
    "\n",
    "\n",
    "boolean = {True, False}\n",
    "null = {'null'}\n",
    "def create_air_cargo_transportation(cargo={'c1','c2'}, planes={'p1','p2'}, airports={'sfo', 'jfk'}):\n",
    "    #feature_domain_dict = {Cargo(x):True for x in cargo}\n",
    "    #feature_domain_dict.update({Cargo(x):False for x in cargo_storage})\n",
    "    #feature_domain_dict.update({Plane(x):True for x in planes})\n",
    "    #feature_domain_dict.update({Plane(x):False for x in cargo|airports})\n",
    "    #feature_domain_dict.update({Airport(x):True for x in airports})\n",
    "    #feature_domain_dict.update({Airport(x):False for x in cargo|planes})\n",
    "    feature_domain_dict = {In(x):planes|null for x in cargo}\n",
    "    feature_domain_dict.update({At(x):airports|null for x in planes|cargo})\n",
    "\n",
    "\n",
    "    stmap = {Strips(Load(c, p, a), {At(c):a, At(p):a}, {In(c):p, At(c):'null'}) \n",
    "                for c in cargo\n",
    "                for p in planes\n",
    "                for a in airports}\n",
    "    stmap.update({Strips(Unload(c, p, a), {In(c):p, At(p):a}, {At(c):a, In(c):'null'})\n",
    "                  for c in cargo\n",
    "                  for p in planes\n",
    "                  for a in airports})\n",
    "    \n",
    "    stmap.update({Strips(Fly(p, a_from, a_to), {At(p):a_from}, {At(p):a_to})\n",
    "                  for p in planes\n",
    "                  for a_from in airports\n",
    "                  for a_to in airports\n",
    "                  if a_from != a_to})\n",
    "    \n",
    "    return STRIPS_domain(feature_domain_dict, stmap)\n",
    "\n",
    "\n",
    "\n",
    "    \n",
    "\n"
   ]
  },
  {
   "cell_type": "code",
   "execution_count": 45,
   "metadata": {},
   "outputs": [],
   "source": [
    "from stripsProblem import Planning_problem, STRIPS_domain\n",
    "# Problem 1\n",
    "\n",
    "air_cargo1dom = create_air_cargo_transportation()\n",
    "\n",
    "air_setup1 = {\n",
    "                At('c1'):'sfo',\n",
    "                At('c2'):'jfk',\n",
    "                At('p1'):'sfo',\n",
    "                At('p2'):'jfk',\n",
    "                In('c1'):'null',\n",
    "                In('c2'):'null'}\n",
    "\n",
    "\n",
    "air_cargo1 = Planning_problem(air_cargo1dom,\n",
    "                              air_setup1, #initial state\n",
    "                               {At('c1'):'jfk', At('c2'):'sfo', In('c1'):'null', In('c2'):'null'}) #goal\n"
   ]
  },
  {
   "cell_type": "code",
   "execution_count": 46,
   "metadata": {},
   "outputs": [
    {
     "name": "stdout",
     "output_type": "stream",
     "text": [
      "Solution: {'c1_is_at': 'sfo', 'c2_is_at': 'jfk', 'p1_is_at': 'sfo', 'p2_is_at': 'jfk', 'c1_is_in': 'null', 'c2_is_in': 'null'}\n",
      "   --load_c2_from_jfk_to_p2--> {'c1_is_at': 'sfo', 'c2_is_at': 'null', 'p1_is_at': 'sfo', 'p2_is_at': 'jfk', 'c1_is_in': 'null', 'c2_is_in': 'p2'}\n",
      "   --fly_p2_from_jfk_to_sfo--> {'c1_is_at': 'sfo', 'c2_is_at': 'null', 'p1_is_at': 'sfo', 'p2_is_at': 'sfo', 'c1_is_in': 'null', 'c2_is_in': 'p2'}\n",
      "   --load_c1_from_sfo_to_p2--> {'c1_is_at': 'null', 'c2_is_at': 'null', 'p1_is_at': 'sfo', 'p2_is_at': 'sfo', 'c1_is_in': 'p2', 'c2_is_in': 'p2'}\n",
      "   --unload_c2_from_p2_to_sfo--> {'c1_is_at': 'null', 'c2_is_at': 'sfo', 'p1_is_at': 'sfo', 'p2_is_at': 'sfo', 'c1_is_in': 'p2', 'c2_is_in': 'null'}\n",
      "   --fly_p2_from_sfo_to_jfk--> {'c1_is_at': 'null', 'c2_is_at': 'sfo', 'p1_is_at': 'sfo', 'p2_is_at': 'jfk', 'c1_is_in': 'p2', 'c2_is_in': 'null'}\n",
      "   --unload_c1_from_p2_to_jfk--> {'c1_is_at': 'jfk', 'c2_is_at': 'sfo', 'p1_is_at': 'sfo', 'p2_is_at': 'jfk', 'c1_is_in': 'null', 'c2_is_in': 'null'} (cost: 6)\n",
      " 58 paths have been expanded and 55 paths remain in the frontier\n"
     ]
    },
    {
     "data": {
      "text/plain": [
       "{'c1_is_at': 'sfo', 'c2_is_at': 'jfk', 'p1_is_at': 'sfo', 'p2_is_at': 'jfk', 'c1_is_in': 'null', 'c2_is_in': 'null'}\n",
       "   --load_c2_from_jfk_to_p2--> {'c1_is_at': 'sfo', 'c2_is_at': 'null', 'p1_is_at': 'sfo', 'p2_is_at': 'jfk', 'c1_is_in': 'null', 'c2_is_in': 'p2'}\n",
       "   --fly_p2_from_jfk_to_sfo--> {'c1_is_at': 'sfo', 'c2_is_at': 'null', 'p1_is_at': 'sfo', 'p2_is_at': 'sfo', 'c1_is_in': 'null', 'c2_is_in': 'p2'}\n",
       "   --load_c1_from_sfo_to_p2--> {'c1_is_at': 'null', 'c2_is_at': 'null', 'p1_is_at': 'sfo', 'p2_is_at': 'sfo', 'c1_is_in': 'p2', 'c2_is_in': 'p2'}\n",
       "   --unload_c2_from_p2_to_sfo--> {'c1_is_at': 'null', 'c2_is_at': 'sfo', 'p1_is_at': 'sfo', 'p2_is_at': 'sfo', 'c1_is_in': 'p2', 'c2_is_in': 'null'}\n",
       "   --fly_p2_from_sfo_to_jfk--> {'c1_is_at': 'null', 'c2_is_at': 'sfo', 'p1_is_at': 'sfo', 'p2_is_at': 'jfk', 'c1_is_in': 'p2', 'c2_is_in': 'null'}\n",
       "   --unload_c1_from_p2_to_jfk--> {'c1_is_at': 'jfk', 'c2_is_at': 'sfo', 'p1_is_at': 'sfo', 'p2_is_at': 'jfk', 'c1_is_in': 'null', 'c2_is_in': 'null'}"
      ]
     },
     "execution_count": 46,
     "metadata": {},
     "output_type": "execute_result"
    }
   ],
   "source": [
    "#test\n",
    "from searchMPP import SearcherMPP\n",
    "from stripsForwardPlanner import Forward_STRIPS\n",
    "SearcherMPP(Forward_STRIPS(air_cargo1)).search()"
   ]
  },
  {
   "cell_type": "code",
   "execution_count": 13,
   "metadata": {},
   "outputs": [
    {
     "name": "stdout",
     "output_type": "stream",
     "text": [
      "Solution: {'RLoc': 'lab', 'MW': True, 'SWC': True, 'RHC': False, 'RHM': False}\n",
      "   --mc_lab--> {'RLoc': 'mr', 'MW': True, 'SWC': True, 'RHC': False, 'RHM': False}\n",
      "   --mc_mr--> {'RLoc': 'cs', 'MW': True, 'SWC': True, 'RHC': False, 'RHM': False}\n",
      "   --puc--> {'RLoc': 'cs', 'MW': True, 'SWC': True, 'RHC': True, 'RHM': False}\n",
      "   --mc_cs--> {'RLoc': 'off', 'MW': True, 'SWC': True, 'RHC': True, 'RHM': False}\n",
      "   --dc--> {'RLoc': 'off', 'MW': True, 'SWC': False, 'RHC': False, 'RHM': False} (cost: 5)\n",
      " 13 paths have been expanded and 10 paths remain in the frontier\n"
     ]
    },
    {
     "data": {
      "text/plain": [
       "{'RLoc': 'lab', 'MW': True, 'SWC': True, 'RHC': False, 'RHM': False}\n",
       "   --mc_lab--> {'RLoc': 'mr', 'MW': True, 'SWC': True, 'RHC': False, 'RHM': False}\n",
       "   --mc_mr--> {'RLoc': 'cs', 'MW': True, 'SWC': True, 'RHC': False, 'RHM': False}\n",
       "   --puc--> {'RLoc': 'cs', 'MW': True, 'SWC': True, 'RHC': True, 'RHM': False}\n",
       "   --mc_cs--> {'RLoc': 'off', 'MW': True, 'SWC': True, 'RHC': True, 'RHM': False}\n",
       "   --dc--> {'RLoc': 'off', 'MW': True, 'SWC': False, 'RHC': False, 'RHM': False}"
      ]
     },
     "execution_count": 13,
     "metadata": {},
     "output_type": "execute_result"
    }
   ],
   "source": [
    "# Problem 2\n",
    "import stripsProblem\n",
    "\n",
    "SearcherMPP(Forward_STRIPS(stripsProblem.problem1)).search()"
   ]
  },
  {
   "cell_type": "code",
   "execution_count": null,
   "metadata": {},
   "outputs": [],
   "source": [
    "# Problem 3"
   ]
  }
 ],
 "metadata": {
  "kernelspec": {
   "display_name": ".venv",
   "language": "python",
   "name": "python3"
  },
  "language_info": {
   "codemirror_mode": {
    "name": "ipython",
    "version": 3
   },
   "file_extension": ".py",
   "mimetype": "text/x-python",
   "name": "python",
   "nbconvert_exporter": "python",
   "pygments_lexer": "ipython3",
   "version": "3.12.1"
  }
 },
 "nbformat": 4,
 "nbformat_minor": 2
}
