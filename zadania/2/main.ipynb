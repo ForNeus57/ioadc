{
 "cells": [
  {
   "cell_type": "code",
   "execution_count": 1,
   "metadata": {
    "ExecuteTime": {
     "end_time": "2024-03-19T17:49:08.497907Z",
     "start_time": "2024-03-19T17:49:03.083624Z"
    }
   },
   "outputs": [
    {
     "name": "stdout",
     "output_type": "stream",
     "text": [
      "Requirement already satisfied: numpy in c:\\users\\domin\\.conda\\envs\\ioadc\\lib\\site-packages (1.26.4)\n",
      "Note: you may need to restart the kernel to use updated packages.\n",
      "Requirement already satisfied: pandas in c:\\users\\domin\\.conda\\envs\\ioadc\\lib\\site-packages (2.2.1)\n",
      "Requirement already satisfied: numpy<2,>=1.26.0 in c:\\users\\domin\\.conda\\envs\\ioadc\\lib\\site-packages (from pandas) (1.26.4)\n",
      "Requirement already satisfied: python-dateutil>=2.8.2 in c:\\users\\domin\\.conda\\envs\\ioadc\\lib\\site-packages (from pandas) (2.8.2)\n",
      "Requirement already satisfied: pytz>=2020.1 in c:\\users\\domin\\.conda\\envs\\ioadc\\lib\\site-packages (from pandas) (2024.1)\n",
      "Requirement already satisfied: tzdata>=2022.7 in c:\\users\\domin\\.conda\\envs\\ioadc\\lib\\site-packages (from pandas) (2024.1)\n",
      "Requirement already satisfied: six>=1.5 in c:\\users\\domin\\.conda\\envs\\ioadc\\lib\\site-packages (from python-dateutil>=2.8.2->pandas) (1.16.0)\n",
      "Note: you may need to restart the kernel to use updated packages.\n",
      "Requirement already satisfied: matplotlib in c:\\users\\domin\\.conda\\envs\\ioadc\\lib\\site-packages (3.8.3)\n",
      "Requirement already satisfied: contourpy>=1.0.1 in c:\\users\\domin\\appdata\\roaming\\python\\python312\\site-packages (from matplotlib) (1.2.0)\n",
      "Requirement already satisfied: cycler>=0.10 in c:\\users\\domin\\appdata\\roaming\\python\\python312\\site-packages (from matplotlib) (0.12.1)\n",
      "Requirement already satisfied: fonttools>=4.22.0 in c:\\users\\domin\\.conda\\envs\\ioadc\\lib\\site-packages (from matplotlib) (4.49.0)\n",
      "Requirement already satisfied: kiwisolver>=1.3.1 in c:\\users\\domin\\.conda\\envs\\ioadc\\lib\\site-packages (from matplotlib) (1.4.5)\n",
      "Requirement already satisfied: numpy<2,>=1.21 in c:\\users\\domin\\.conda\\envs\\ioadc\\lib\\site-packages (from matplotlib) (1.26.4)\n",
      "Requirement already satisfied: packaging>=20.0 in c:\\users\\domin\\.conda\\envs\\ioadc\\lib\\site-packages (from matplotlib) (23.1)\n",
      "Requirement already satisfied: pillow>=8 in c:\\users\\domin\\.conda\\envs\\ioadc\\lib\\site-packages (from matplotlib) (10.2.0)\n",
      "Requirement already satisfied: pyparsing>=2.3.1 in c:\\users\\domin\\.conda\\envs\\ioadc\\lib\\site-packages (from matplotlib) (3.1.1)\n",
      "Requirement already satisfied: python-dateutil>=2.7 in c:\\users\\domin\\.conda\\envs\\ioadc\\lib\\site-packages (from matplotlib) (2.8.2)\n",
      "Requirement already satisfied: six>=1.5 in c:\\users\\domin\\.conda\\envs\\ioadc\\lib\\site-packages (from python-dateutil>=2.7->matplotlib) (1.16.0)\n",
      "Note: you may need to restart the kernel to use updated packages.\n",
      "Requirement already satisfied: wget in c:\\users\\domin\\.conda\\envs\\ioadc\\lib\\site-packages (3.2)\n",
      "Note: you may need to restart the kernel to use updated packages.\n"
     ]
    }
   ],
   "source": [
    "%pip install numpy\n",
    "%pip install pandas\n",
    "%pip install matplotlib\n",
    "%pip install wget"
   ]
  },
  {
   "cell_type": "code",
   "outputs": [],
   "source": [
    "# Download the library from the following link:\n",
    "# https://artint.info/AIPython/\n",
    "\n",
    "from os.path import exists\n",
    "from pathlib import Path\n",
    "from typing import Final\n",
    "from zipfile import ZipFile\n",
    "\n",
    "from wget import download\n",
    "\n",
    "URL: Final[str] = 'https://artint.info/AIPython/aipython.zip'\n",
    "DESTINATION: Final[Path] = Path('aipython.zip')\n",
    "\n",
    "if not exists(DESTINATION):\n",
    "    download(url=URL, out=DESTINATION.absolute().as_posix())\n",
    "\n",
    "if not exists(DESTINATION.stem):\n",
    "    with ZipFile(DESTINATION, 'r') as zip_ref:\n",
    "        zip_ref.extractall()"
   ],
   "metadata": {
    "collapsed": false,
    "ExecuteTime": {
     "end_time": "2024-03-19T17:49:09.492461Z",
     "start_time": "2024-03-19T17:49:09.486735Z"
    }
   },
   "execution_count": 2
  },
  {
   "cell_type": "code",
   "outputs": [],
   "source": [
    "import sys\n",
    "\n",
    "# Cheat so I don't have to make `aipython` a package with setuptools ....\n",
    "sys.path.append(DESTINATION.stem)"
   ],
   "metadata": {
    "collapsed": false,
    "ExecuteTime": {
     "end_time": "2024-03-19T17:49:17.744864Z",
     "start_time": "2024-03-19T17:49:17.741627Z"
    }
   },
   "execution_count": 3
  },
  {
   "cell_type": "code",
   "execution_count": 4,
   "metadata": {
    "ExecuteTime": {
     "end_time": "2024-03-19T17:49:21.783708Z",
     "start_time": "2024-03-19T17:49:21.780177Z"
    }
   },
   "outputs": [],
   "source": [
    "#;;\n",
    "#;; Air cargo transport problem.\n",
    "#;; http://www.inf.unibz.it/~tessaris/teaching/AI_06-07/labs/2007-01-10/planning.html\n",
    "#;;\n",
    "\n",
    "#(define (domain air-cargo)\n",
    "#  (:requirements :strips)\n",
    "#  (:predicates (In ?obj ?place)\n",
    "#           (At ?obj ?place)\n",
    "#           (Cargo ?obj)\n",
    "#           (Plane ?obj)\n",
    "#           (Airport ?obj))\n",
    "\n",
    "#  (:action LOAD\n",
    "#     :parameters (?c ?p ?a)\n",
    "#     :precondition (and (At ?c ?a) (At ?p ?a)\n",
    "#             (Cargo ?c) (Plane ?p) (Airport ?a))\n",
    "#     :effect (and (In ?c ?p) (not (At ?c ?a))))\n",
    "#  \n",
    "#  (:action UNLOAD\n",
    "#     :parameters (?c ?p ?a)\n",
    "#     :precondition (and (In ?c ?p) (At ?p ?a)\n",
    "#             (Cargo ?c) (Plane ?p) (Airport ?a))\n",
    "#     :effect (and (At ?c ?a) (not (In ?c ?p))))\n",
    "#  \n",
    "#  (:action FLY\n",
    "#     :parameters (?p ?from ?to)\n",
    "#     :precondition (and (At ?p ?from)\n",
    "#             (Plane ?p) (Airport ?from) (Airport ?to))\n",
    "#     :effect (and (At ?p ?to) (not (At ?p ?from))))\n",
    "#  )"
   ]
  },
  {
   "cell_type": "code",
   "execution_count": 5,
   "metadata": {
    "ExecuteTime": {
     "end_time": "2024-03-19T17:49:23.354799Z",
     "start_time": "2024-03-19T17:49:23.344523Z"
    }
   },
   "outputs": [],
   "source": [
    "# STRIPS domain - Air Cargo Transportation\n",
    "from stripsProblem import STRIPS_domain, Strips\n",
    "\n",
    "def In(obj, place):\n",
    "    return obj+'_is_in_'+place\n",
    "\n",
    "def At(obj, place):\n",
    "    return obj+\"_is_at_\"+place\n",
    "\n",
    "def Cargo(obj):\n",
    "    return obj+\"_is_cargo\"\n",
    "\n",
    "def Plane(obj):\n",
    "    return obj+\"_is_plane\"\n",
    "\n",
    "def Airport(obj):\n",
    "    return obj+\"_is_airport\"\n",
    "\n",
    "def Load(cargo, plane, airport):\n",
    "    return \"load_\"+cargo+\"_from_\"+airport+\"_to_\"+plane\n",
    "\n",
    "def Unload(cargo, plane, airport):\n",
    "    return \"unload_\"+cargo+\"_from_\"+plane+\"_to_\"+airport\n",
    "\n",
    "def Fly(plane, airport_from, airport_to):\n",
    "    return \"fly_\"+plane+\"_from_\"+airport_from+\"_to_\"+airport_to\n",
    "\n",
    "\n",
    "boolean = {True, False}\n",
    "def create_air_cargo_transportation(cargo={'c1','c2'}, planes={'p1','p2'}, airports={'sfo', 'jfk'}):\n",
    "    #feature_domain_dict = {Cargo(x):True for x in cargo}\n",
    "    #feature_domain_dict.update({Cargo(x):False for x in cargo_storage})\n",
    "    #feature_domain_dict.update({Plane(x):True for x in planes})\n",
    "    #feature_domain_dict.update({Plane(x):False for x in cargo|airports})\n",
    "    #feature_domain_dict.update({Airport(x):True for x in airports})\n",
    "    #feature_domain_dict.update({Airport(x):False for x in cargo|planes})\n",
    "    feature_domain_dict = {In(x, y):boolean for x in cargo for y in planes}\n",
    "    feature_domain_dict.update({At(x, a):boolean for x in planes|cargo for a in airports})\n",
    "\n",
    "\n",
    "    stmap = {Strips(Load(c, p, a), {At(c,a):True, At(p,a):True}, {In(c, p):True, At(c, a):False}) \n",
    "                for c in cargo\n",
    "                for p in planes\n",
    "                for a in airports}\n",
    "    stmap.update({Strips(Unload(c, p, a), {In(c, p):True, At(p, a):True}, {At(c, a):True, In(c, p):False})\n",
    "                  for c in cargo\n",
    "                  for p in planes\n",
    "                  for a in airports})\n",
    "    \n",
    "    stmap.update({Strips(Fly(p, a_from, a_to), {At(p, a_from):True}, {At(p, a_to):True, At(p, a_from):False})\n",
    "                  for p in planes\n",
    "                  for a_from in airports\n",
    "                  for a_to in airports\n",
    "                  if a_from != a_to})\n",
    "    \n",
    "    return STRIPS_domain(feature_domain_dict, stmap)\n",
    "\n",
    "\n",
    "\n",
    "    \n",
    "\n"
   ]
  },
  {
   "cell_type": "code",
   "execution_count": 6,
   "metadata": {
    "ExecuteTime": {
     "end_time": "2024-03-19T17:49:25.842587Z",
     "start_time": "2024-03-19T17:49:25.839108Z"
    }
   },
   "outputs": [],
   "source": [
    "from stripsProblem import Planning_problem, STRIPS_domain\n",
    "# Problem 1\n",
    "\n",
    "air_cargo1dom = create_air_cargo_transportation()\n",
    "\n",
    "air_setup1 = {\n",
    "                At('c1', 'sfo'):True,\n",
    "                At('c1', 'jfk'):False, \n",
    "                At('c2', 'jfk'):True, \n",
    "                At('c2', 'sfo'):False,\n",
    "                At('p1', 'sfo'):True,\n",
    "                At('p1', 'jfk'):False, \n",
    "                At('p2', 'jfk'):True,\n",
    "                At('p2', 'sfo'):False}\n",
    "\n",
    "\n",
    "air_cargo1 = Planning_problem(air_cargo1dom,\n",
    "                              air_setup1, #initial state\n",
    "                               {At('c1', 'jfk'):True, At('c2', 'sfo'):True, At('c1', 'sfo'):False, At('c2', 'jfk'):False}) #goal\n"
   ]
  },
  {
   "cell_type": "code",
   "execution_count": 7,
   "metadata": {
    "ExecuteTime": {
     "end_time": "2024-03-19T17:49:29.485451Z",
     "start_time": "2024-03-19T17:49:28.593927Z"
    }
   },
   "outputs": [
    {
     "ename": "KeyError",
     "evalue": "'c1_is_in_p2'",
     "output_type": "error",
     "traceback": [
      "\u001B[1;31m---------------------------------------------------------------------------\u001B[0m",
      "\u001B[1;31mKeyError\u001B[0m                                  Traceback (most recent call last)",
      "Cell \u001B[1;32mIn[7], line 4\u001B[0m\n\u001B[0;32m      2\u001B[0m \u001B[38;5;28;01mfrom\u001B[39;00m \u001B[38;5;21;01msearchMPP\u001B[39;00m \u001B[38;5;28;01mimport\u001B[39;00m SearcherMPP\n\u001B[0;32m      3\u001B[0m \u001B[38;5;28;01mfrom\u001B[39;00m \u001B[38;5;21;01mstripsForwardPlanner\u001B[39;00m \u001B[38;5;28;01mimport\u001B[39;00m Forward_STRIPS\n\u001B[1;32m----> 4\u001B[0m SearcherMPP(Forward_STRIPS(air_cargo1))\u001B[38;5;241m.\u001B[39msearch()\n",
      "File \u001B[1;32m~\\PycharmProjects\\ioadc\\zadania\\2\\aipython\\searchMPP.py:40\u001B[0m, in \u001B[0;36mSearcherMPP.search\u001B[1;34m(self)\u001B[0m\n\u001B[0;32m     38\u001B[0m \u001B[38;5;28;01melse\u001B[39;00m:\n\u001B[0;32m     39\u001B[0m     \u001B[38;5;28mself\u001B[39m\u001B[38;5;241m.\u001B[39mdisplay(\u001B[38;5;241m4\u001B[39m,\u001B[38;5;124mf\u001B[39m\u001B[38;5;124m\"\u001B[39m\u001B[38;5;124mExpanding: \u001B[39m\u001B[38;5;132;01m{\u001B[39;00m\u001B[38;5;28mself\u001B[39m\u001B[38;5;241m.\u001B[39mpath\u001B[38;5;132;01m}\u001B[39;00m\u001B[38;5;124m (cost: \u001B[39m\u001B[38;5;132;01m{\u001B[39;00m\u001B[38;5;28mself\u001B[39m\u001B[38;5;241m.\u001B[39mpath\u001B[38;5;241m.\u001B[39mcost\u001B[38;5;132;01m}\u001B[39;00m\u001B[38;5;124m)\u001B[39m\u001B[38;5;124m\"\u001B[39m)\n\u001B[1;32m---> 40\u001B[0m     neighs \u001B[38;5;241m=\u001B[39m \u001B[38;5;28mself\u001B[39m\u001B[38;5;241m.\u001B[39mproblem\u001B[38;5;241m.\u001B[39mneighbors(\u001B[38;5;28mself\u001B[39m\u001B[38;5;241m.\u001B[39mpath\u001B[38;5;241m.\u001B[39mend())\n\u001B[0;32m     41\u001B[0m     \u001B[38;5;28mself\u001B[39m\u001B[38;5;241m.\u001B[39mdisplay(\u001B[38;5;241m2\u001B[39m,\u001B[38;5;124mf\u001B[39m\u001B[38;5;124m\"\u001B[39m\u001B[38;5;124mExpanding: \u001B[39m\u001B[38;5;132;01m{\u001B[39;00m\u001B[38;5;28mself\u001B[39m\u001B[38;5;241m.\u001B[39mpath\u001B[38;5;132;01m}\u001B[39;00m\u001B[38;5;124m with neighbors \u001B[39m\u001B[38;5;132;01m{\u001B[39;00mneighs\u001B[38;5;132;01m}\u001B[39;00m\u001B[38;5;124m\"\u001B[39m)\n\u001B[0;32m     42\u001B[0m     \u001B[38;5;28;01mfor\u001B[39;00m arc \u001B[38;5;129;01min\u001B[39;00m neighs:\n",
      "File \u001B[1;32m~\\PycharmProjects\\ioadc\\zadania\\2\\aipython\\stripsForwardPlanner.py:62\u001B[0m, in \u001B[0;36mForward_STRIPS.neighbors\u001B[1;34m(self, state)\u001B[0m\n\u001B[0;32m     58\u001B[0m \u001B[38;5;28;01mdef\u001B[39;00m \u001B[38;5;21mneighbors\u001B[39m(\u001B[38;5;28mself\u001B[39m,state):\n\u001B[0;32m     59\u001B[0m \u001B[38;5;250m    \u001B[39m\u001B[38;5;124;03m\"\"\"returns neighbors of state in this problem\"\"\"\u001B[39;00m\n\u001B[0;32m     60\u001B[0m     \u001B[38;5;28;01mreturn\u001B[39;00m [ Arc(state, \u001B[38;5;28mself\u001B[39m\u001B[38;5;241m.\u001B[39meffect(act,state\u001B[38;5;241m.\u001B[39massignment), act\u001B[38;5;241m.\u001B[39mcost, act)\n\u001B[0;32m     61\u001B[0m              \u001B[38;5;28;01mfor\u001B[39;00m act \u001B[38;5;129;01min\u001B[39;00m \u001B[38;5;28mself\u001B[39m\u001B[38;5;241m.\u001B[39mprob_domain\u001B[38;5;241m.\u001B[39mactions\n\u001B[1;32m---> 62\u001B[0m              \u001B[38;5;28;01mif\u001B[39;00m \u001B[38;5;28mself\u001B[39m\u001B[38;5;241m.\u001B[39mpossible(act,state\u001B[38;5;241m.\u001B[39massignment)]\n",
      "File \u001B[1;32m~\\PycharmProjects\\ioadc\\zadania\\2\\aipython\\stripsForwardPlanner.py:67\u001B[0m, in \u001B[0;36mForward_STRIPS.possible\u001B[1;34m(self, act, state_asst)\u001B[0m\n\u001B[0;32m     64\u001B[0m \u001B[38;5;28;01mdef\u001B[39;00m \u001B[38;5;21mpossible\u001B[39m(\u001B[38;5;28mself\u001B[39m,act,state_asst):\n\u001B[0;32m     65\u001B[0m \u001B[38;5;250m    \u001B[39m\u001B[38;5;124;03m\"\"\"True if act is possible in state.\u001B[39;00m\n\u001B[0;32m     66\u001B[0m \u001B[38;5;124;03m    act is possible if all of its preconditions have the same value in the state\"\"\"\u001B[39;00m\n\u001B[1;32m---> 67\u001B[0m     \u001B[38;5;28;01mreturn\u001B[39;00m \u001B[38;5;28mall\u001B[39m(state_asst[pre] \u001B[38;5;241m==\u001B[39m act\u001B[38;5;241m.\u001B[39mpreconds[pre]\n\u001B[0;32m     68\u001B[0m                \u001B[38;5;28;01mfor\u001B[39;00m pre \u001B[38;5;129;01min\u001B[39;00m act\u001B[38;5;241m.\u001B[39mpreconds)\n",
      "File \u001B[1;32m~\\PycharmProjects\\ioadc\\zadania\\2\\aipython\\stripsForwardPlanner.py:67\u001B[0m, in \u001B[0;36m<genexpr>\u001B[1;34m(.0)\u001B[0m\n\u001B[0;32m     64\u001B[0m \u001B[38;5;28;01mdef\u001B[39;00m \u001B[38;5;21mpossible\u001B[39m(\u001B[38;5;28mself\u001B[39m,act,state_asst):\n\u001B[0;32m     65\u001B[0m \u001B[38;5;250m    \u001B[39m\u001B[38;5;124;03m\"\"\"True if act is possible in state.\u001B[39;00m\n\u001B[0;32m     66\u001B[0m \u001B[38;5;124;03m    act is possible if all of its preconditions have the same value in the state\"\"\"\u001B[39;00m\n\u001B[1;32m---> 67\u001B[0m     \u001B[38;5;28;01mreturn\u001B[39;00m \u001B[38;5;28mall\u001B[39m(state_asst[pre] \u001B[38;5;241m==\u001B[39m act\u001B[38;5;241m.\u001B[39mpreconds[pre]\n\u001B[0;32m     68\u001B[0m                \u001B[38;5;28;01mfor\u001B[39;00m pre \u001B[38;5;129;01min\u001B[39;00m act\u001B[38;5;241m.\u001B[39mpreconds)\n",
      "\u001B[1;31mKeyError\u001B[0m: 'c1_is_in_p2'"
     ]
    }
   ],
   "source": [
    "#test\n",
    "from searchMPP import SearcherMPP\n",
    "from stripsForwardPlanner import Forward_STRIPS\n",
    "SearcherMPP(Forward_STRIPS(air_cargo1)).search()"
   ]
  },
  {
   "cell_type": "code",
   "execution_count": null,
   "metadata": {},
   "outputs": [],
   "source": [
    "# Problem 2\n",
    "import stripsProblem\n",
    "\n",
    "SearcherMPP(Forward_STRIPS(stripsProblem.problem1)).search()"
   ]
  },
  {
   "cell_type": "code",
   "execution_count": null,
   "metadata": {},
   "outputs": [],
   "source": [
    "# Problem 3"
   ]
  }
 ],
 "metadata": {
  "kernelspec": {
   "name": "ioadc",
   "language": "python",
   "display_name": "IOADC"
  },
  "language_info": {
   "codemirror_mode": {
    "name": "ipython",
    "version": 3
   },
   "file_extension": ".py",
   "mimetype": "text/x-python",
   "name": "python",
   "nbconvert_exporter": "python",
   "pygments_lexer": "ipython3",
   "version": "3.12.1"
  }
 },
 "nbformat": 4,
 "nbformat_minor": 2
}
