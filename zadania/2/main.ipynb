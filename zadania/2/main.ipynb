{
 "cells": [
  {
   "cell_type": "code",
   "execution_count": 1,
   "metadata": {
    "ExecuteTime": {
     "end_time": "2024-03-20T04:59:40.200930Z",
     "start_time": "2024-03-20T04:59:34.791065Z"
    }
   },
   "outputs": [
    {
     "name": "stdout",
     "output_type": "stream",
     "text": [
      "Requirement already satisfied: numpy in c:\\users\\domin\\.conda\\envs\\ioadc\\lib\\site-packages (1.26.4)\n",
      "Note: you may need to restart the kernel to use updated packages.\n",
      "Requirement already satisfied: pandas in c:\\users\\domin\\.conda\\envs\\ioadc\\lib\\site-packages (2.2.1)\n",
      "Requirement already satisfied: numpy<2,>=1.26.0 in c:\\users\\domin\\.conda\\envs\\ioadc\\lib\\site-packages (from pandas) (1.26.4)\n",
      "Requirement already satisfied: python-dateutil>=2.8.2 in c:\\users\\domin\\.conda\\envs\\ioadc\\lib\\site-packages (from pandas) (2.8.2)\n",
      "Requirement already satisfied: pytz>=2020.1 in c:\\users\\domin\\.conda\\envs\\ioadc\\lib\\site-packages (from pandas) (2024.1)\n",
      "Requirement already satisfied: tzdata>=2022.7 in c:\\users\\domin\\.conda\\envs\\ioadc\\lib\\site-packages (from pandas) (2024.1)\n",
      "Requirement already satisfied: six>=1.5 in c:\\users\\domin\\.conda\\envs\\ioadc\\lib\\site-packages (from python-dateutil>=2.8.2->pandas) (1.16.0)\n",
      "Note: you may need to restart the kernel to use updated packages.\n",
      "Requirement already satisfied: matplotlib in c:\\users\\domin\\.conda\\envs\\ioadc\\lib\\site-packages (3.8.3)\n",
      "Requirement already satisfied: contourpy>=1.0.1 in c:\\users\\domin\\appdata\\roaming\\python\\python312\\site-packages (from matplotlib) (1.2.0)\n",
      "Requirement already satisfied: cycler>=0.10 in c:\\users\\domin\\appdata\\roaming\\python\\python312\\site-packages (from matplotlib) (0.12.1)\n",
      "Requirement already satisfied: fonttools>=4.22.0 in c:\\users\\domin\\.conda\\envs\\ioadc\\lib\\site-packages (from matplotlib) (4.49.0)\n",
      "Requirement already satisfied: kiwisolver>=1.3.1 in c:\\users\\domin\\.conda\\envs\\ioadc\\lib\\site-packages (from matplotlib) (1.4.5)\n",
      "Requirement already satisfied: numpy<2,>=1.21 in c:\\users\\domin\\.conda\\envs\\ioadc\\lib\\site-packages (from matplotlib) (1.26.4)\n",
      "Requirement already satisfied: packaging>=20.0 in c:\\users\\domin\\.conda\\envs\\ioadc\\lib\\site-packages (from matplotlib) (23.1)\n",
      "Requirement already satisfied: pillow>=8 in c:\\users\\domin\\.conda\\envs\\ioadc\\lib\\site-packages (from matplotlib) (10.2.0)\n",
      "Requirement already satisfied: pyparsing>=2.3.1 in c:\\users\\domin\\.conda\\envs\\ioadc\\lib\\site-packages (from matplotlib) (3.1.1)\n",
      "Requirement already satisfied: python-dateutil>=2.7 in c:\\users\\domin\\.conda\\envs\\ioadc\\lib\\site-packages (from matplotlib) (2.8.2)\n",
      "Requirement already satisfied: six>=1.5 in c:\\users\\domin\\.conda\\envs\\ioadc\\lib\\site-packages (from python-dateutil>=2.7->matplotlib) (1.16.0)\n",
      "Note: you may need to restart the kernel to use updated packages.\n",
      "Requirement already satisfied: wget in c:\\users\\domin\\.conda\\envs\\ioadc\\lib\\site-packages (3.2)\n",
      "Note: you may need to restart the kernel to use updated packages.\n"
     ]
    }
   ],
   "source": [
    "%pip install numpy\n",
    "%pip install pandas\n",
    "%pip install matplotlib\n",
    "%pip install wget"
   ]
  },
  {
   "cell_type": "code",
   "outputs": [],
   "source": [
    "# Download the library from the following link:\n",
    "# https://artint.info/AIPython/\n",
    "\n",
    "from os.path import exists\n",
    "from pathlib import Path\n",
    "from typing import Final\n",
    "from zipfile import ZipFile\n",
    "\n",
    "from wget import download\n",
    "\n",
    "URL: Final[str] = 'https://artint.info/AIPython/aipython.zip'\n",
    "DESTINATION: Final[Path] = Path('aipython.zip')\n",
    "\n",
    "if not exists(DESTINATION):\n",
    "    download(url=URL, out=DESTINATION.absolute().as_posix())\n",
    "\n",
    "if not exists(DESTINATION.stem):\n",
    "    with ZipFile(DESTINATION, 'r') as zip_ref:\n",
    "        zip_ref.extractall()"
   ],
   "metadata": {
    "collapsed": false,
    "ExecuteTime": {
     "end_time": "2024-03-20T04:59:40.208093Z",
     "start_time": "2024-03-20T04:59:40.202293Z"
    }
   },
   "execution_count": 2
  },
  {
   "cell_type": "code",
   "outputs": [],
   "source": [
    "import sys\n",
    "\n",
    "# Cheat so I don't have to make `aipython` a package with setuptools ....\n",
    "sys.path.append(DESTINATION.stem)"
   ],
   "metadata": {
    "collapsed": false,
    "ExecuteTime": {
     "end_time": "2024-03-20T04:59:40.214900Z",
     "start_time": "2024-03-20T04:59:40.208093Z"
    }
   },
   "execution_count": 3
  },
  {
   "cell_type": "code",
   "outputs": [],
   "source": [
    "from random import seed\n",
    "\n",
    "seed(42)"
   ],
   "metadata": {
    "collapsed": false,
    "ExecuteTime": {
     "end_time": "2024-03-20T04:59:40.221936Z",
     "start_time": "2024-03-20T04:59:40.214900Z"
    }
   },
   "execution_count": 4
  },
  {
   "cell_type": "code",
   "outputs": [],
   "source": [
    "import pandas as pd\n",
    "\n",
    "data: pd.DataFrame = pd.DataFrame(\n",
    "    columns=['problem', 'used_heuristic', 'elapsed_time']\n",
    ")"
   ],
   "metadata": {
    "collapsed": false,
    "ExecuteTime": {
     "end_time": "2024-03-20T04:59:40.591760Z",
     "start_time": "2024-03-20T04:59:40.222940Z"
    }
   },
   "execution_count": 5
  },
  {
   "cell_type": "code",
   "execution_count": 6,
   "metadata": {
    "ExecuteTime": {
     "end_time": "2024-03-20T04:59:40.595251Z",
     "start_time": "2024-03-20T04:59:40.592770Z"
    }
   },
   "outputs": [],
   "source": [
    "#;;\n",
    "#;; Air cargo transport problem.\n",
    "#;; http://www.inf.unibz.it/~tessaris/teaching/AI_06-07/labs/2007-01-10/planning.html\n",
    "#;;\n",
    "\n",
    "#(define (domain air-cargo)\n",
    "#  (:requirements :strips)\n",
    "#  (:predicates (In ?obj ?place)\n",
    "#           (At ?obj ?place)\n",
    "#           (Cargo ?obj)\n",
    "#           (Plane ?obj)\n",
    "#           (Airport ?obj))\n",
    "\n",
    "#  (:action LOAD\n",
    "#     :parameters (?c ?p ?a)\n",
    "#     :precondition (and (At ?c ?a) (At ?p ?a)\n",
    "#             (Cargo ?c) (Plane ?p) (Airport ?a))\n",
    "#     :effect (and (In ?c ?p) (not (At ?c ?a))))\n",
    "#  \n",
    "#  (:action UNLOAD\n",
    "#     :parameters (?c ?p ?a)\n",
    "#     :precondition (and (In ?c ?p) (At ?p ?a)\n",
    "#             (Cargo ?c) (Plane ?p) (Airport ?a))\n",
    "#     :effect (and (At ?c ?a) (not (In ?c ?p))))\n",
    "#  \n",
    "#  (:action FLY\n",
    "#     :parameters (?p ?from ?to)\n",
    "#     :precondition (and (At ?p ?from)\n",
    "#             (Plane ?p) (Airport ?from) (Airport ?to))\n",
    "#     :effect (and (At ?p ?to) (not (At ?p ?from))))\n",
    "#  )"
   ]
  },
  {
   "cell_type": "code",
   "execution_count": 7,
   "metadata": {
    "ExecuteTime": {
     "end_time": "2024-03-20T04:59:40.610042Z",
     "start_time": "2024-03-20T04:59:40.595251Z"
    }
   },
   "outputs": [],
   "source": [
    "# STRIPS domain - Air Cargo Transportation\n",
    "from stripsProblem import Strips\n",
    "\n",
    "def In(obj):\n",
    "    return obj+'_is_in'\n",
    "\n",
    "def At(obj):\n",
    "    return obj+\"_is_at\"\n",
    "\n",
    "def Cargo(obj):\n",
    "    return obj+\"_is_cargo\"\n",
    "\n",
    "def Plane(obj):\n",
    "    return obj+\"_is_plane\"\n",
    "\n",
    "def Airport(obj):\n",
    "    return obj+\"_is_airport\"\n",
    "\n",
    "def Load(cargo, plane, airport):\n",
    "    return \"load_\"+cargo+\"_from_\"+airport+\"_to_\"+plane\n",
    "\n",
    "def Unload(cargo, plane, airport):\n",
    "    return \"unload_\"+cargo+\"_from_\"+plane+\"_to_\"+airport\n",
    "\n",
    "def Fly(plane, airport_from, airport_to):\n",
    "    return \"fly_\"+plane+\"_from_\"+airport_from+\"_to_\"+airport_to\n",
    "\n",
    "\n",
    "boolean = {True, False}\n",
    "null = {'null'}\n",
    "def create_air_cargo_transportation(cargo={'c1','c2'}, planes={'p1','p2'}, airports={'sfo', 'jfk'}):\n",
    "    #feature_domain_dict = {Cargo(x):True for x in cargo}\n",
    "    #feature_domain_dict.update({Cargo(x):False for x in cargo_storage})\n",
    "    #feature_domain_dict.update({Plane(x):True for x in planes})\n",
    "    #feature_domain_dict.update({Plane(x):False for x in cargo|airports})\n",
    "    #feature_domain_dict.update({Airport(x):True for x in airports})\n",
    "    #feature_domain_dict.update({Airport(x):False for x in cargo|planes})\n",
    "    feature_domain_dict = {In(x):planes|null for x in cargo}\n",
    "    feature_domain_dict.update({At(x):airports|null for x in planes|cargo})\n",
    "\n",
    "\n",
    "    stmap = {Strips(Load(c, p, a), {At(c):a, At(p):a}, {In(c):p, At(c):'null'})\n",
    "             for c in cargo\n",
    "             for p in planes\n",
    "             for a in airports}\n",
    "    stmap.update({Strips(Unload(c, p, a), {In(c):p, At(p):a}, {At(c):a, In(c):'null'})\n",
    "                  for c in cargo\n",
    "                  for p in planes\n",
    "                  for a in airports})\n",
    "\n",
    "    stmap.update({Strips(Fly(p, a_from, a_to), {At(p):a_from}, {At(p):a_to})\n",
    "                  for p in planes\n",
    "                  for a_from in airports\n",
    "                  for a_to in airports\n",
    "                  if a_from != a_to})\n",
    "\n",
    "    return STRIPS_domain(feature_domain_dict, stmap)"
   ]
  },
  {
   "cell_type": "code",
   "execution_count": 8,
   "metadata": {
    "ExecuteTime": {
     "end_time": "2024-03-20T04:59:40.616372Z",
     "start_time": "2024-03-20T04:59:40.611051Z"
    }
   },
   "outputs": [],
   "source": [
    "from stripsProblem import Planning_problem, STRIPS_domain\n",
    "# Problem 1\n",
    "\n",
    "air_cargo1dom = create_air_cargo_transportation()\n",
    "\n",
    "air_setup1 = {\n",
    "    At('c1'):'sfo',\n",
    "    At('c2'):'jfk',\n",
    "    At('p1'):'sfo',\n",
    "    At('p2'):'jfk',\n",
    "    In('c1'):'null',\n",
    "    In('c2'):'null'}\n",
    "\n",
    "\n",
    "air_cargo1 = Planning_problem(air_cargo1dom,\n",
    "                              air_setup1, #initial state\n",
    "                              {At('c1'):'jfk', At('c2'):'sfo', In('c1'):'null', In('c2'):'null'}) #goal\n"
   ]
  },
  {
   "cell_type": "code",
   "outputs": [],
   "source": [
    "from time import perf_counter"
   ],
   "metadata": {
    "collapsed": false,
    "ExecuteTime": {
     "end_time": "2024-03-20T04:59:40.623330Z",
     "start_time": "2024-03-20T04:59:40.617382Z"
    }
   },
   "execution_count": 9
  },
  {
   "cell_type": "code",
   "execution_count": 10,
   "metadata": {
    "ExecuteTime": {
     "end_time": "2024-03-20T04:59:40.939034Z",
     "start_time": "2024-03-20T04:59:40.624451Z"
    }
   },
   "outputs": [
    {
     "name": "stdout",
     "output_type": "stream",
     "text": [
      "Problem 1 - No heuristic:\n",
      "Solution: {'c1_is_at': 'sfo', 'c2_is_at': 'jfk', 'p1_is_at': 'sfo', 'p2_is_at': 'jfk', 'c1_is_in': 'null', 'c2_is_in': 'null'}\n",
      "   --load_c2_from_jfk_to_p2--> {'c1_is_at': 'sfo', 'c2_is_at': 'null', 'p1_is_at': 'sfo', 'p2_is_at': 'jfk', 'c1_is_in': 'null', 'c2_is_in': 'p2'}\n",
      "   --fly_p2_from_jfk_to_sfo--> {'c1_is_at': 'sfo', 'c2_is_at': 'null', 'p1_is_at': 'sfo', 'p2_is_at': 'sfo', 'c1_is_in': 'null', 'c2_is_in': 'p2'}\n",
      "   --unload_c2_from_p2_to_sfo--> {'c1_is_at': 'sfo', 'c2_is_at': 'sfo', 'p1_is_at': 'sfo', 'p2_is_at': 'sfo', 'c1_is_in': 'null', 'c2_is_in': 'null'}\n",
      "   --load_c1_from_sfo_to_p2--> {'c1_is_at': 'null', 'c2_is_at': 'sfo', 'p1_is_at': 'sfo', 'p2_is_at': 'sfo', 'c1_is_in': 'p2', 'c2_is_in': 'null'}\n",
      "   --fly_p2_from_sfo_to_jfk--> {'c1_is_at': 'null', 'c2_is_at': 'sfo', 'p1_is_at': 'sfo', 'p2_is_at': 'jfk', 'c1_is_in': 'p2', 'c2_is_in': 'null'}\n",
      "   --unload_c1_from_p2_to_jfk--> {'c1_is_at': 'jfk', 'c2_is_at': 'sfo', 'p1_is_at': 'sfo', 'p2_is_at': 'jfk', 'c1_is_in': 'null', 'c2_is_in': 'null'} (cost: 6)\n",
      " 59 paths have been expanded and 46 paths remain in the frontier\n",
      "Elapsed time: 0.004636 seconds\n"
     ]
    }
   ],
   "source": [
    "#test\n",
    "from searchMPP import SearcherMPP\n",
    "from stripsForwardPlanner import Forward_STRIPS\n",
    "\n",
    "print('Problem 1 - No heuristic:')\n",
    "start: float = perf_counter()\n",
    "SearcherMPP(Forward_STRIPS(air_cargo1)).search()\n",
    "end: float = perf_counter()\n",
    "print(f'Elapsed time: {end - start:.6f} seconds')\n",
    "\n",
    "data.loc[len(data)] = ['Problem 1', 'No', end - start]"
   ]
  },
  {
   "cell_type": "code",
   "outputs": [],
   "source": [
    "def h1(assignment, goal) -> int:\n",
    "    \"\"\"Number of mismatched assignments between assignment and goal.\"\"\"\n",
    "    return sum(1 for k, v in goal.items() if assignment[k] != v)"
   ],
   "metadata": {
    "collapsed": false,
    "ExecuteTime": {
     "end_time": "2024-03-20T04:59:40.943145Z",
     "start_time": "2024-03-20T04:59:40.940040Z"
    }
   },
   "execution_count": 11
  },
  {
   "cell_type": "code",
   "outputs": [
    {
     "name": "stdout",
     "output_type": "stream",
     "text": [
      "Problem 1 - With heuristic:\n",
      "Solution: {'c1_is_at': 'sfo', 'c2_is_at': 'jfk', 'p1_is_at': 'sfo', 'p2_is_at': 'jfk', 'c1_is_in': 'null', 'c2_is_in': 'null'}\n",
      "   --load_c2_from_jfk_to_p2--> {'c1_is_at': 'sfo', 'c2_is_at': 'null', 'p1_is_at': 'sfo', 'p2_is_at': 'jfk', 'c1_is_in': 'null', 'c2_is_in': 'p2'}\n",
      "   --fly_p2_from_jfk_to_sfo--> {'c1_is_at': 'sfo', 'c2_is_at': 'null', 'p1_is_at': 'sfo', 'p2_is_at': 'sfo', 'c1_is_in': 'null', 'c2_is_in': 'p2'}\n",
      "   --unload_c2_from_p2_to_sfo--> {'c1_is_at': 'sfo', 'c2_is_at': 'sfo', 'p1_is_at': 'sfo', 'p2_is_at': 'sfo', 'c1_is_in': 'null', 'c2_is_in': 'null'}\n",
      "   --load_c1_from_sfo_to_p2--> {'c1_is_at': 'null', 'c2_is_at': 'sfo', 'p1_is_at': 'sfo', 'p2_is_at': 'sfo', 'c1_is_in': 'p2', 'c2_is_in': 'null'}\n",
      "   --fly_p2_from_sfo_to_jfk--> {'c1_is_at': 'null', 'c2_is_at': 'sfo', 'p1_is_at': 'sfo', 'p2_is_at': 'jfk', 'c1_is_in': 'p2', 'c2_is_in': 'null'}\n",
      "   --unload_c1_from_p2_to_jfk--> {'c1_is_at': 'jfk', 'c2_is_at': 'sfo', 'p1_is_at': 'sfo', 'p2_is_at': 'jfk', 'c1_is_in': 'null', 'c2_is_in': 'null'} (cost: 6)\n",
      " 16 paths have been expanded and 32 paths remain in the frontier\n",
      "Elapsed time: 0.001209 seconds\n"
     ]
    }
   ],
   "source": [
    "print('Problem 1 - With heuristic:')\n",
    "start: float = perf_counter()\n",
    "SearcherMPP(Forward_STRIPS(air_cargo1, h1)).search()\n",
    "end: float = perf_counter()\n",
    "print(f'Elapsed time: {end - start:.6f} seconds')\n",
    "\n",
    "data.loc[len(data)] = ['Problem 1', 'Yes', end - start]"
   ],
   "metadata": {
    "collapsed": false,
    "ExecuteTime": {
     "end_time": "2024-03-20T04:59:40.955796Z",
     "start_time": "2024-03-20T04:59:40.944293Z"
    }
   },
   "execution_count": 12
  },
  {
   "cell_type": "code",
   "execution_count": 13,
   "metadata": {
    "ExecuteTime": {
     "end_time": "2024-03-20T04:59:40.962575Z",
     "start_time": "2024-03-20T04:59:40.956800Z"
    }
   },
   "outputs": [
    {
     "name": "stdout",
     "output_type": "stream",
     "text": [
      "Problem 2 - No heuristic:\n",
      "Solution: {'RLoc': 'lab', 'MW': True, 'SWC': True, 'RHC': False, 'RHM': False}\n",
      "   --mc_lab--> {'RLoc': 'mr', 'MW': True, 'SWC': True, 'RHC': False, 'RHM': False}\n",
      "   --mc_mr--> {'RLoc': 'cs', 'MW': True, 'SWC': True, 'RHC': False, 'RHM': False}\n",
      "   --puc--> {'RLoc': 'cs', 'MW': True, 'SWC': True, 'RHC': True, 'RHM': False}\n",
      "   --mc_cs--> {'RLoc': 'off', 'MW': True, 'SWC': True, 'RHC': True, 'RHM': False}\n",
      "   --dc--> {'RLoc': 'off', 'MW': True, 'SWC': False, 'RHC': False, 'RHM': False} (cost: 5)\n",
      " 13 paths have been expanded and 10 paths remain in the frontier\n",
      "Elapsed time: 0.001524 seconds\n"
     ]
    }
   ],
   "source": [
    "# Problem 2\n",
    "import stripsProblem\n",
    "\n",
    "print(\"Problem 2 - No heuristic:\")\n",
    "start: float = perf_counter()\n",
    "SearcherMPP(Forward_STRIPS(stripsProblem.problem1)).search()\n",
    "end: float = perf_counter()\n",
    "print(f'Elapsed time: {end - start:.6f} seconds')\n",
    "\n",
    "data.loc[len(data)] = ['Problem 2', 'No', end - start]"
   ]
  },
  {
   "cell_type": "code",
   "outputs": [
    {
     "name": "stdout",
     "output_type": "stream",
     "text": [
      "Problem 2 - With heuristic:\n",
      "Solution: {'RLoc': 'lab', 'MW': True, 'SWC': True, 'RHC': False, 'RHM': False}\n",
      "   --mc_lab--> {'RLoc': 'mr', 'MW': True, 'SWC': True, 'RHC': False, 'RHM': False}\n",
      "   --mc_mr--> {'RLoc': 'cs', 'MW': True, 'SWC': True, 'RHC': False, 'RHM': False}\n",
      "   --puc--> {'RLoc': 'cs', 'MW': True, 'SWC': True, 'RHC': True, 'RHM': False}\n",
      "   --mc_cs--> {'RLoc': 'off', 'MW': True, 'SWC': True, 'RHC': True, 'RHM': False}\n",
      "   --dc--> {'RLoc': 'off', 'MW': True, 'SWC': False, 'RHC': False, 'RHM': False} (cost: 5)\n",
      " 13 paths have been expanded and 10 paths remain in the frontier\n",
      "Elapsed time: 0.000603 seconds\n"
     ]
    }
   ],
   "source": [
    "print(\"Problem 2 - With heuristic:\")\n",
    "start: float = perf_counter()\n",
    "SearcherMPP(Forward_STRIPS(stripsProblem.problem1, h1)).search()\n",
    "end: float = perf_counter()\n",
    "print(f'Elapsed time: {end - start:.6f} seconds')\n",
    "\n",
    "data.loc[len(data)] = ['Problem 2', 'Yes', end - start]"
   ],
   "metadata": {
    "collapsed": false,
    "ExecuteTime": {
     "end_time": "2024-03-20T04:59:40.969997Z",
     "start_time": "2024-03-20T04:59:40.964735Z"
    }
   },
   "execution_count": 14
  },
  {
   "cell_type": "code",
   "execution_count": 15,
   "metadata": {
    "ExecuteTime": {
     "end_time": "2024-03-20T04:59:40.979841Z",
     "start_time": "2024-03-20T04:59:40.971046Z"
    }
   },
   "outputs": [
    {
     "name": "stdout",
     "output_type": "stream",
     "text": [
      "Problem 3 - No heuristic:\n",
      "Solution: {'RLoc': 'lab', 'MW': True, 'SWC': True, 'RHC': False, 'RHM': False}\n",
      "   --mc_lab--> {'RLoc': 'mr', 'MW': True, 'SWC': True, 'RHC': False, 'RHM': False}\n",
      "   --pum--> {'RLoc': 'mr', 'MW': False, 'SWC': True, 'RHC': False, 'RHM': True}\n",
      "   --mc_mr--> {'RLoc': 'cs', 'MW': False, 'SWC': True, 'RHC': False, 'RHM': True}\n",
      "   --puc--> {'RLoc': 'cs', 'MW': False, 'SWC': True, 'RHC': True, 'RHM': True}\n",
      "   --mc_cs--> {'RLoc': 'off', 'MW': False, 'SWC': True, 'RHC': True, 'RHM': True}\n",
      "   --dm--> {'RLoc': 'off', 'MW': False, 'SWC': True, 'RHC': True, 'RHM': False}\n",
      "   --dc--> {'RLoc': 'off', 'MW': False, 'SWC': False, 'RHC': False, 'RHM': False} (cost: 7)\n",
      " 29 paths have been expanded and 16 paths remain in the frontier\n",
      "Elapsed time: 0.001494 seconds\n"
     ]
    }
   ],
   "source": [
    "# Problem 3\n",
    "\n",
    "print(\"Problem 3 - No heuristic:\")\n",
    "start: float = perf_counter()\n",
    "SearcherMPP(Forward_STRIPS(stripsProblem.problem2)).search()\n",
    "end: float = perf_counter()\n",
    "print(f'Elapsed time: {end - start:.6f} seconds')\n",
    "\n",
    "data.loc[len(data)] = ['Problem 3', 'No', end - start]"
   ]
  },
  {
   "cell_type": "code",
   "outputs": [
    {
     "name": "stdout",
     "output_type": "stream",
     "text": [
      "Problem 3 - With heuristic:\n",
      "Solution: {'RLoc': 'lab', 'MW': True, 'SWC': True, 'RHC': False, 'RHM': False}\n",
      "   --mc_lab--> {'RLoc': 'mr', 'MW': True, 'SWC': True, 'RHC': False, 'RHM': False}\n",
      "   --pum--> {'RLoc': 'mr', 'MW': False, 'SWC': True, 'RHC': False, 'RHM': True}\n",
      "   --mc_mr--> {'RLoc': 'cs', 'MW': False, 'SWC': True, 'RHC': False, 'RHM': True}\n",
      "   --mc_cs--> {'RLoc': 'off', 'MW': False, 'SWC': True, 'RHC': False, 'RHM': True}\n",
      "   --dm--> {'RLoc': 'off', 'MW': False, 'SWC': True, 'RHC': False, 'RHM': False}\n",
      "   --mcc_off--> {'RLoc': 'cs', 'MW': False, 'SWC': True, 'RHC': False, 'RHM': False}\n",
      "   --puc--> {'RLoc': 'cs', 'MW': False, 'SWC': True, 'RHC': True, 'RHM': False}\n",
      "   --mc_cs--> {'RLoc': 'off', 'MW': False, 'SWC': True, 'RHC': True, 'RHM': False}\n",
      "   --dc--> {'RLoc': 'off', 'MW': False, 'SWC': False, 'RHC': False, 'RHM': False} (cost: 9)\n",
      " 18 paths have been expanded and 12 paths remain in the frontier\n",
      "Elapsed time: 0.000901 seconds\n"
     ]
    }
   ],
   "source": [
    "print(\"Problem 3 - With heuristic:\")\n",
    "start: float = perf_counter()\n",
    "SearcherMPP(Forward_STRIPS(stripsProblem.problem2, h1)).search()\n",
    "end: float = perf_counter()\n",
    "print(f'Elapsed time: {end - start:.6f} seconds')\n",
    "\n",
    "data.loc[len(data)] = ['Problem 3', 'Yes', end - start]"
   ],
   "metadata": {
    "collapsed": false,
    "ExecuteTime": {
     "end_time": "2024-03-20T04:59:40.988492Z",
     "start_time": "2024-03-20T04:59:40.980899Z"
    }
   },
   "execution_count": 16
  },
  {
   "cell_type": "code",
   "outputs": [
    {
     "data": {
      "text/plain": "     problem used_heuristic  elapsed_time\n0  Problem 1             No      0.004636\n1  Problem 1            Yes      0.001209\n2  Problem 2             No      0.001524\n3  Problem 2            Yes      0.000603\n4  Problem 3             No      0.001494\n5  Problem 3            Yes      0.000901",
      "text/html": "<div>\n<style scoped>\n    .dataframe tbody tr th:only-of-type {\n        vertical-align: middle;\n    }\n\n    .dataframe tbody tr th {\n        vertical-align: top;\n    }\n\n    .dataframe thead th {\n        text-align: right;\n    }\n</style>\n<table border=\"1\" class=\"dataframe\">\n  <thead>\n    <tr style=\"text-align: right;\">\n      <th></th>\n      <th>problem</th>\n      <th>used_heuristic</th>\n      <th>elapsed_time</th>\n    </tr>\n  </thead>\n  <tbody>\n    <tr>\n      <th>0</th>\n      <td>Problem 1</td>\n      <td>No</td>\n      <td>0.004636</td>\n    </tr>\n    <tr>\n      <th>1</th>\n      <td>Problem 1</td>\n      <td>Yes</td>\n      <td>0.001209</td>\n    </tr>\n    <tr>\n      <th>2</th>\n      <td>Problem 2</td>\n      <td>No</td>\n      <td>0.001524</td>\n    </tr>\n    <tr>\n      <th>3</th>\n      <td>Problem 2</td>\n      <td>Yes</td>\n      <td>0.000603</td>\n    </tr>\n    <tr>\n      <th>4</th>\n      <td>Problem 3</td>\n      <td>No</td>\n      <td>0.001494</td>\n    </tr>\n    <tr>\n      <th>5</th>\n      <td>Problem 3</td>\n      <td>Yes</td>\n      <td>0.000901</td>\n    </tr>\n  </tbody>\n</table>\n</div>"
     },
     "execution_count": 17,
     "metadata": {},
     "output_type": "execute_result"
    }
   ],
   "source": [
    "data"
   ],
   "metadata": {
    "collapsed": false,
    "ExecuteTime": {
     "end_time": "2024-03-20T04:59:41.003717Z",
     "start_time": "2024-03-20T04:59:40.988492Z"
    }
   },
   "execution_count": 17
  },
  {
   "cell_type": "code",
   "outputs": [
    {
     "data": {
      "text/plain": "problem            object\nused_heuristic     object\nelapsed_time      float64\ndtype: object"
     },
     "execution_count": 18,
     "metadata": {},
     "output_type": "execute_result"
    }
   ],
   "source": [
    "data.dtypes"
   ],
   "metadata": {
    "collapsed": false,
    "ExecuteTime": {
     "end_time": "2024-03-20T04:59:41.008337Z",
     "start_time": "2024-03-20T04:59:41.004722Z"
    }
   },
   "execution_count": 18
  }
 ],
 "metadata": {
  "kernelspec": {
   "name": "ioadc",
   "language": "python",
   "display_name": "IOADC"
  },
  "language_info": {
   "codemirror_mode": {
    "name": "ipython",
    "version": 3
   },
   "file_extension": ".py",
   "mimetype": "text/x-python",
   "name": "python",
   "nbconvert_exporter": "python",
   "pygments_lexer": "ipython3",
   "version": "3.12.1"
  }
 },
 "nbformat": 4,
 "nbformat_minor": 2
}
