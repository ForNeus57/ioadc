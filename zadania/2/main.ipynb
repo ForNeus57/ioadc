{
 "cells": [
  {
   "cell_type": "code",
   "execution_count": 25,
   "metadata": {
    "ExecuteTime": {
     "end_time": "2024-03-24T18:31:55.266455Z",
     "start_time": "2024-03-24T18:31:50.411634Z"
    }
   },
   "outputs": [
    {
     "name": "stdout",
     "output_type": "stream",
     "text": [
      "Requirement already satisfied: numpy in c:\\users\\domin\\.conda\\envs\\ioadc\\lib\\site-packages (1.26.4)\n",
      "Note: you may need to restart the kernel to use updated packages.\n",
      "Requirement already satisfied: pandas in c:\\users\\domin\\.conda\\envs\\ioadc\\lib\\site-packages (2.2.1)\n",
      "Requirement already satisfied: numpy<2,>=1.26.0 in c:\\users\\domin\\.conda\\envs\\ioadc\\lib\\site-packages (from pandas) (1.26.4)\n",
      "Requirement already satisfied: python-dateutil>=2.8.2 in c:\\users\\domin\\.conda\\envs\\ioadc\\lib\\site-packages (from pandas) (2.8.2)\n",
      "Requirement already satisfied: pytz>=2020.1 in c:\\users\\domin\\.conda\\envs\\ioadc\\lib\\site-packages (from pandas) (2024.1)\n",
      "Requirement already satisfied: tzdata>=2022.7 in c:\\users\\domin\\.conda\\envs\\ioadc\\lib\\site-packages (from pandas) (2024.1)\n",
      "Requirement already satisfied: six>=1.5 in c:\\users\\domin\\.conda\\envs\\ioadc\\lib\\site-packages (from python-dateutil>=2.8.2->pandas) (1.16.0)\n",
      "Note: you may need to restart the kernel to use updated packages.\n",
      "Requirement already satisfied: matplotlib in c:\\users\\domin\\.conda\\envs\\ioadc\\lib\\site-packages (3.8.3)\n",
      "Requirement already satisfied: contourpy>=1.0.1 in c:\\users\\domin\\appdata\\roaming\\python\\python312\\site-packages (from matplotlib) (1.2.0)\n",
      "Requirement already satisfied: cycler>=0.10 in c:\\users\\domin\\appdata\\roaming\\python\\python312\\site-packages (from matplotlib) (0.12.1)\n",
      "Requirement already satisfied: fonttools>=4.22.0 in c:\\users\\domin\\.conda\\envs\\ioadc\\lib\\site-packages (from matplotlib) (4.49.0)\n",
      "Requirement already satisfied: kiwisolver>=1.3.1 in c:\\users\\domin\\.conda\\envs\\ioadc\\lib\\site-packages (from matplotlib) (1.4.5)\n",
      "Requirement already satisfied: numpy<2,>=1.21 in c:\\users\\domin\\.conda\\envs\\ioadc\\lib\\site-packages (from matplotlib) (1.26.4)\n",
      "Requirement already satisfied: packaging>=20.0 in c:\\users\\domin\\.conda\\envs\\ioadc\\lib\\site-packages (from matplotlib) (23.1)\n",
      "Requirement already satisfied: pillow>=8 in c:\\users\\domin\\.conda\\envs\\ioadc\\lib\\site-packages (from matplotlib) (10.2.0)\n",
      "Requirement already satisfied: pyparsing>=2.3.1 in c:\\users\\domin\\.conda\\envs\\ioadc\\lib\\site-packages (from matplotlib) (3.1.1)\n",
      "Requirement already satisfied: python-dateutil>=2.7 in c:\\users\\domin\\.conda\\envs\\ioadc\\lib\\site-packages (from matplotlib) (2.8.2)\n",
      "Requirement already satisfied: six>=1.5 in c:\\users\\domin\\.conda\\envs\\ioadc\\lib\\site-packages (from python-dateutil>=2.7->matplotlib) (1.16.0)\n",
      "Note: you may need to restart the kernel to use updated packages.\n",
      "Requirement already satisfied: wget in c:\\users\\domin\\.conda\\envs\\ioadc\\lib\\site-packages (3.2)\n",
      "Note: you may need to restart the kernel to use updated packages.\n"
     ]
    }
   ],
   "source": [
    "%pip install numpy\n",
    "%pip install pandas\n",
    "%pip install matplotlib\n",
    "%pip install wget"
   ]
  },
  {
   "cell_type": "code",
   "outputs": [],
   "source": [
    "# Download the library from the following link:\n",
    "# https://artint.info/AIPython/\n",
    "\n",
    "from os.path import exists\n",
    "from pathlib import Path\n",
    "from typing import Final\n",
    "from zipfile import ZipFile\n",
    "\n",
    "from wget import download\n",
    "\n",
    "URL: Final[str] = 'https://artint.info/AIPython/aipython.zip'\n",
    "DESTINATION: Final[Path] = Path('aipython.zip')\n",
    "\n",
    "if not exists(DESTINATION):\n",
    "    download(url=URL, out=DESTINATION.absolute().as_posix())\n",
    "\n",
    "if not exists(DESTINATION.stem):\n",
    "    with ZipFile(DESTINATION, 'r') as zip_ref:\n",
    "        zip_ref.extractall(DESTINATION.stem)"
   ],
   "metadata": {
    "collapsed": false,
    "ExecuteTime": {
     "end_time": "2024-03-24T18:31:58.462483Z",
     "start_time": "2024-03-24T18:31:58.458449Z"
    }
   },
   "execution_count": 26
  },
  {
   "cell_type": "code",
   "outputs": [],
   "source": [
    "import sys\n",
    "\n",
    "# Cheat so I don't have to make `aipython` a package with setuptools or move main.ipynb into the `aipython` directory\n",
    "sys.path.append(DESTINATION.stem)"
   ],
   "metadata": {
    "collapsed": false,
    "ExecuteTime": {
     "end_time": "2024-03-24T18:31:59.142259Z",
     "start_time": "2024-03-24T18:31:59.139758Z"
    }
   },
   "execution_count": 27
  },
  {
   "cell_type": "code",
   "outputs": [],
   "source": [
    "import pandas as pd\n",
    "\n",
    "# Makes it easier to transfer data to .tex tables\n",
    "data: pd.DataFrame = pd.DataFrame(\n",
    "    columns=['problem', 'used_heuristic', 'elapsed_time']\n",
    ")"
   ],
   "metadata": {
    "collapsed": false,
    "ExecuteTime": {
     "end_time": "2024-03-24T18:31:59.583933Z",
     "start_time": "2024-03-24T18:31:59.579739Z"
    }
   },
   "execution_count": 28
  },
  {
   "cell_type": "code",
   "execution_count": 29,
   "metadata": {
    "ExecuteTime": {
     "end_time": "2024-03-24T18:32:00.065498Z",
     "start_time": "2024-03-24T18:32:00.062553Z"
    }
   },
   "outputs": [],
   "source": [
    "#;; Air cargo transport problem.\n",
    "#;; http://www.inf.unibz.it/~tessaris/teaching/AI_06-07/labs/2007-01-10/planning.html\n",
    "#;;\n",
    "\n",
    "#(define (domain air-cargo)\n",
    "#  (:requirements :strips)\n",
    "#  (:predicates (In ?obj ?place)\n",
    "#           (At ?obj ?place)\n",
    "#           (Cargo ?obj)\n",
    "#           (Plane ?obj)\n",
    "#           (Airport ?obj))\n",
    "\n",
    "#  (:action LOAD\n",
    "#     :parameters (?c ?p ?a)\n",
    "#     :precondition (and (At ?c ?a) (At ?p ?a)\n",
    "#             (Cargo ?c) (Plane ?p) (Airport ?a))\n",
    "#     :effect (and (In ?c ?p) (not (At ?c ?a))))\n",
    "#  \n",
    "#  (:action UNLOAD\n",
    "#     :parameters (?c ?p ?a)\n",
    "#     :precondition (and (In ?c ?p) (At ?p ?a)\n",
    "#             (Cargo ?c) (Plane ?p) (Airport ?a))\n",
    "#     :effect (and (At ?c ?a) (not (In ?c ?p))))\n",
    "#  \n",
    "#  (:action FLY\n",
    "#     :parameters (?p ?from ?to)\n",
    "#     :precondition (and (At ?p ?from)\n",
    "#             (Plane ?p) (Airport ?from) (Airport ?to))\n",
    "#     :effect (and (At ?p ?to) (not (At ?p ?from))))\n",
    "#  )"
   ]
  },
  {
   "cell_type": "code",
   "execution_count": 30,
   "metadata": {
    "ExecuteTime": {
     "end_time": "2024-03-24T18:32:01.005812Z",
     "start_time": "2024-03-24T18:32:00.998477Z"
    }
   },
   "outputs": [],
   "source": [
    "# STRIPS domain - Air Cargo Transportation\n",
    "from stripsProblem import Strips, STRIPS_domain, Planning_problem\n",
    "\n",
    "def In(obj: str) -> str:\n",
    "    return obj + '_is_in'\n",
    "\n",
    "def At(obj: str) -> str:\n",
    "    return obj + '_is_at'\n",
    "\n",
    "def Cargo(obj: str) -> str:\n",
    "    return obj + '_is_cargo'\n",
    "\n",
    "def Plane(obj: str) -> str:\n",
    "    return obj + '_is_plane'\n",
    "\n",
    "def Airport(obj: str) -> str:\n",
    "    return obj + '_is_airport'\n",
    "\n",
    "def Load(cargo: str, plane: str, airport: str) -> str:\n",
    "    return 'load_' + cargo + '_from_' + airport + '_to_' + plane\n",
    "\n",
    "def Unload(cargo: str, plane: str, airport: str) -> str:\n",
    "    return 'unload_' + cargo + '_from_' + plane + '_to_' + airport\n",
    "\n",
    "def Fly(plane: str, airport_from: str, airport_to: str) -> str:\n",
    "    return 'fly_' + plane + '_from_' + airport_from + '_to_' + airport_to\n",
    "\n",
    "\n",
    "null: set[str] = {'null'}\n",
    "def create_air_cargo_transportation(cargo: set[str], planes: set[str], airports: set[str], cargo_forbidden_airports: dict[str, set[str]], planes_forbidden_airports: dict[str, set[str]]) -> STRIPS_domain:\n",
    "    assert len(cargo) > 0, \"Cargo set must not be empty.\"\n",
    "    assert len(planes) > 0, \"Planes set must not be empty.\"\n",
    "    assert len(airports) > 0, \"Airports set must not be empty.\"\n",
    "    \n",
    "    assert all(c in cargo_forbidden_airports for c in cargo), \"All cargo must have a forbidden airports set that may or may not be empty.\"\n",
    "    assert all(p in planes_forbidden_airports for p in planes), \"All planes must have a forbidden airports set that may or may not be empty.\"\n",
    "    \n",
    "    #feature_domain_dict = {Cargo(x):True for x in cargo}\n",
    "    #feature_domain_dict.update({Cargo(x):False for x in cargo_storage})\n",
    "    #feature_domain_dict.update({Plane(x):True for x in planes})\n",
    "    #feature_domain_dict.update({Plane(x):False for x in cargo|airports})\n",
    "    #feature_domain_dict.update({Airport(x):True for x in airports})\n",
    "    #feature_domain_dict.update({Airport(x):False for x in cargo|planes})\n",
    "    feature_domain_dict: dict[str, set[str]] = {In(x): planes | null\n",
    "                                                for x in cargo}\n",
    "    feature_domain_dict.update({At(x): (airports - (cargo_forbidden_airports | planes_forbidden_airports)[x]) | null\n",
    "                                for x in planes | cargo})\n",
    "\n",
    "\n",
    "    state_map: set[Strips] = {Strips(Load(c, p, a), {At(c): a, At(p): a}, {In(c): p, At(c): 'null'})\n",
    "                              for c in cargo\n",
    "                              for p in planes\n",
    "                              for a in airports}\n",
    "\n",
    "    state_map.update({Strips(Unload(c, p, a), {In(c): p, At(p): a}, {At(c): a, In(c): 'null'})\n",
    "                      for c in cargo\n",
    "                      for p in planes\n",
    "                      for a in airports\n",
    "                      if a not in cargo_forbidden_airports[c]})\n",
    "\n",
    "    state_map.update({Strips(Fly(p, a_from, a_to), {At(p): a_from}, {At(p): a_to})\n",
    "                      for p in planes\n",
    "                      for a_from in airports\n",
    "                      for a_to in airports\n",
    "                      if a_from != a_to and a_to not in planes_forbidden_airports[p]})\n",
    "\n",
    "    return STRIPS_domain(feature_domain_dict, state_map)"
   ]
  },
  {
   "cell_type": "code",
   "execution_count": 31,
   "metadata": {
    "ExecuteTime": {
     "end_time": "2024-03-24T18:32:01.582360Z",
     "start_time": "2024-03-24T18:32:01.577629Z"
    }
   },
   "outputs": [],
   "source": [
    "# Domain\n",
    "air_cargo1dom: STRIPS_domain = create_air_cargo_transportation(\n",
    "    cargo={'c1', 'c2', 'c3', 'c4', 'c5'},\n",
    "    planes={'p1', 'p2',},\n",
    "    airports={'sfo', 'jfk', 'lax',},\n",
    "    cargo_forbidden_airports={'c1': set(), 'c2': set(), 'c3': set(), 'c4': set(), 'c5': set(),},\n",
    "    planes_forbidden_airports={'p1': {'lax'}, 'p2': set(),},\n",
    ")\n",
    "\n",
    "# Initial state\n",
    "air_setup1: dict[str, str] = {\n",
    "    At('c1'): 'sfo',\n",
    "    At('c2'): 'jfk',\n",
    "    At('c3'): 'lax',\n",
    "    At('c4'): 'jfk',\n",
    "    At('c5'): 'lax',\n",
    "    \n",
    "    At('p1'): 'sfo',\n",
    "    At('p2'): 'jfk',\n",
    "    \n",
    "    # Airplanes start loaded with cargo to make the problem easier\n",
    "    In('c1'): 'p1',\n",
    "    In('c2'): 'p2',\n",
    "    In('c3'): 'null',\n",
    "    In('c4'): 'null',\n",
    "    In('c5'): 'null',\n",
    "}\n",
    "\n",
    "# Goal state\n",
    "air_goal1: dict[str, str] = {\n",
    "    At('c1'): 'jfk',\n",
    "    At('c2'): 'sfo',\n",
    "    At('c3'): 'sfo',\n",
    "    At('c4'): 'lax',\n",
    "    At('c5'): 'sfo',\n",
    "\n",
    "    In('c1'): 'null',\n",
    "    In('c2'): 'null',\n",
    "    In('c3'): 'null',\n",
    "    In('c4'): 'null',\n",
    "    In('c5'): 'null',\n",
    "}\n",
    "\n",
    "air_cargo1: Planning_problem = Planning_problem(air_cargo1dom, air_setup1, air_goal1)"
   ]
  },
  {
   "cell_type": "code",
   "execution_count": 32,
   "metadata": {
    "ExecuteTime": {
     "end_time": "2024-03-24T18:34:46.177358Z",
     "start_time": "2024-03-24T18:32:02.125858Z"
    }
   },
   "outputs": [
    {
     "name": "stdout",
     "output_type": "stream",
     "text": [
      "Problem 1 - No heuristic:\n",
      "Solution: {'c1_is_at': 'sfo', 'c2_is_at': 'jfk', 'c3_is_at': 'lax', 'c4_is_at': 'jfk', 'c5_is_at': 'lax', 'p1_is_at': 'sfo', 'p2_is_at': 'jfk', 'c1_is_in': 'p1', 'c2_is_in': 'p2', 'c3_is_in': 'null', 'c4_is_in': 'null', 'c5_is_in': 'null'}\n",
      "   --load_c4_from_jfk_to_p2--> {'c1_is_at': 'sfo', 'c2_is_at': 'jfk', 'c3_is_at': 'lax', 'c4_is_at': 'null', 'c5_is_at': 'lax', 'p1_is_at': 'sfo', 'p2_is_at': 'jfk', 'c1_is_in': 'p1', 'c2_is_in': 'p2', 'c3_is_in': 'null', 'c4_is_in': 'p2', 'c5_is_in': 'null'}\n",
      "   --fly_p2_from_jfk_to_lax--> {'c1_is_at': 'sfo', 'c2_is_at': 'jfk', 'c3_is_at': 'lax', 'c4_is_at': 'null', 'c5_is_at': 'lax', 'p1_is_at': 'sfo', 'p2_is_at': 'lax', 'c1_is_in': 'p1', 'c2_is_in': 'p2', 'c3_is_in': 'null', 'c4_is_in': 'p2', 'c5_is_in': 'null'}\n",
      "   --unload_c4_from_p2_to_lax--> {'c1_is_at': 'sfo', 'c2_is_at': 'jfk', 'c3_is_at': 'lax', 'c4_is_at': 'lax', 'c5_is_at': 'lax', 'p1_is_at': 'sfo', 'p2_is_at': 'lax', 'c1_is_in': 'p1', 'c2_is_in': 'p2', 'c3_is_in': 'null', 'c4_is_in': 'null', 'c5_is_in': 'null'}\n",
      "   --load_c5_from_lax_to_p2--> {'c1_is_at': 'sfo', 'c2_is_at': 'jfk', 'c3_is_at': 'lax', 'c4_is_at': 'lax', 'c5_is_at': 'null', 'p1_is_at': 'sfo', 'p2_is_at': 'lax', 'c1_is_in': 'p1', 'c2_is_in': 'p2', 'c3_is_in': 'null', 'c4_is_in': 'null', 'c5_is_in': 'p2'}\n",
      "   --load_c3_from_lax_to_p2--> {'c1_is_at': 'sfo', 'c2_is_at': 'jfk', 'c3_is_at': 'null', 'c4_is_at': 'lax', 'c5_is_at': 'null', 'p1_is_at': 'sfo', 'p2_is_at': 'lax', 'c1_is_in': 'p1', 'c2_is_in': 'p2', 'c3_is_in': 'p2', 'c4_is_in': 'null', 'c5_is_in': 'p2'}\n",
      "   --fly_p2_from_lax_to_sfo--> {'c1_is_at': 'sfo', 'c2_is_at': 'jfk', 'c3_is_at': 'null', 'c4_is_at': 'lax', 'c5_is_at': 'null', 'p1_is_at': 'sfo', 'p2_is_at': 'sfo', 'c1_is_in': 'p1', 'c2_is_in': 'p2', 'c3_is_in': 'p2', 'c4_is_in': 'null', 'c5_is_in': 'p2'}\n",
      "   --unload_c3_from_p2_to_sfo--> {'c1_is_at': 'sfo', 'c2_is_at': 'jfk', 'c3_is_at': 'sfo', 'c4_is_at': 'lax', 'c5_is_at': 'null', 'p1_is_at': 'sfo', 'p2_is_at': 'sfo', 'c1_is_in': 'p1', 'c2_is_in': 'p2', 'c3_is_in': 'null', 'c4_is_in': 'null', 'c5_is_in': 'p2'}\n",
      "   --fly_p1_from_sfo_to_jfk--> {'c1_is_at': 'sfo', 'c2_is_at': 'jfk', 'c3_is_at': 'sfo', 'c4_is_at': 'lax', 'c5_is_at': 'null', 'p1_is_at': 'jfk', 'p2_is_at': 'sfo', 'c1_is_in': 'p1', 'c2_is_in': 'p2', 'c3_is_in': 'null', 'c4_is_in': 'null', 'c5_is_in': 'p2'}\n",
      "   --unload_c2_from_p2_to_sfo--> {'c1_is_at': 'sfo', 'c2_is_at': 'sfo', 'c3_is_at': 'sfo', 'c4_is_at': 'lax', 'c5_is_at': 'null', 'p1_is_at': 'jfk', 'p2_is_at': 'sfo', 'c1_is_in': 'p1', 'c2_is_in': 'null', 'c3_is_in': 'null', 'c4_is_in': 'null', 'c5_is_in': 'p2'}\n",
      "   --unload_c1_from_p1_to_jfk--> {'c1_is_at': 'jfk', 'c2_is_at': 'sfo', 'c3_is_at': 'sfo', 'c4_is_at': 'lax', 'c5_is_at': 'null', 'p1_is_at': 'jfk', 'p2_is_at': 'sfo', 'c1_is_in': 'null', 'c2_is_in': 'null', 'c3_is_in': 'null', 'c4_is_in': 'null', 'c5_is_in': 'p2'}\n",
      "   --unload_c5_from_p2_to_sfo--> {'c1_is_at': 'jfk', 'c2_is_at': 'sfo', 'c3_is_at': 'sfo', 'c4_is_at': 'lax', 'c5_is_at': 'sfo', 'p1_is_at': 'jfk', 'p2_is_at': 'sfo', 'c1_is_in': 'null', 'c2_is_in': 'null', 'c3_is_in': 'null', 'c4_is_in': 'null', 'c5_is_in': 'null'} (cost: 11)\n",
      " 16915 paths have been expanded and 39953 paths remain in the frontier\n",
      "Elapsed time: 164.047016 seconds\n"
     ]
    }
   ],
   "source": [
    "from time import perf_counter\n",
    "\n",
    "from searchMPP import SearcherMPP\n",
    "from stripsForwardPlanner import Forward_STRIPS\n",
    "\n",
    "# Problem 1\n",
    "# Problem idea: We have many more cargo to send than planes, and the planes are not allowed to go to certain airports.\n",
    "print('Problem 1 - No heuristic:')\n",
    "\n",
    "start: float = perf_counter()\n",
    "SearcherMPP(Forward_STRIPS(air_cargo1)).search()\n",
    "end: float = perf_counter()\n",
    "\n",
    "print(f'Elapsed time: {end - start:.6f} seconds')\n",
    "\n",
    "data.loc[len(data)] = ['Problem 1', False, end - start]"
   ]
  },
  {
   "cell_type": "code",
   "outputs": [],
   "source": [
    "def h_unloaded_cargo(assignment, goal):\n",
    "    \"\"\"This heuristic counts the number of cargo that are not yet at their goal location. The idea is that the more cargo that are not at their goal, the further away we are from the goal state.\"\"\"\n",
    "    return sum(1 for k, v in goal.items() if assignment[k] != v and '_is_in' in k)"
   ],
   "metadata": {
    "collapsed": false,
    "ExecuteTime": {
     "end_time": "2024-03-24T18:34:46.184509Z",
     "start_time": "2024-03-24T18:34:46.180474Z"
    }
   },
   "execution_count": 33
  },
  {
   "cell_type": "code",
   "outputs": [
    {
     "name": "stdout",
     "output_type": "stream",
     "text": [
      "Problem 1 - With heuristic:\n",
      "Solution: {'c1_is_at': 'sfo', 'c2_is_at': 'jfk', 'c3_is_at': 'lax', 'c4_is_at': 'jfk', 'c5_is_at': 'lax', 'p1_is_at': 'sfo', 'p2_is_at': 'jfk', 'c1_is_in': 'p1', 'c2_is_in': 'p2', 'c3_is_in': 'null', 'c4_is_in': 'null', 'c5_is_in': 'null'}\n",
      "   --load_c4_from_jfk_to_p2--> {'c1_is_at': 'sfo', 'c2_is_at': 'jfk', 'c3_is_at': 'lax', 'c4_is_at': 'null', 'c5_is_at': 'lax', 'p1_is_at': 'sfo', 'p2_is_at': 'jfk', 'c1_is_in': 'p1', 'c2_is_in': 'p2', 'c3_is_in': 'null', 'c4_is_in': 'p2', 'c5_is_in': 'null'}\n",
      "   --fly_p2_from_jfk_to_lax--> {'c1_is_at': 'sfo', 'c2_is_at': 'jfk', 'c3_is_at': 'lax', 'c4_is_at': 'null', 'c5_is_at': 'lax', 'p1_is_at': 'sfo', 'p2_is_at': 'lax', 'c1_is_in': 'p1', 'c2_is_in': 'p2', 'c3_is_in': 'null', 'c4_is_in': 'p2', 'c5_is_in': 'null'}\n",
      "   --load_c3_from_lax_to_p2--> {'c1_is_at': 'sfo', 'c2_is_at': 'jfk', 'c3_is_at': 'null', 'c4_is_at': 'null', 'c5_is_at': 'lax', 'p1_is_at': 'sfo', 'p2_is_at': 'lax', 'c1_is_in': 'p1', 'c2_is_in': 'p2', 'c3_is_in': 'p2', 'c4_is_in': 'p2', 'c5_is_in': 'null'}\n",
      "   --load_c5_from_lax_to_p2--> {'c1_is_at': 'sfo', 'c2_is_at': 'jfk', 'c3_is_at': 'null', 'c4_is_at': 'null', 'c5_is_at': 'null', 'p1_is_at': 'sfo', 'p2_is_at': 'lax', 'c1_is_in': 'p1', 'c2_is_in': 'p2', 'c3_is_in': 'p2', 'c4_is_in': 'p2', 'c5_is_in': 'p2'}\n",
      "   --unload_c4_from_p2_to_lax--> {'c1_is_at': 'sfo', 'c2_is_at': 'jfk', 'c3_is_at': 'null', 'c4_is_at': 'lax', 'c5_is_at': 'null', 'p1_is_at': 'sfo', 'p2_is_at': 'lax', 'c1_is_in': 'p1', 'c2_is_in': 'p2', 'c3_is_in': 'p2', 'c4_is_in': 'null', 'c5_is_in': 'p2'}\n",
      "   --fly_p2_from_lax_to_sfo--> {'c1_is_at': 'sfo', 'c2_is_at': 'jfk', 'c3_is_at': 'null', 'c4_is_at': 'lax', 'c5_is_at': 'null', 'p1_is_at': 'sfo', 'p2_is_at': 'sfo', 'c1_is_in': 'p1', 'c2_is_in': 'p2', 'c3_is_in': 'p2', 'c4_is_in': 'null', 'c5_is_in': 'p2'}\n",
      "   --unload_c5_from_p2_to_sfo--> {'c1_is_at': 'sfo', 'c2_is_at': 'jfk', 'c3_is_at': 'null', 'c4_is_at': 'lax', 'c5_is_at': 'sfo', 'p1_is_at': 'sfo', 'p2_is_at': 'sfo', 'c1_is_in': 'p1', 'c2_is_in': 'p2', 'c3_is_in': 'p2', 'c4_is_in': 'null', 'c5_is_in': 'null'}\n",
      "   --fly_p1_from_sfo_to_jfk--> {'c1_is_at': 'sfo', 'c2_is_at': 'jfk', 'c3_is_at': 'null', 'c4_is_at': 'lax', 'c5_is_at': 'sfo', 'p1_is_at': 'jfk', 'p2_is_at': 'sfo', 'c1_is_in': 'p1', 'c2_is_in': 'p2', 'c3_is_in': 'p2', 'c4_is_in': 'null', 'c5_is_in': 'null'}\n",
      "   --unload_c3_from_p2_to_sfo--> {'c1_is_at': 'sfo', 'c2_is_at': 'jfk', 'c3_is_at': 'sfo', 'c4_is_at': 'lax', 'c5_is_at': 'sfo', 'p1_is_at': 'jfk', 'p2_is_at': 'sfo', 'c1_is_in': 'p1', 'c2_is_in': 'p2', 'c3_is_in': 'null', 'c4_is_in': 'null', 'c5_is_in': 'null'}\n",
      "   --unload_c2_from_p2_to_sfo--> {'c1_is_at': 'sfo', 'c2_is_at': 'sfo', 'c3_is_at': 'sfo', 'c4_is_at': 'lax', 'c5_is_at': 'sfo', 'p1_is_at': 'jfk', 'p2_is_at': 'sfo', 'c1_is_in': 'p1', 'c2_is_in': 'null', 'c3_is_in': 'null', 'c4_is_in': 'null', 'c5_is_in': 'null'}\n",
      "   --unload_c1_from_p1_to_jfk--> {'c1_is_at': 'jfk', 'c2_is_at': 'sfo', 'c3_is_at': 'sfo', 'c4_is_at': 'lax', 'c5_is_at': 'sfo', 'p1_is_at': 'jfk', 'p2_is_at': 'sfo', 'c1_is_in': 'null', 'c2_is_in': 'null', 'c3_is_in': 'null', 'c4_is_in': 'null', 'c5_is_in': 'null'} (cost: 11)\n",
      " 9597 paths have been expanded and 28050 paths remain in the frontier\n",
      "Elapsed time: 50.530923 seconds\n"
     ]
    }
   ],
   "source": [
    "# Solution idea - we solve the problem by using a heuristic that counts the number of cargo that are not yet at their goal location, speeding the computation.\n",
    "print('Problem 1 - With heuristic:')\n",
    "\n",
    "start: float = perf_counter()\n",
    "SearcherMPP(Forward_STRIPS(air_cargo1, h_unloaded_cargo)).search()\n",
    "end: float = perf_counter()\n",
    "\n",
    "print(f'Elapsed time: {end - start:.6f} seconds')\n",
    "\n",
    "data.loc[len(data)] = ['Problem 1', True, end - start]"
   ],
   "metadata": {
    "collapsed": false,
    "ExecuteTime": {
     "end_time": "2024-03-24T18:35:36.728706Z",
     "start_time": "2024-03-24T18:34:46.185591Z"
    }
   },
   "execution_count": 34
  },
  {
   "cell_type": "code",
   "outputs": [],
   "source": [
    "# Domain\n",
    "air_cargo2dom: STRIPS_domain = create_air_cargo_transportation(\n",
    "    cargo={'c1', 'c2', 'c3'},\n",
    "    planes={'p1', 'p2', 'p3'},\n",
    "    airports={'sfo', 'jfk', 'lax', 'ord', 'atl',},\n",
    "    cargo_forbidden_airports={'c1': set(), 'c2': set(), 'c3': set(),},\n",
    "    planes_forbidden_airports={'p1': {'ord'}, 'p2': {'lax'}, 'p3': set(),},\n",
    ")\n",
    "\n",
    "# Initial state\n",
    "air_setup2: dict[str, str] = {\n",
    "    At('c1'): 'atl',\n",
    "    At('c2'): 'ord',\n",
    "    At('c3'): 'jfk',\n",
    "\n",
    "    At('p1'): 'sfo',\n",
    "    At('p2'): 'jfk',\n",
    "    At('p3'): 'ord',\n",
    "    \n",
    "    In('c1'): 'null',\n",
    "    In('c2'): 'null',\n",
    "    In('c3'): 'null',\n",
    "}\n",
    "\n",
    "# Goal state\n",
    "air_goal2: dict[str, str] = {\n",
    "    At('c1'): 'jfk',\n",
    "    At('c2'): 'sfo',\n",
    "    At('c3'): 'sfo',\n",
    "    \n",
    "    At('p3'): 'jfk',\n",
    "\n",
    "    In('c1'): 'null',\n",
    "    In('c2'): 'null',\n",
    "    In('c3'): 'null',\n",
    "}\n",
    "\n",
    "air_cargo2: Planning_problem = Planning_problem(air_cargo2dom, air_setup2, air_goal2)"
   ],
   "metadata": {
    "collapsed": false,
    "ExecuteTime": {
     "end_time": "2024-03-24T18:35:36.736003Z",
     "start_time": "2024-03-24T18:35:36.730814Z"
    }
   },
   "execution_count": 35
  },
  {
   "cell_type": "code",
   "execution_count": 36,
   "metadata": {
    "ExecuteTime": {
     "end_time": "2024-03-24T18:52:51.858276Z",
     "start_time": "2024-03-24T18:35:36.737007Z"
    }
   },
   "outputs": [
    {
     "name": "stdout",
     "output_type": "stream",
     "text": [
      "Problem 2 - No heuristic:\n",
      "Solution: {'c1_is_at': 'atl', 'c2_is_at': 'ord', 'c3_is_at': 'jfk', 'p1_is_at': 'sfo', 'p2_is_at': 'jfk', 'p3_is_at': 'ord', 'c1_is_in': 'null', 'c2_is_in': 'null', 'c3_is_in': 'null'}\n",
      "   --load_c2_from_ord_to_p3--> {'c1_is_at': 'atl', 'c2_is_at': 'null', 'c3_is_at': 'jfk', 'p1_is_at': 'sfo', 'p2_is_at': 'jfk', 'p3_is_at': 'ord', 'c1_is_in': 'null', 'c2_is_in': 'p3', 'c3_is_in': 'null'}\n",
      "   --fly_p3_from_ord_to_atl--> {'c1_is_at': 'atl', 'c2_is_at': 'null', 'c3_is_at': 'jfk', 'p1_is_at': 'sfo', 'p2_is_at': 'jfk', 'p3_is_at': 'atl', 'c1_is_in': 'null', 'c2_is_in': 'p3', 'c3_is_in': 'null'}\n",
      "   --load_c1_from_atl_to_p3--> {'c1_is_at': 'null', 'c2_is_at': 'null', 'c3_is_at': 'jfk', 'p1_is_at': 'sfo', 'p2_is_at': 'jfk', 'p3_is_at': 'atl', 'c1_is_in': 'p3', 'c2_is_in': 'p3', 'c3_is_in': 'null'}\n",
      "   --fly_p3_from_atl_to_jfk--> {'c1_is_at': 'null', 'c2_is_at': 'null', 'c3_is_at': 'jfk', 'p1_is_at': 'sfo', 'p2_is_at': 'jfk', 'p3_is_at': 'jfk', 'c1_is_in': 'p3', 'c2_is_in': 'p3', 'c3_is_in': 'null'}\n",
      "   --load_c3_from_jfk_to_p3--> {'c1_is_at': 'null', 'c2_is_at': 'null', 'c3_is_at': 'null', 'p1_is_at': 'sfo', 'p2_is_at': 'jfk', 'p3_is_at': 'jfk', 'c1_is_in': 'p3', 'c2_is_in': 'p3', 'c3_is_in': 'p3'}\n",
      "   --unload_c1_from_p3_to_jfk--> {'c1_is_at': 'jfk', 'c2_is_at': 'null', 'c3_is_at': 'null', 'p1_is_at': 'sfo', 'p2_is_at': 'jfk', 'p3_is_at': 'jfk', 'c1_is_in': 'null', 'c2_is_in': 'p3', 'c3_is_in': 'p3'}\n",
      "   --fly_p3_from_jfk_to_sfo--> {'c1_is_at': 'jfk', 'c2_is_at': 'null', 'c3_is_at': 'null', 'p1_is_at': 'sfo', 'p2_is_at': 'jfk', 'p3_is_at': 'sfo', 'c1_is_in': 'null', 'c2_is_in': 'p3', 'c3_is_in': 'p3'}\n",
      "   --unload_c3_from_p3_to_sfo--> {'c1_is_at': 'jfk', 'c2_is_at': 'null', 'c3_is_at': 'sfo', 'p1_is_at': 'sfo', 'p2_is_at': 'jfk', 'p3_is_at': 'sfo', 'c1_is_in': 'null', 'c2_is_in': 'p3', 'c3_is_in': 'null'}\n",
      "   --unload_c2_from_p3_to_sfo--> {'c1_is_at': 'jfk', 'c2_is_at': 'sfo', 'c3_is_at': 'sfo', 'p1_is_at': 'sfo', 'p2_is_at': 'jfk', 'p3_is_at': 'sfo', 'c1_is_in': 'null', 'c2_is_in': 'null', 'c3_is_in': 'null'}\n",
      "   --fly_p3_from_sfo_to_jfk--> {'c1_is_at': 'jfk', 'c2_is_at': 'sfo', 'c3_is_at': 'sfo', 'p1_is_at': 'sfo', 'p2_is_at': 'jfk', 'p3_is_at': 'jfk', 'c1_is_in': 'null', 'c2_is_in': 'null', 'c3_is_in': 'null'} (cost: 10)\n",
      " 26894 paths have been expanded and 121697 paths remain in the frontier\n",
      "Elapsed time: 1035.112569 seconds\n"
     ]
    }
   ],
   "source": [
    "# Problem 2\n",
    "# Problem idea: We have small amount of cargo, but many airports and planes, some planes must end in specific airports.\n",
    "print(\"Problem 2 - No heuristic:\")\n",
    "\n",
    "start: float = perf_counter()\n",
    "SearcherMPP(Forward_STRIPS(air_cargo2)).search()\n",
    "end: float = perf_counter()\n",
    "\n",
    "print(f'Elapsed time: {end - start:.6f} seconds')\n",
    "\n",
    "data.loc[len(data)] = ['Problem 2', False, end - start]"
   ]
  },
  {
   "cell_type": "code",
   "outputs": [],
   "source": [
    "def h_mismatched_planes(assignment, goal):\n",
    "    \"\"\"This heuristic counts the number of planes that are not yet at their goal location. The idea is that the more planes that are not at their goal, the further away we are from the goal state.\"\"\"\n",
    "    return sum(1 for k, v in goal.items() if assignment[k] != v and '_is_at' in k and 'p' in k)"
   ],
   "metadata": {
    "collapsed": false,
    "ExecuteTime": {
     "end_time": "2024-03-24T18:52:51.862616Z",
     "start_time": "2024-03-24T18:52:51.859285Z"
    }
   },
   "execution_count": 37
  },
  {
   "cell_type": "code",
   "outputs": [
    {
     "name": "stdout",
     "output_type": "stream",
     "text": [
      "Problem 2 - With heuristic:\n",
      "Solution: {'c1_is_at': 'atl', 'c2_is_at': 'ord', 'c3_is_at': 'jfk', 'p1_is_at': 'sfo', 'p2_is_at': 'jfk', 'p3_is_at': 'ord', 'c1_is_in': 'null', 'c2_is_in': 'null', 'c3_is_in': 'null'}\n",
      "   --load_c2_from_ord_to_p3--> {'c1_is_at': 'atl', 'c2_is_at': 'null', 'c3_is_at': 'jfk', 'p1_is_at': 'sfo', 'p2_is_at': 'jfk', 'p3_is_at': 'ord', 'c1_is_in': 'null', 'c2_is_in': 'p3', 'c3_is_in': 'null'}\n",
      "   --fly_p3_from_ord_to_jfk--> {'c1_is_at': 'atl', 'c2_is_at': 'null', 'c3_is_at': 'jfk', 'p1_is_at': 'sfo', 'p2_is_at': 'jfk', 'p3_is_at': 'jfk', 'c1_is_in': 'null', 'c2_is_in': 'p3', 'c3_is_in': 'null'}\n",
      "   --load_c3_from_jfk_to_p3--> {'c1_is_at': 'atl', 'c2_is_at': 'null', 'c3_is_at': 'null', 'p1_is_at': 'sfo', 'p2_is_at': 'jfk', 'p3_is_at': 'jfk', 'c1_is_in': 'null', 'c2_is_in': 'p3', 'c3_is_in': 'p3'}\n",
      "   --fly_p3_from_jfk_to_atl--> {'c1_is_at': 'atl', 'c2_is_at': 'null', 'c3_is_at': 'null', 'p1_is_at': 'sfo', 'p2_is_at': 'jfk', 'p3_is_at': 'atl', 'c1_is_in': 'null', 'c2_is_in': 'p3', 'c3_is_in': 'p3'}\n",
      "   --load_c1_from_atl_to_p3--> {'c1_is_at': 'null', 'c2_is_at': 'null', 'c3_is_at': 'null', 'p1_is_at': 'sfo', 'p2_is_at': 'jfk', 'p3_is_at': 'atl', 'c1_is_in': 'p3', 'c2_is_in': 'p3', 'c3_is_in': 'p3'}\n",
      "   --fly_p3_from_atl_to_sfo--> {'c1_is_at': 'null', 'c2_is_at': 'null', 'c3_is_at': 'null', 'p1_is_at': 'sfo', 'p2_is_at': 'jfk', 'p3_is_at': 'sfo', 'c1_is_in': 'p3', 'c2_is_in': 'p3', 'c3_is_in': 'p3'}\n",
      "   --unload_c3_from_p3_to_sfo--> {'c1_is_at': 'null', 'c2_is_at': 'null', 'c3_is_at': 'sfo', 'p1_is_at': 'sfo', 'p2_is_at': 'jfk', 'p3_is_at': 'sfo', 'c1_is_in': 'p3', 'c2_is_in': 'p3', 'c3_is_in': 'null'}\n",
      "   --unload_c2_from_p3_to_sfo--> {'c1_is_at': 'null', 'c2_is_at': 'sfo', 'c3_is_at': 'sfo', 'p1_is_at': 'sfo', 'p2_is_at': 'jfk', 'p3_is_at': 'sfo', 'c1_is_in': 'p3', 'c2_is_in': 'null', 'c3_is_in': 'null'}\n",
      "   --fly_p3_from_sfo_to_jfk--> {'c1_is_at': 'null', 'c2_is_at': 'sfo', 'c3_is_at': 'sfo', 'p1_is_at': 'sfo', 'p2_is_at': 'jfk', 'p3_is_at': 'jfk', 'c1_is_in': 'p3', 'c2_is_in': 'null', 'c3_is_in': 'null'}\n",
      "   --unload_c1_from_p3_to_jfk--> {'c1_is_at': 'jfk', 'c2_is_at': 'sfo', 'c3_is_at': 'sfo', 'p1_is_at': 'sfo', 'p2_is_at': 'jfk', 'p3_is_at': 'jfk', 'c1_is_in': 'null', 'c2_is_in': 'null', 'c3_is_in': 'null'} (cost: 10)\n",
      " 18140 paths have been expanded and 92856 paths remain in the frontier\n",
      "Elapsed time: 497.959938 seconds\n"
     ]
    }
   ],
   "source": [
    "# Solution idea - hopefully making so that free planes fly to their desired location, and in the meantime planes that are not restricted to be on specific airports make the cargo moving....\n",
    "print(\"Problem 2 - With heuristic:\")\n",
    "\n",
    "start: float = perf_counter()\n",
    "SearcherMPP(Forward_STRIPS(air_cargo2, h_mismatched_planes)).search()\n",
    "end: float = perf_counter()\n",
    "\n",
    "print(f'Elapsed time: {end - start:.6f} seconds')\n",
    "\n",
    "data.loc[len(data)] = ['Problem 2', True, end - start]"
   ],
   "metadata": {
    "collapsed": false,
    "ExecuteTime": {
     "end_time": "2024-03-24T19:01:09.833520Z",
     "start_time": "2024-03-24T18:52:51.864696Z"
    }
   },
   "execution_count": 38
  },
  {
   "cell_type": "code",
   "outputs": [],
   "source": [
    "# Domain\n",
    "air_cargo3dom: STRIPS_domain = create_air_cargo_transportation(\n",
    "    cargo={'c1', 'c2', 'c3', 'c4'},\n",
    "    planes={'p1', 'p2', 'p3',},\n",
    "    airports={'sfo', 'jfk', 'lax',},\n",
    "    cargo_forbidden_airports={'c1': {'lax'}, 'c2': {'jfk'}, 'c3': {'lax'}, 'c4': {'sfo'},},\n",
    "    planes_forbidden_airports={'p1': {'lax'}, 'p2': {'jfk'}, 'p3': {'sfo'},}\n",
    ")\n",
    "\n",
    "# Initial state\n",
    "air_setup3: dict[str, str] = {\n",
    "    At('c1'): 'sfo',\n",
    "    At('c2'): 'lax',\n",
    "    At('c3'): 'jfk',\n",
    "    At('c4'): 'jfk',\n",
    "\n",
    "    At('p1'): 'sfo',\n",
    "    At('p2'): 'lax',\n",
    "    At('p3'): 'jfk',\n",
    "\n",
    "    In('c1'): 'null',\n",
    "    In('c2'): 'null',\n",
    "    In('c3'): 'null',\n",
    "    In('c4'): 'null',\n",
    "}\n",
    "\n",
    "# Goal state\n",
    "air_goal3: dict[str, str] = {\n",
    "    At('c1'): 'jfk',\n",
    "    At('c2'): 'sfo',\n",
    "    At('c3'): 'sfo',\n",
    "    At('c4'): 'lax',\n",
    "\n",
    "    In('c1'): 'null',\n",
    "    In('c2'): 'null',\n",
    "    In('c3'): 'null',\n",
    "    In('c4'): 'null',\n",
    "}\n",
    "\n",
    "air_cargo3: Planning_problem = Planning_problem(air_cargo3dom, air_setup3, air_goal3)"
   ],
   "metadata": {
    "collapsed": false,
    "ExecuteTime": {
     "end_time": "2024-03-24T19:01:09.839082Z",
     "start_time": "2024-03-24T19:01:09.834608Z"
    }
   },
   "execution_count": 39
  },
  {
   "cell_type": "code",
   "execution_count": 40,
   "metadata": {
    "ExecuteTime": {
     "end_time": "2024-03-24T19:01:14.255546Z",
     "start_time": "2024-03-24T19:01:09.841182Z"
    }
   },
   "outputs": [
    {
     "name": "stdout",
     "output_type": "stream",
     "text": [
      "Problem 3 - No heuristic:\n",
      "Solution: {'c1_is_at': 'sfo', 'c2_is_at': 'lax', 'c3_is_at': 'jfk', 'c4_is_at': 'jfk', 'p1_is_at': 'sfo', 'p2_is_at': 'lax', 'p3_is_at': 'jfk', 'c1_is_in': 'null', 'c2_is_in': 'null', 'c3_is_in': 'null', 'c4_is_in': 'null'}\n",
      "   --load_c4_from_jfk_to_p3--> {'c1_is_at': 'sfo', 'c2_is_at': 'lax', 'c3_is_at': 'jfk', 'c4_is_at': 'null', 'p1_is_at': 'sfo', 'p2_is_at': 'lax', 'p3_is_at': 'jfk', 'c1_is_in': 'null', 'c2_is_in': 'null', 'c3_is_in': 'null', 'c4_is_in': 'p3'}\n",
      "   --load_c1_from_sfo_to_p1--> {'c1_is_at': 'null', 'c2_is_at': 'lax', 'c3_is_at': 'jfk', 'c4_is_at': 'null', 'p1_is_at': 'sfo', 'p2_is_at': 'lax', 'p3_is_at': 'jfk', 'c1_is_in': 'p1', 'c2_is_in': 'null', 'c3_is_in': 'null', 'c4_is_in': 'p3'}\n",
      "   --fly_p3_from_jfk_to_lax--> {'c1_is_at': 'null', 'c2_is_at': 'lax', 'c3_is_at': 'jfk', 'c4_is_at': 'null', 'p1_is_at': 'sfo', 'p2_is_at': 'lax', 'p3_is_at': 'lax', 'c1_is_in': 'p1', 'c2_is_in': 'null', 'c3_is_in': 'null', 'c4_is_in': 'p3'}\n",
      "   --fly_p1_from_sfo_to_jfk--> {'c1_is_at': 'null', 'c2_is_at': 'lax', 'c3_is_at': 'jfk', 'c4_is_at': 'null', 'p1_is_at': 'jfk', 'p2_is_at': 'lax', 'p3_is_at': 'lax', 'c1_is_in': 'p1', 'c2_is_in': 'null', 'c3_is_in': 'null', 'c4_is_in': 'p3'}\n",
      "   --unload_c4_from_p3_to_lax--> {'c1_is_at': 'null', 'c2_is_at': 'lax', 'c3_is_at': 'jfk', 'c4_is_at': 'lax', 'p1_is_at': 'jfk', 'p2_is_at': 'lax', 'p3_is_at': 'lax', 'c1_is_in': 'p1', 'c2_is_in': 'null', 'c3_is_in': 'null', 'c4_is_in': 'null'}\n",
      "   --load_c3_from_jfk_to_p1--> {'c1_is_at': 'null', 'c2_is_at': 'lax', 'c3_is_at': 'null', 'c4_is_at': 'lax', 'p1_is_at': 'jfk', 'p2_is_at': 'lax', 'p3_is_at': 'lax', 'c1_is_in': 'p1', 'c2_is_in': 'null', 'c3_is_in': 'p1', 'c4_is_in': 'null'}\n",
      "   --load_c2_from_lax_to_p2--> {'c1_is_at': 'null', 'c2_is_at': 'null', 'c3_is_at': 'null', 'c4_is_at': 'lax', 'p1_is_at': 'jfk', 'p2_is_at': 'lax', 'p3_is_at': 'lax', 'c1_is_in': 'p1', 'c2_is_in': 'p2', 'c3_is_in': 'p1', 'c4_is_in': 'null'}\n",
      "   --unload_c1_from_p1_to_jfk--> {'c1_is_at': 'jfk', 'c2_is_at': 'null', 'c3_is_at': 'null', 'c4_is_at': 'lax', 'p1_is_at': 'jfk', 'p2_is_at': 'lax', 'p3_is_at': 'lax', 'c1_is_in': 'null', 'c2_is_in': 'p2', 'c3_is_in': 'p1', 'c4_is_in': 'null'}\n",
      "   --fly_p2_from_lax_to_sfo--> {'c1_is_at': 'jfk', 'c2_is_at': 'null', 'c3_is_at': 'null', 'c4_is_at': 'lax', 'p1_is_at': 'jfk', 'p2_is_at': 'sfo', 'p3_is_at': 'lax', 'c1_is_in': 'null', 'c2_is_in': 'p2', 'c3_is_in': 'p1', 'c4_is_in': 'null'}\n",
      "   --fly_p1_from_jfk_to_sfo--> {'c1_is_at': 'jfk', 'c2_is_at': 'null', 'c3_is_at': 'null', 'c4_is_at': 'lax', 'p1_is_at': 'sfo', 'p2_is_at': 'sfo', 'p3_is_at': 'lax', 'c1_is_in': 'null', 'c2_is_in': 'p2', 'c3_is_in': 'p1', 'c4_is_in': 'null'}\n",
      "   --unload_c2_from_p2_to_sfo--> {'c1_is_at': 'jfk', 'c2_is_at': 'sfo', 'c3_is_at': 'null', 'c4_is_at': 'lax', 'p1_is_at': 'sfo', 'p2_is_at': 'sfo', 'p3_is_at': 'lax', 'c1_is_in': 'null', 'c2_is_in': 'null', 'c3_is_in': 'p1', 'c4_is_in': 'null'}\n",
      "   --unload_c3_from_p1_to_sfo--> {'c1_is_at': 'jfk', 'c2_is_at': 'sfo', 'c3_is_at': 'sfo', 'c4_is_at': 'lax', 'p1_is_at': 'sfo', 'p2_is_at': 'sfo', 'p3_is_at': 'lax', 'c1_is_in': 'null', 'c2_is_in': 'null', 'c3_is_in': 'null', 'c4_is_in': 'null'} (cost: 12)\n",
      " 3934 paths have been expanded and 3597 paths remain in the frontier\n",
      "Elapsed time: 4.405791 seconds\n"
     ]
    }
   ],
   "source": [
    "# Problem 3\n",
    "# Problem idea: Medium amount of cargo, medium amount of planes, and some cargo and planes are not allowed to go to certain airports. And some goods are not allowed in some airports.\n",
    "print(\"Problem 3 - No heuristic:\")\n",
    "\n",
    "start: float = perf_counter()\n",
    "SearcherMPP(Forward_STRIPS(air_cargo3)).search()\n",
    "end: float = perf_counter()\n",
    "\n",
    "print(f'Elapsed time: {end - start:.6f} seconds')\n",
    "\n",
    "data.loc[len(data)] = ['Problem 3', False, end - start]"
   ]
  },
  {
   "cell_type": "code",
   "outputs": [],
   "source": [
    "def h_combined(assignment, goal):\n",
    "    \"\"\"This heuristic combines the previous two heuristics.\"\"\"\n",
    "    return h_unloaded_cargo(assignment, goal) + h_mismatched_planes(assignment, goal)"
   ],
   "metadata": {
    "collapsed": false,
    "ExecuteTime": {
     "end_time": "2024-03-24T19:01:14.260202Z",
     "start_time": "2024-03-24T19:01:14.257590Z"
    }
   },
   "execution_count": 41
  },
  {
   "cell_type": "code",
   "outputs": [
    {
     "name": "stdout",
     "output_type": "stream",
     "text": [
      "Problem 3 - With heuristic:\n",
      "Solution: {'c1_is_at': 'sfo', 'c2_is_at': 'lax', 'c3_is_at': 'jfk', 'c4_is_at': 'jfk', 'p1_is_at': 'sfo', 'p2_is_at': 'lax', 'p3_is_at': 'jfk', 'c1_is_in': 'null', 'c2_is_in': 'null', 'c3_is_in': 'null', 'c4_is_in': 'null'}\n",
      "   --load_c1_from_sfo_to_p1--> {'c1_is_at': 'null', 'c2_is_at': 'lax', 'c3_is_at': 'jfk', 'c4_is_at': 'jfk', 'p1_is_at': 'sfo', 'p2_is_at': 'lax', 'p3_is_at': 'jfk', 'c1_is_in': 'p1', 'c2_is_in': 'null', 'c3_is_in': 'null', 'c4_is_in': 'null'}\n",
      "   --fly_p1_from_sfo_to_jfk--> {'c1_is_at': 'null', 'c2_is_at': 'lax', 'c3_is_at': 'jfk', 'c4_is_at': 'jfk', 'p1_is_at': 'jfk', 'p2_is_at': 'lax', 'p3_is_at': 'jfk', 'c1_is_in': 'p1', 'c2_is_in': 'null', 'c3_is_in': 'null', 'c4_is_in': 'null'}\n",
      "   --load_c3_from_jfk_to_p1--> {'c1_is_at': 'null', 'c2_is_at': 'lax', 'c3_is_at': 'null', 'c4_is_at': 'jfk', 'p1_is_at': 'jfk', 'p2_is_at': 'lax', 'p3_is_at': 'jfk', 'c1_is_in': 'p1', 'c2_is_in': 'null', 'c3_is_in': 'p1', 'c4_is_in': 'null'}\n",
      "   --load_c2_from_lax_to_p2--> {'c1_is_at': 'null', 'c2_is_at': 'null', 'c3_is_at': 'null', 'c4_is_at': 'jfk', 'p1_is_at': 'jfk', 'p2_is_at': 'lax', 'p3_is_at': 'jfk', 'c1_is_in': 'p1', 'c2_is_in': 'p2', 'c3_is_in': 'p1', 'c4_is_in': 'null'}\n",
      "   --load_c4_from_jfk_to_p3--> {'c1_is_at': 'null', 'c2_is_at': 'null', 'c3_is_at': 'null', 'c4_is_at': 'null', 'p1_is_at': 'jfk', 'p2_is_at': 'lax', 'p3_is_at': 'jfk', 'c1_is_in': 'p1', 'c2_is_in': 'p2', 'c3_is_in': 'p1', 'c4_is_in': 'p3'}\n",
      "   --fly_p2_from_lax_to_sfo--> {'c1_is_at': 'null', 'c2_is_at': 'null', 'c3_is_at': 'null', 'c4_is_at': 'null', 'p1_is_at': 'jfk', 'p2_is_at': 'sfo', 'p3_is_at': 'jfk', 'c1_is_in': 'p1', 'c2_is_in': 'p2', 'c3_is_in': 'p1', 'c4_is_in': 'p3'}\n",
      "   --unload_c1_from_p1_to_jfk--> {'c1_is_at': 'jfk', 'c2_is_at': 'null', 'c3_is_at': 'null', 'c4_is_at': 'null', 'p1_is_at': 'jfk', 'p2_is_at': 'sfo', 'p3_is_at': 'jfk', 'c1_is_in': 'null', 'c2_is_in': 'p2', 'c3_is_in': 'p1', 'c4_is_in': 'p3'}\n",
      "   --fly_p3_from_jfk_to_lax--> {'c1_is_at': 'jfk', 'c2_is_at': 'null', 'c3_is_at': 'null', 'c4_is_at': 'null', 'p1_is_at': 'jfk', 'p2_is_at': 'sfo', 'p3_is_at': 'lax', 'c1_is_in': 'null', 'c2_is_in': 'p2', 'c3_is_in': 'p1', 'c4_is_in': 'p3'}\n",
      "   --unload_c4_from_p3_to_lax--> {'c1_is_at': 'jfk', 'c2_is_at': 'null', 'c3_is_at': 'null', 'c4_is_at': 'lax', 'p1_is_at': 'jfk', 'p2_is_at': 'sfo', 'p3_is_at': 'lax', 'c1_is_in': 'null', 'c2_is_in': 'p2', 'c3_is_in': 'p1', 'c4_is_in': 'null'}\n",
      "   --fly_p1_from_jfk_to_sfo--> {'c1_is_at': 'jfk', 'c2_is_at': 'null', 'c3_is_at': 'null', 'c4_is_at': 'lax', 'p1_is_at': 'sfo', 'p2_is_at': 'sfo', 'p3_is_at': 'lax', 'c1_is_in': 'null', 'c2_is_in': 'p2', 'c3_is_in': 'p1', 'c4_is_in': 'null'}\n",
      "   --unload_c3_from_p1_to_sfo--> {'c1_is_at': 'jfk', 'c2_is_at': 'null', 'c3_is_at': 'sfo', 'c4_is_at': 'lax', 'p1_is_at': 'sfo', 'p2_is_at': 'sfo', 'p3_is_at': 'lax', 'c1_is_in': 'null', 'c2_is_in': 'p2', 'c3_is_in': 'null', 'c4_is_in': 'null'}\n",
      "   --unload_c2_from_p2_to_sfo--> {'c1_is_at': 'jfk', 'c2_is_at': 'sfo', 'c3_is_at': 'sfo', 'c4_is_at': 'lax', 'p1_is_at': 'sfo', 'p2_is_at': 'sfo', 'p3_is_at': 'lax', 'c1_is_in': 'null', 'c2_is_in': 'null', 'c3_is_in': 'null', 'c4_is_in': 'null'} (cost: 12)\n",
      " 2489 paths have been expanded and 4124 paths remain in the frontier\n",
      "Elapsed time: 2.390381 seconds\n"
     ]
    }
   ],
   "source": [
    "# Solution idea - combine all the previous heuristics to make the computation faster.\n",
    "print(\"Problem 3 - With heuristic:\")\n",
    "\n",
    "start: float = perf_counter()\n",
    "SearcherMPP(Forward_STRIPS(air_cargo3, h_combined)).search()\n",
    "end: float = perf_counter()\n",
    "\n",
    "print(f'Elapsed time: {end - start:.6f} seconds')\n",
    "\n",
    "data.loc[len(data)] = ['Problem 3', True, end - start]"
   ],
   "metadata": {
    "collapsed": false,
    "ExecuteTime": {
     "end_time": "2024-03-24T19:01:16.661908Z",
     "start_time": "2024-03-24T19:01:14.261274Z"
    }
   },
   "execution_count": 42
  },
  {
   "cell_type": "code",
   "outputs": [],
   "source": [
    "# Sub goal / initial state\n",
    "air_sub_problem_1: dict[str, str] = {\n",
    "    At('c1'): 'jfk',\n",
    "    At('c2'): 'sfo',\n",
    "    At('c3'): 'sfo',\n",
    "    At('c4'): 'jfk',\n",
    "    At('c5'): 'lax',\n",
    "    \n",
    "    At('p1'): 'jfk',\n",
    "    At('p2'): 'sfo',\n",
    "\n",
    "    In('c1'): 'null',\n",
    "    In('c2'): 'null',\n",
    "    In('c3'): 'null',\n",
    "    In('c4'): 'null',\n",
    "    In('c5'): 'null',\n",
    "}\n",
    "\n",
    "air_cargo1_sub_problem_1: Planning_problem = Planning_problem(air_cargo1dom, air_setup1, air_sub_problem_1)\n",
    "air_cargo1_sub_problem_2: Planning_problem = Planning_problem(air_cargo1dom, air_sub_problem_1, air_goal1)"
   ],
   "metadata": {
    "collapsed": false,
    "ExecuteTime": {
     "end_time": "2024-03-24T19:09:30.030553Z",
     "start_time": "2024-03-24T19:09:30.026041Z"
    }
   },
   "execution_count": 43
  },
  {
   "cell_type": "code",
   "outputs": [
    {
     "name": "stdout",
     "output_type": "stream",
     "text": [
      "Problem 1 - Sub Problem 1 - No heuristic:\n",
      "Solution: {'c1_is_at': 'sfo', 'c2_is_at': 'jfk', 'c3_is_at': 'lax', 'c4_is_at': 'jfk', 'c5_is_at': 'lax', 'p1_is_at': 'sfo', 'p2_is_at': 'jfk', 'c1_is_in': 'p1', 'c2_is_in': 'p2', 'c3_is_in': 'null', 'c4_is_in': 'null', 'c5_is_in': 'null'}\n",
      "   --fly_p2_from_jfk_to_lax--> {'c1_is_at': 'sfo', 'c2_is_at': 'jfk', 'c3_is_at': 'lax', 'c4_is_at': 'jfk', 'c5_is_at': 'lax', 'p1_is_at': 'sfo', 'p2_is_at': 'lax', 'c1_is_in': 'p1', 'c2_is_in': 'p2', 'c3_is_in': 'null', 'c4_is_in': 'null', 'c5_is_in': 'null'}\n",
      "   --load_c3_from_lax_to_p2--> {'c1_is_at': 'sfo', 'c2_is_at': 'jfk', 'c3_is_at': 'null', 'c4_is_at': 'jfk', 'c5_is_at': 'lax', 'p1_is_at': 'sfo', 'p2_is_at': 'lax', 'c1_is_in': 'p1', 'c2_is_in': 'p2', 'c3_is_in': 'p2', 'c4_is_in': 'null', 'c5_is_in': 'null'}\n",
      "   --fly_p2_from_lax_to_sfo--> {'c1_is_at': 'sfo', 'c2_is_at': 'jfk', 'c3_is_at': 'null', 'c4_is_at': 'jfk', 'c5_is_at': 'lax', 'p1_is_at': 'sfo', 'p2_is_at': 'sfo', 'c1_is_in': 'p1', 'c2_is_in': 'p2', 'c3_is_in': 'p2', 'c4_is_in': 'null', 'c5_is_in': 'null'}\n",
      "   --unload_c2_from_p2_to_sfo--> {'c1_is_at': 'sfo', 'c2_is_at': 'sfo', 'c3_is_at': 'null', 'c4_is_at': 'jfk', 'c5_is_at': 'lax', 'p1_is_at': 'sfo', 'p2_is_at': 'sfo', 'c1_is_in': 'p1', 'c2_is_in': 'null', 'c3_is_in': 'p2', 'c4_is_in': 'null', 'c5_is_in': 'null'}\n",
      "   --fly_p1_from_sfo_to_jfk--> {'c1_is_at': 'sfo', 'c2_is_at': 'sfo', 'c3_is_at': 'null', 'c4_is_at': 'jfk', 'c5_is_at': 'lax', 'p1_is_at': 'jfk', 'p2_is_at': 'sfo', 'c1_is_in': 'p1', 'c2_is_in': 'null', 'c3_is_in': 'p2', 'c4_is_in': 'null', 'c5_is_in': 'null'}\n",
      "   --unload_c1_from_p1_to_jfk--> {'c1_is_at': 'jfk', 'c2_is_at': 'sfo', 'c3_is_at': 'null', 'c4_is_at': 'jfk', 'c5_is_at': 'lax', 'p1_is_at': 'jfk', 'p2_is_at': 'sfo', 'c1_is_in': 'null', 'c2_is_in': 'null', 'c3_is_in': 'p2', 'c4_is_in': 'null', 'c5_is_in': 'null'}\n",
      "   --unload_c3_from_p2_to_sfo--> {'c1_is_at': 'jfk', 'c2_is_at': 'sfo', 'c3_is_at': 'sfo', 'c4_is_at': 'jfk', 'c5_is_at': 'lax', 'p1_is_at': 'jfk', 'p2_is_at': 'sfo', 'c1_is_in': 'null', 'c2_is_in': 'null', 'c3_is_in': 'null', 'c4_is_in': 'null', 'c5_is_in': 'null'} (cost: 7)\n",
      " 3509 paths have been expanded and 13324 paths remain in the frontier\n",
      "Elapsed time: 8.347586 seconds\n"
     ]
    }
   ],
   "source": [
    "# Sub problem 1\n",
    "# Idea: finish delivering the initially loaded cargo and c3 to specific airports\n",
    "\n",
    "print('Problem 1 - Sub Problem 1 - No heuristic:')\n",
    "\n",
    "start: float = perf_counter()\n",
    "SearcherMPP(Forward_STRIPS(air_cargo1_sub_problem_1)).search()\n",
    "end: float = perf_counter()\n",
    "\n",
    "print(f'Elapsed time: {end - start:.6f} seconds')\n",
    "\n",
    "data.loc[len(data)] = ['Problem 1 - Sub Problem 1', False, end - start]"
   ],
   "metadata": {
    "collapsed": false,
    "ExecuteTime": {
     "end_time": "2024-03-24T19:09:54.875755Z",
     "start_time": "2024-03-24T19:09:46.524179Z"
    }
   },
   "execution_count": 44
  },
  {
   "cell_type": "code",
   "outputs": [
    {
     "name": "stdout",
     "output_type": "stream",
     "text": [
      "Problem 1 - Sub Problem 2 - No heuristic:\n",
      "Solution: {'c1_is_at': 'jfk', 'c2_is_at': 'sfo', 'c3_is_at': 'sfo', 'c4_is_at': 'jfk', 'c5_is_at': 'lax', 'p1_is_at': 'jfk', 'p2_is_at': 'sfo', 'c1_is_in': 'null', 'c2_is_in': 'null', 'c3_is_in': 'null', 'c4_is_in': 'null', 'c5_is_in': 'null'}\n",
      "   --fly_p2_from_sfo_to_jfk--> {'c1_is_at': 'jfk', 'c2_is_at': 'sfo', 'c3_is_at': 'sfo', 'c4_is_at': 'jfk', 'c5_is_at': 'lax', 'p1_is_at': 'jfk', 'p2_is_at': 'jfk', 'c1_is_in': 'null', 'c2_is_in': 'null', 'c3_is_in': 'null', 'c4_is_in': 'null', 'c5_is_in': 'null'}\n",
      "   --load_c4_from_jfk_to_p2--> {'c1_is_at': 'jfk', 'c2_is_at': 'sfo', 'c3_is_at': 'sfo', 'c4_is_at': 'null', 'c5_is_at': 'lax', 'p1_is_at': 'jfk', 'p2_is_at': 'jfk', 'c1_is_in': 'null', 'c2_is_in': 'null', 'c3_is_in': 'null', 'c4_is_in': 'p2', 'c5_is_in': 'null'}\n",
      "   --fly_p2_from_jfk_to_lax--> {'c1_is_at': 'jfk', 'c2_is_at': 'sfo', 'c3_is_at': 'sfo', 'c4_is_at': 'null', 'c5_is_at': 'lax', 'p1_is_at': 'jfk', 'p2_is_at': 'lax', 'c1_is_in': 'null', 'c2_is_in': 'null', 'c3_is_in': 'null', 'c4_is_in': 'p2', 'c5_is_in': 'null'}\n",
      "   --unload_c4_from_p2_to_lax--> {'c1_is_at': 'jfk', 'c2_is_at': 'sfo', 'c3_is_at': 'sfo', 'c4_is_at': 'lax', 'c5_is_at': 'lax', 'p1_is_at': 'jfk', 'p2_is_at': 'lax', 'c1_is_in': 'null', 'c2_is_in': 'null', 'c3_is_in': 'null', 'c4_is_in': 'null', 'c5_is_in': 'null'}\n",
      "   --load_c5_from_lax_to_p2--> {'c1_is_at': 'jfk', 'c2_is_at': 'sfo', 'c3_is_at': 'sfo', 'c4_is_at': 'lax', 'c5_is_at': 'null', 'p1_is_at': 'jfk', 'p2_is_at': 'lax', 'c1_is_in': 'null', 'c2_is_in': 'null', 'c3_is_in': 'null', 'c4_is_in': 'null', 'c5_is_in': 'p2'}\n",
      "   --fly_p2_from_lax_to_sfo--> {'c1_is_at': 'jfk', 'c2_is_at': 'sfo', 'c3_is_at': 'sfo', 'c4_is_at': 'lax', 'c5_is_at': 'null', 'p1_is_at': 'jfk', 'p2_is_at': 'sfo', 'c1_is_in': 'null', 'c2_is_in': 'null', 'c3_is_in': 'null', 'c4_is_in': 'null', 'c5_is_in': 'p2'}\n",
      "   --unload_c5_from_p2_to_sfo--> {'c1_is_at': 'jfk', 'c2_is_at': 'sfo', 'c3_is_at': 'sfo', 'c4_is_at': 'lax', 'c5_is_at': 'sfo', 'p1_is_at': 'jfk', 'p2_is_at': 'sfo', 'c1_is_in': 'null', 'c2_is_in': 'null', 'c3_is_in': 'null', 'c4_is_in': 'null', 'c5_is_in': 'null'} (cost: 7)\n",
      " 1442 paths have been expanded and 5530 paths remain in the frontier\n",
      "Elapsed time: 1.710939 seconds\n"
     ]
    }
   ],
   "source": [
    "print('Problem 1 - Sub Problem 2 - No heuristic:')\n",
    "\n",
    "start: float = perf_counter()\n",
    "SearcherMPP(Forward_STRIPS(air_cargo1_sub_problem_2)).search()\n",
    "end: float = perf_counter()\n",
    "\n",
    "print(f'Elapsed time: {end - start:.6f} seconds')\n",
    "\n",
    "data.loc[len(data)] = ['Problem 1 - Sub Problem 2', False, end - start]"
   ],
   "metadata": {
    "collapsed": false,
    "ExecuteTime": {
     "end_time": "2024-03-24T19:09:58.551273Z",
     "start_time": "2024-03-24T19:09:56.835467Z"
    }
   },
   "execution_count": 45
  },
  {
   "cell_type": "code",
   "outputs": [
    {
     "name": "stdout",
     "output_type": "stream",
     "text": [
      "Problem 1 - Sub Problem 1 - With heuristic:\n",
      "Solution: {'c1_is_at': 'sfo', 'c2_is_at': 'jfk', 'c3_is_at': 'lax', 'c4_is_at': 'jfk', 'c5_is_at': 'lax', 'p1_is_at': 'sfo', 'p2_is_at': 'jfk', 'c1_is_in': 'p1', 'c2_is_in': 'p2', 'c3_is_in': 'null', 'c4_is_in': 'null', 'c5_is_in': 'null'}\n",
      "   --fly_p2_from_jfk_to_lax--> {'c1_is_at': 'sfo', 'c2_is_at': 'jfk', 'c3_is_at': 'lax', 'c4_is_at': 'jfk', 'c5_is_at': 'lax', 'p1_is_at': 'sfo', 'p2_is_at': 'lax', 'c1_is_in': 'p1', 'c2_is_in': 'p2', 'c3_is_in': 'null', 'c4_is_in': 'null', 'c5_is_in': 'null'}\n",
      "   --load_c3_from_lax_to_p2--> {'c1_is_at': 'sfo', 'c2_is_at': 'jfk', 'c3_is_at': 'null', 'c4_is_at': 'jfk', 'c5_is_at': 'lax', 'p1_is_at': 'sfo', 'p2_is_at': 'lax', 'c1_is_in': 'p1', 'c2_is_in': 'p2', 'c3_is_in': 'p2', 'c4_is_in': 'null', 'c5_is_in': 'null'}\n",
      "   --fly_p2_from_lax_to_sfo--> {'c1_is_at': 'sfo', 'c2_is_at': 'jfk', 'c3_is_at': 'null', 'c4_is_at': 'jfk', 'c5_is_at': 'lax', 'p1_is_at': 'sfo', 'p2_is_at': 'sfo', 'c1_is_in': 'p1', 'c2_is_in': 'p2', 'c3_is_in': 'p2', 'c4_is_in': 'null', 'c5_is_in': 'null'}\n",
      "   --unload_c2_from_p2_to_sfo--> {'c1_is_at': 'sfo', 'c2_is_at': 'sfo', 'c3_is_at': 'null', 'c4_is_at': 'jfk', 'c5_is_at': 'lax', 'p1_is_at': 'sfo', 'p2_is_at': 'sfo', 'c1_is_in': 'p1', 'c2_is_in': 'null', 'c3_is_in': 'p2', 'c4_is_in': 'null', 'c5_is_in': 'null'}\n",
      "   --fly_p1_from_sfo_to_jfk--> {'c1_is_at': 'sfo', 'c2_is_at': 'sfo', 'c3_is_at': 'null', 'c4_is_at': 'jfk', 'c5_is_at': 'lax', 'p1_is_at': 'jfk', 'p2_is_at': 'sfo', 'c1_is_in': 'p1', 'c2_is_in': 'null', 'c3_is_in': 'p2', 'c4_is_in': 'null', 'c5_is_in': 'null'}\n",
      "   --unload_c3_from_p2_to_sfo--> {'c1_is_at': 'sfo', 'c2_is_at': 'sfo', 'c3_is_at': 'sfo', 'c4_is_at': 'jfk', 'c5_is_at': 'lax', 'p1_is_at': 'jfk', 'p2_is_at': 'sfo', 'c1_is_in': 'p1', 'c2_is_in': 'null', 'c3_is_in': 'null', 'c4_is_in': 'null', 'c5_is_in': 'null'}\n",
      "   --unload_c1_from_p1_to_jfk--> {'c1_is_at': 'jfk', 'c2_is_at': 'sfo', 'c3_is_at': 'sfo', 'c4_is_at': 'jfk', 'c5_is_at': 'lax', 'p1_is_at': 'jfk', 'p2_is_at': 'sfo', 'c1_is_in': 'null', 'c2_is_in': 'null', 'c3_is_in': 'null', 'c4_is_in': 'null', 'c5_is_in': 'null'} (cost: 7)\n",
      " 882 paths have been expanded and 3399 paths remain in the frontier\n",
      "Elapsed time: 0.767331 seconds\n"
     ]
    }
   ],
   "source": [
    "print('Problem 1 - Sub Problem 1 - With heuristic:')\n",
    "\n",
    "start: float = perf_counter()\n",
    "SearcherMPP(Forward_STRIPS(air_cargo1_sub_problem_1, h_unloaded_cargo)).search()\n",
    "end: float = perf_counter()\n",
    "\n",
    "print(f'Elapsed time: {end - start:.6f} seconds')\n",
    "\n",
    "data.loc[len(data)] = ['Problem 1 - Sub Problem 1', True, end - start]"
   ],
   "metadata": {
    "collapsed": false,
    "ExecuteTime": {
     "end_time": "2024-03-24T19:10:04.884670Z",
     "start_time": "2024-03-24T19:10:04.113063Z"
    }
   },
   "execution_count": 46
  },
  {
   "cell_type": "code",
   "outputs": [
    {
     "name": "stdout",
     "output_type": "stream",
     "text": [
      "Problem 1 - Sub Problem 2 - With heuristic:\n",
      "Solution: {'c1_is_at': 'jfk', 'c2_is_at': 'sfo', 'c3_is_at': 'sfo', 'c4_is_at': 'jfk', 'c5_is_at': 'lax', 'p1_is_at': 'jfk', 'p2_is_at': 'sfo', 'c1_is_in': 'null', 'c2_is_in': 'null', 'c3_is_in': 'null', 'c4_is_in': 'null', 'c5_is_in': 'null'}\n",
      "   --fly_p2_from_sfo_to_jfk--> {'c1_is_at': 'jfk', 'c2_is_at': 'sfo', 'c3_is_at': 'sfo', 'c4_is_at': 'jfk', 'c5_is_at': 'lax', 'p1_is_at': 'jfk', 'p2_is_at': 'jfk', 'c1_is_in': 'null', 'c2_is_in': 'null', 'c3_is_in': 'null', 'c4_is_in': 'null', 'c5_is_in': 'null'}\n",
      "   --load_c4_from_jfk_to_p2--> {'c1_is_at': 'jfk', 'c2_is_at': 'sfo', 'c3_is_at': 'sfo', 'c4_is_at': 'null', 'c5_is_at': 'lax', 'p1_is_at': 'jfk', 'p2_is_at': 'jfk', 'c1_is_in': 'null', 'c2_is_in': 'null', 'c3_is_in': 'null', 'c4_is_in': 'p2', 'c5_is_in': 'null'}\n",
      "   --fly_p2_from_jfk_to_lax--> {'c1_is_at': 'jfk', 'c2_is_at': 'sfo', 'c3_is_at': 'sfo', 'c4_is_at': 'null', 'c5_is_at': 'lax', 'p1_is_at': 'jfk', 'p2_is_at': 'lax', 'c1_is_in': 'null', 'c2_is_in': 'null', 'c3_is_in': 'null', 'c4_is_in': 'p2', 'c5_is_in': 'null'}\n",
      "   --unload_c4_from_p2_to_lax--> {'c1_is_at': 'jfk', 'c2_is_at': 'sfo', 'c3_is_at': 'sfo', 'c4_is_at': 'lax', 'c5_is_at': 'lax', 'p1_is_at': 'jfk', 'p2_is_at': 'lax', 'c1_is_in': 'null', 'c2_is_in': 'null', 'c3_is_in': 'null', 'c4_is_in': 'null', 'c5_is_in': 'null'}\n",
      "   --load_c5_from_lax_to_p2--> {'c1_is_at': 'jfk', 'c2_is_at': 'sfo', 'c3_is_at': 'sfo', 'c4_is_at': 'lax', 'c5_is_at': 'null', 'p1_is_at': 'jfk', 'p2_is_at': 'lax', 'c1_is_in': 'null', 'c2_is_in': 'null', 'c3_is_in': 'null', 'c4_is_in': 'null', 'c5_is_in': 'p2'}\n",
      "   --fly_p2_from_lax_to_sfo--> {'c1_is_at': 'jfk', 'c2_is_at': 'sfo', 'c3_is_at': 'sfo', 'c4_is_at': 'lax', 'c5_is_at': 'null', 'p1_is_at': 'jfk', 'p2_is_at': 'sfo', 'c1_is_in': 'null', 'c2_is_in': 'null', 'c3_is_in': 'null', 'c4_is_in': 'null', 'c5_is_in': 'p2'}\n",
      "   --unload_c5_from_p2_to_sfo--> {'c1_is_at': 'jfk', 'c2_is_at': 'sfo', 'c3_is_at': 'sfo', 'c4_is_at': 'lax', 'c5_is_at': 'sfo', 'p1_is_at': 'jfk', 'p2_is_at': 'sfo', 'c1_is_in': 'null', 'c2_is_in': 'null', 'c3_is_in': 'null', 'c4_is_in': 'null', 'c5_is_in': 'null'} (cost: 7)\n",
      " 450 paths have been expanded and 1856 paths remain in the frontier\n",
      "Elapsed time: 0.403290 seconds\n"
     ]
    }
   ],
   "source": [
    "print('Problem 1 - Sub Problem 2 - With heuristic:')\n",
    "\n",
    "start: float = perf_counter()\n",
    "SearcherMPP(Forward_STRIPS(air_cargo1_sub_problem_2, h_unloaded_cargo)).search()\n",
    "end: float = perf_counter()\n",
    "\n",
    "print(f'Elapsed time: {end - start:.6f} seconds')\n",
    "\n",
    "data.loc[len(data)] = ['Problem 1 - Sub Problem 2', True, end - start]"
   ],
   "metadata": {
    "collapsed": false,
    "ExecuteTime": {
     "end_time": "2024-03-24T19:10:07.652669Z",
     "start_time": "2024-03-24T19:10:07.244223Z"
    }
   },
   "execution_count": 47
  },
  {
   "cell_type": "code",
   "outputs": [],
   "source": [
    "# Sub goal / initial state\n",
    "air_sub_problem_2: dict[str, str] = {\n",
    "    At('c1'): 'atl',\n",
    "    At('c2'): 'ord',\n",
    "    At('c3'): 'jfk',\n",
    "\n",
    "    At('p1'): 'sfo',\n",
    "    At('p2'): 'jfk',\n",
    "    At('p3'): 'jfk',\n",
    "\n",
    "    In('c1'): 'null',\n",
    "    In('c2'): 'null',\n",
    "    In('c3'): 'null',\n",
    "}\n",
    "\n",
    "air_cargo2_sub_problem_1: Planning_problem = Planning_problem(air_cargo2dom, air_setup2, air_sub_problem_2)\n",
    "air_cargo2_sub_problem_2: Planning_problem = Planning_problem(air_cargo2dom, air_sub_problem_2, air_goal2)"
   ],
   "metadata": {
    "collapsed": false,
    "ExecuteTime": {
     "end_time": "2024-03-24T19:10:34.608180Z",
     "start_time": "2024-03-24T19:10:34.604125Z"
    }
   },
   "execution_count": 53
  },
  {
   "cell_type": "code",
   "outputs": [
    {
     "name": "stdout",
     "output_type": "stream",
     "text": [
      "Problem 2 - Sub Problem 1 - No heuristic:\n",
      "Solution: {'c1_is_at': 'atl', 'c2_is_at': 'ord', 'c3_is_at': 'jfk', 'p1_is_at': 'sfo', 'p2_is_at': 'jfk', 'p3_is_at': 'ord', 'c1_is_in': 'null', 'c2_is_in': 'null', 'c3_is_in': 'null'}\n",
      "   --fly_p3_from_ord_to_jfk--> {'c1_is_at': 'atl', 'c2_is_at': 'ord', 'c3_is_at': 'jfk', 'p1_is_at': 'sfo', 'p2_is_at': 'jfk', 'p3_is_at': 'jfk', 'c1_is_in': 'null', 'c2_is_in': 'null', 'c3_is_in': 'null'} (cost: 1)\n",
      " 7 paths have been expanded and 65 paths remain in the frontier\n",
      "Elapsed time: 0.001275 seconds\n"
     ]
    }
   ],
   "source": [
    "# Sub problem 2\n",
    "# Idea: Ground not needed aircrafts, then solve the problem with less number of planes.\n",
    "\n",
    "print('Problem 2 - Sub Problem 1 - No heuristic:')\n",
    "\n",
    "start: float = perf_counter()\n",
    "SearcherMPP(Forward_STRIPS(air_cargo2_sub_problem_1)).search()\n",
    "end: float = perf_counter()\n",
    "\n",
    "print(f'Elapsed time: {end - start:.6f} seconds')\n",
    "\n",
    "data.loc[len(data)] = ['Problem 2 - Sub Problem 1', False, end - start]"
   ],
   "metadata": {
    "collapsed": false,
    "ExecuteTime": {
     "end_time": "2024-03-24T19:10:35.768972Z",
     "start_time": "2024-03-24T19:10:35.762536Z"
    }
   },
   "execution_count": 54
  },
  {
   "cell_type": "code",
   "outputs": [
    {
     "name": "stdout",
     "output_type": "stream",
     "text": [
      "Problem 2 - Sub Problem 2 - No heuristic:\n",
      "Solution: {'c1_is_at': 'atl', 'c2_is_at': 'ord', 'c3_is_at': 'jfk', 'p1_is_at': 'sfo', 'p2_is_at': 'jfk', 'p3_is_at': 'jfk', 'c1_is_in': 'null', 'c2_is_in': 'null', 'c3_is_in': 'null'}\n",
      "   --load_c3_from_jfk_to_p3--> {'c1_is_at': 'atl', 'c2_is_at': 'ord', 'c3_is_at': 'null', 'p1_is_at': 'sfo', 'p2_is_at': 'jfk', 'p3_is_at': 'jfk', 'c1_is_in': 'null', 'c2_is_in': 'null', 'c3_is_in': 'p3'}\n",
      "   --fly_p3_from_jfk_to_ord--> {'c1_is_at': 'atl', 'c2_is_at': 'ord', 'c3_is_at': 'null', 'p1_is_at': 'sfo', 'p2_is_at': 'jfk', 'p3_is_at': 'ord', 'c1_is_in': 'null', 'c2_is_in': 'null', 'c3_is_in': 'p3'}\n",
      "   --load_c2_from_ord_to_p3--> {'c1_is_at': 'atl', 'c2_is_at': 'null', 'c3_is_at': 'null', 'p1_is_at': 'sfo', 'p2_is_at': 'jfk', 'p3_is_at': 'ord', 'c1_is_in': 'null', 'c2_is_in': 'p3', 'c3_is_in': 'p3'}\n",
      "   --fly_p3_from_ord_to_atl--> {'c1_is_at': 'atl', 'c2_is_at': 'null', 'c3_is_at': 'null', 'p1_is_at': 'sfo', 'p2_is_at': 'jfk', 'p3_is_at': 'atl', 'c1_is_in': 'null', 'c2_is_in': 'p3', 'c3_is_in': 'p3'}\n",
      "   --load_c1_from_atl_to_p3--> {'c1_is_at': 'null', 'c2_is_at': 'null', 'c3_is_at': 'null', 'p1_is_at': 'sfo', 'p2_is_at': 'jfk', 'p3_is_at': 'atl', 'c1_is_in': 'p3', 'c2_is_in': 'p3', 'c3_is_in': 'p3'}\n",
      "   --fly_p3_from_atl_to_sfo--> {'c1_is_at': 'null', 'c2_is_at': 'null', 'c3_is_at': 'null', 'p1_is_at': 'sfo', 'p2_is_at': 'jfk', 'p3_is_at': 'sfo', 'c1_is_in': 'p3', 'c2_is_in': 'p3', 'c3_is_in': 'p3'}\n",
      "   --unload_c3_from_p3_to_sfo--> {'c1_is_at': 'null', 'c2_is_at': 'null', 'c3_is_at': 'sfo', 'p1_is_at': 'sfo', 'p2_is_at': 'jfk', 'p3_is_at': 'sfo', 'c1_is_in': 'p3', 'c2_is_in': 'p3', 'c3_is_in': 'null'}\n",
      "   --unload_c2_from_p3_to_sfo--> {'c1_is_at': 'null', 'c2_is_at': 'sfo', 'c3_is_at': 'sfo', 'p1_is_at': 'sfo', 'p2_is_at': 'jfk', 'p3_is_at': 'sfo', 'c1_is_in': 'p3', 'c2_is_in': 'null', 'c3_is_in': 'null'}\n",
      "   --fly_p3_from_sfo_to_jfk--> {'c1_is_at': 'null', 'c2_is_at': 'sfo', 'c3_is_at': 'sfo', 'p1_is_at': 'sfo', 'p2_is_at': 'jfk', 'p3_is_at': 'jfk', 'c1_is_in': 'p3', 'c2_is_in': 'null', 'c3_is_in': 'null'}\n",
      "   --unload_c1_from_p3_to_jfk--> {'c1_is_at': 'jfk', 'c2_is_at': 'sfo', 'c3_is_at': 'sfo', 'p1_is_at': 'sfo', 'p2_is_at': 'jfk', 'p3_is_at': 'jfk', 'c1_is_in': 'null', 'c2_is_in': 'null', 'c3_is_in': 'null'} (cost: 10)\n",
      " 21166 paths have been expanded and 96059 paths remain in the frontier\n",
      "Elapsed time: 600.387508 seconds\n"
     ]
    }
   ],
   "source": [
    "print('Problem 2 - Sub Problem 2 - No heuristic:')\n",
    "\n",
    "start: float = perf_counter()\n",
    "SearcherMPP(Forward_STRIPS(air_cargo2_sub_problem_2)).search()\n",
    "end: float = perf_counter()\n",
    "\n",
    "print(f'Elapsed time: {end - start:.6f} seconds')\n",
    "\n",
    "data.loc[len(data)] = ['Problem 2 - Sub Problem 2', False, end - start]"
   ],
   "metadata": {
    "collapsed": false,
    "ExecuteTime": {
     "end_time": "2024-03-24T19:20:37.135696Z",
     "start_time": "2024-03-24T19:10:36.744162Z"
    }
   },
   "execution_count": 55
  },
  {
   "cell_type": "code",
   "outputs": [
    {
     "name": "stdout",
     "output_type": "stream",
     "text": [
      "Problem 2 - Sub Problem 1 - With heuristic:\n",
      "Solution: {'c1_is_at': 'atl', 'c2_is_at': 'ord', 'c3_is_at': 'jfk', 'p1_is_at': 'sfo', 'p2_is_at': 'jfk', 'p3_is_at': 'ord', 'c1_is_in': 'null', 'c2_is_in': 'null', 'c3_is_in': 'null'}\n",
      "   --fly_p3_from_ord_to_jfk--> {'c1_is_at': 'atl', 'c2_is_at': 'ord', 'c3_is_at': 'jfk', 'p1_is_at': 'sfo', 'p2_is_at': 'jfk', 'p3_is_at': 'jfk', 'c1_is_in': 'null', 'c2_is_in': 'null', 'c3_is_in': 'null'} (cost: 1)\n",
      " 2 paths have been expanded and 11 paths remain in the frontier\n",
      "Elapsed time: 0.000342 seconds\n"
     ]
    }
   ],
   "source": [
    "print('Problem 2 - Sub Problem 1 - With heuristic:')\n",
    "\n",
    "start: float = perf_counter()\n",
    "SearcherMPP(Forward_STRIPS(air_cargo2_sub_problem_1, h_mismatched_planes)).search()\n",
    "end: float = perf_counter()\n",
    "\n",
    "print(f'Elapsed time: {end - start:.6f} seconds')\n",
    "\n",
    "data.loc[len(data)] = ['Problem 2 - Sub Problem 1', True, end - start]"
   ],
   "metadata": {
    "collapsed": false,
    "ExecuteTime": {
     "end_time": "2024-03-24T19:21:15.234563Z",
     "start_time": "2024-03-24T19:21:15.229587Z"
    }
   },
   "execution_count": 56
  },
  {
   "cell_type": "code",
   "outputs": [
    {
     "name": "stdout",
     "output_type": "stream",
     "text": [
      "Problem 2 - Sub Problem 2 - With heuristic:\n",
      "Solution: {'c1_is_at': 'atl', 'c2_is_at': 'ord', 'c3_is_at': 'jfk', 'p1_is_at': 'sfo', 'p2_is_at': 'jfk', 'p3_is_at': 'jfk', 'c1_is_in': 'null', 'c2_is_in': 'null', 'c3_is_in': 'null'}\n",
      "   --load_c3_from_jfk_to_p3--> {'c1_is_at': 'atl', 'c2_is_at': 'ord', 'c3_is_at': 'null', 'p1_is_at': 'sfo', 'p2_is_at': 'jfk', 'p3_is_at': 'jfk', 'c1_is_in': 'null', 'c2_is_in': 'null', 'c3_is_in': 'p3'}\n",
      "   --fly_p3_from_jfk_to_ord--> {'c1_is_at': 'atl', 'c2_is_at': 'ord', 'c3_is_at': 'null', 'p1_is_at': 'sfo', 'p2_is_at': 'jfk', 'p3_is_at': 'ord', 'c1_is_in': 'null', 'c2_is_in': 'null', 'c3_is_in': 'p3'}\n",
      "   --load_c2_from_ord_to_p3--> {'c1_is_at': 'atl', 'c2_is_at': 'null', 'c3_is_at': 'null', 'p1_is_at': 'sfo', 'p2_is_at': 'jfk', 'p3_is_at': 'ord', 'c1_is_in': 'null', 'c2_is_in': 'p3', 'c3_is_in': 'p3'}\n",
      "   --fly_p3_from_ord_to_sfo--> {'c1_is_at': 'atl', 'c2_is_at': 'null', 'c3_is_at': 'null', 'p1_is_at': 'sfo', 'p2_is_at': 'jfk', 'p3_is_at': 'sfo', 'c1_is_in': 'null', 'c2_is_in': 'p3', 'c3_is_in': 'p3'}\n",
      "   --unload_c3_from_p3_to_sfo--> {'c1_is_at': 'atl', 'c2_is_at': 'null', 'c3_is_at': 'sfo', 'p1_is_at': 'sfo', 'p2_is_at': 'jfk', 'p3_is_at': 'sfo', 'c1_is_in': 'null', 'c2_is_in': 'p3', 'c3_is_in': 'null'}\n",
      "   --unload_c2_from_p3_to_sfo--> {'c1_is_at': 'atl', 'c2_is_at': 'sfo', 'c3_is_at': 'sfo', 'p1_is_at': 'sfo', 'p2_is_at': 'jfk', 'p3_is_at': 'sfo', 'c1_is_in': 'null', 'c2_is_in': 'null', 'c3_is_in': 'null'}\n",
      "   --fly_p3_from_sfo_to_atl--> {'c1_is_at': 'atl', 'c2_is_at': 'sfo', 'c3_is_at': 'sfo', 'p1_is_at': 'sfo', 'p2_is_at': 'jfk', 'p3_is_at': 'atl', 'c1_is_in': 'null', 'c2_is_in': 'null', 'c3_is_in': 'null'}\n",
      "   --load_c1_from_atl_to_p3--> {'c1_is_at': 'null', 'c2_is_at': 'sfo', 'c3_is_at': 'sfo', 'p1_is_at': 'sfo', 'p2_is_at': 'jfk', 'p3_is_at': 'atl', 'c1_is_in': 'p3', 'c2_is_in': 'null', 'c3_is_in': 'null'}\n",
      "   --fly_p3_from_atl_to_jfk--> {'c1_is_at': 'null', 'c2_is_at': 'sfo', 'c3_is_at': 'sfo', 'p1_is_at': 'sfo', 'p2_is_at': 'jfk', 'p3_is_at': 'jfk', 'c1_is_in': 'p3', 'c2_is_in': 'null', 'c3_is_in': 'null'}\n",
      "   --unload_c1_from_p3_to_jfk--> {'c1_is_at': 'jfk', 'c2_is_at': 'sfo', 'c3_is_at': 'sfo', 'p1_is_at': 'sfo', 'p2_is_at': 'jfk', 'p3_is_at': 'jfk', 'c1_is_in': 'null', 'c2_is_in': 'null', 'c3_is_in': 'null'} (cost: 10)\n",
      " 17320 paths have been expanded and 91135 paths remain in the frontier\n",
      "Elapsed time: 424.487179 seconds\n"
     ]
    }
   ],
   "source": [
    "print('Problem 2 - Sub Problem 2 - With heuristic:')\n",
    "\n",
    "start: float = perf_counter()\n",
    "SearcherMPP(Forward_STRIPS(air_cargo2_sub_problem_2, h_mismatched_planes)).search()\n",
    "end: float = perf_counter()\n",
    "\n",
    "print(f'Elapsed time: {end - start:.6f} seconds')\n",
    "\n",
    "data.loc[len(data)] = ['Problem 2 - Sub Problem 2', True, end - start]"
   ],
   "metadata": {
    "collapsed": false,
    "ExecuteTime": {
     "end_time": "2024-03-24T19:28:25.482122Z",
     "start_time": "2024-03-24T19:21:20.990183Z"
    }
   },
   "execution_count": 57
  },
  {
   "cell_type": "code",
   "outputs": [],
   "source": [
    "# Sub goal / initial state\n",
    "air_sub_problem_3: dict[str, str] = {\n",
    "    At('c1'): 'jfk',\n",
    "    At('c2'): 'sfo',\n",
    "    At('c3'): 'jfk',\n",
    "    At('c4'): 'jfk',\n",
    "\n",
    "    At('p1'): 'sfo',\n",
    "    At('p2'): 'jfk',\n",
    "    At('p3'): 'jfk',\n",
    "\n",
    "    In('c1'): 'null',\n",
    "    In('c2'): 'null',\n",
    "    In('c3'): 'null',\n",
    "    In('c4'): 'null',\n",
    "}\n",
    "\n",
    "air_cargo3_sub_problem_1: Planning_problem = Planning_problem(air_cargo3dom, air_setup3, air_sub_problem_3)\n",
    "air_cargo3_sub_problem_2: Planning_problem = Planning_problem(air_cargo3dom, air_sub_problem_3, air_goal3)"
   ],
   "metadata": {
    "collapsed": false,
    "ExecuteTime": {
     "end_time": "2024-03-24T19:30:13.760971Z",
     "start_time": "2024-03-24T19:30:13.756637Z"
    }
   },
   "execution_count": 61
  },
  {
   "cell_type": "code",
   "outputs": [
    {
     "name": "stdout",
     "output_type": "stream",
     "text": [
      "Problem 3 - Sub Problem 1 - No heuristic:\n",
      "No (more) solutions. Total of 5000 paths expanded.\n",
      "Elapsed time: 5.590369 seconds\n"
     ]
    }
   ],
   "source": [
    "# Sub problem 3\n",
    "# Idea: Solve the problem one package at a time, to utilize different access of some plane to a given airport.\n",
    "\n",
    "print('Problem 3 - Sub Problem 1 - No heuristic:')\n",
    "\n",
    "start: float = perf_counter()\n",
    "SearcherMPP(Forward_STRIPS(air_cargo3_sub_problem_1)).search()\n",
    "end: float = perf_counter()\n",
    "\n",
    "print(f'Elapsed time: {end - start:.6f} seconds')\n",
    "\n",
    "data.loc[len(data)] = ['Problem 3 - Sub Problem 1', False, end - start]"
   ],
   "metadata": {
    "collapsed": false,
    "ExecuteTime": {
     "end_time": "2024-03-24T19:30:20.050959Z",
     "start_time": "2024-03-24T19:30:14.456134Z"
    }
   },
   "execution_count": 62
  },
  {
   "cell_type": "code",
   "outputs": [
    {
     "name": "stdout",
     "output_type": "stream",
     "text": [
      "Problem 3 - Sub Problem 2 - No heuristic:\n",
      "Solution: {'c1_is_at': 'jfk', 'c2_is_at': 'sfo', 'c3_is_at': 'jfk', 'c4_is_at': 'jfk', 'p1_is_at': 'sfo', 'p2_is_at': 'jfk', 'p3_is_at': 'jfk', 'c1_is_in': 'null', 'c2_is_in': 'null', 'c3_is_in': 'null', 'c4_is_in': 'null'}\n",
      "   --load_c4_from_jfk_to_p3--> {'c1_is_at': 'jfk', 'c2_is_at': 'sfo', 'c3_is_at': 'jfk', 'c4_is_at': 'null', 'p1_is_at': 'sfo', 'p2_is_at': 'jfk', 'p3_is_at': 'jfk', 'c1_is_in': 'null', 'c2_is_in': 'null', 'c3_is_in': 'null', 'c4_is_in': 'p3'}\n",
      "   --fly_p3_from_jfk_to_lax--> {'c1_is_at': 'jfk', 'c2_is_at': 'sfo', 'c3_is_at': 'jfk', 'c4_is_at': 'null', 'p1_is_at': 'sfo', 'p2_is_at': 'jfk', 'p3_is_at': 'lax', 'c1_is_in': 'null', 'c2_is_in': 'null', 'c3_is_in': 'null', 'c4_is_in': 'p3'}\n",
      "   --load_c3_from_jfk_to_p2--> {'c1_is_at': 'jfk', 'c2_is_at': 'sfo', 'c3_is_at': 'null', 'c4_is_at': 'null', 'p1_is_at': 'sfo', 'p2_is_at': 'jfk', 'p3_is_at': 'lax', 'c1_is_in': 'null', 'c2_is_in': 'null', 'c3_is_in': 'p2', 'c4_is_in': 'p3'}\n",
      "   --fly_p2_from_jfk_to_sfo--> {'c1_is_at': 'jfk', 'c2_is_at': 'sfo', 'c3_is_at': 'null', 'c4_is_at': 'null', 'p1_is_at': 'sfo', 'p2_is_at': 'sfo', 'p3_is_at': 'lax', 'c1_is_in': 'null', 'c2_is_in': 'null', 'c3_is_in': 'p2', 'c4_is_in': 'p3'}\n",
      "   --unload_c4_from_p3_to_lax--> {'c1_is_at': 'jfk', 'c2_is_at': 'sfo', 'c3_is_at': 'null', 'c4_is_at': 'lax', 'p1_is_at': 'sfo', 'p2_is_at': 'sfo', 'p3_is_at': 'lax', 'c1_is_in': 'null', 'c2_is_in': 'null', 'c3_is_in': 'p2', 'c4_is_in': 'null'}\n",
      "   --unload_c3_from_p2_to_sfo--> {'c1_is_at': 'jfk', 'c2_is_at': 'sfo', 'c3_is_at': 'sfo', 'c4_is_at': 'lax', 'p1_is_at': 'sfo', 'p2_is_at': 'sfo', 'p3_is_at': 'lax', 'c1_is_in': 'null', 'c2_is_in': 'null', 'c3_is_in': 'null', 'c4_is_in': 'null'} (cost: 6)\n",
      " 1320 paths have been expanded and 4599 paths remain in the frontier\n",
      "Elapsed time: 1.240593 seconds\n"
     ]
    }
   ],
   "source": [
    "print('Problem 3 - Sub Problem 2 - No heuristic:')\n",
    "\n",
    "start: float = perf_counter()\n",
    "SearcherMPP(Forward_STRIPS(air_cargo3_sub_problem_2)).search()\n",
    "end: float = perf_counter()\n",
    "\n",
    "print(f'Elapsed time: {end - start:.6f} seconds')\n",
    "\n",
    "data.loc[len(data)] = ['Problem 3 - Sub Problem 2', False, end - start]"
   ],
   "metadata": {
    "collapsed": false,
    "ExecuteTime": {
     "end_time": "2024-03-24T19:31:23.742810Z",
     "start_time": "2024-03-24T19:31:22.498297Z"
    }
   },
   "execution_count": 63
  },
  {
   "cell_type": "code",
   "outputs": [
    {
     "name": "stdout",
     "output_type": "stream",
     "text": [
      "Problem 3 - Sub Problem 1 - With heuristic:\n",
      "No (more) solutions. Total of 5000 paths expanded.\n",
      "Elapsed time: 5.348742 seconds\n"
     ]
    }
   ],
   "source": [
    "print('Problem 3 - Sub Problem 1 - With heuristic:')\n",
    "\n",
    "start: float = perf_counter()\n",
    "SearcherMPP(Forward_STRIPS(air_cargo3_sub_problem_1, h_combined)).search()\n",
    "end: float = perf_counter()\n",
    "\n",
    "print(f'Elapsed time: {end - start:.6f} seconds')\n",
    "\n",
    "data.loc[len(data)] = ['Problem 3 - Sub Problem 1', True, end - start]"
   ],
   "metadata": {
    "collapsed": false,
    "ExecuteTime": {
     "end_time": "2024-03-24T19:31:29.933190Z",
     "start_time": "2024-03-24T19:31:24.580266Z"
    }
   },
   "execution_count": 64
  },
  {
   "cell_type": "code",
   "outputs": [
    {
     "name": "stdout",
     "output_type": "stream",
     "text": [
      "Problem 3 - Sub Problem 2 - With heuristic:\n",
      "Solution: {'c1_is_at': 'jfk', 'c2_is_at': 'sfo', 'c3_is_at': 'jfk', 'c4_is_at': 'jfk', 'p1_is_at': 'sfo', 'p2_is_at': 'jfk', 'p3_is_at': 'jfk', 'c1_is_in': 'null', 'c2_is_in': 'null', 'c3_is_in': 'null', 'c4_is_in': 'null'}\n",
      "   --load_c4_from_jfk_to_p3--> {'c1_is_at': 'jfk', 'c2_is_at': 'sfo', 'c3_is_at': 'jfk', 'c4_is_at': 'null', 'p1_is_at': 'sfo', 'p2_is_at': 'jfk', 'p3_is_at': 'jfk', 'c1_is_in': 'null', 'c2_is_in': 'null', 'c3_is_in': 'null', 'c4_is_in': 'p3'}\n",
      "   --load_c3_from_jfk_to_p2--> {'c1_is_at': 'jfk', 'c2_is_at': 'sfo', 'c3_is_at': 'null', 'c4_is_at': 'null', 'p1_is_at': 'sfo', 'p2_is_at': 'jfk', 'p3_is_at': 'jfk', 'c1_is_in': 'null', 'c2_is_in': 'null', 'c3_is_in': 'p2', 'c4_is_in': 'p3'}\n",
      "   --fly_p2_from_jfk_to_sfo--> {'c1_is_at': 'jfk', 'c2_is_at': 'sfo', 'c3_is_at': 'null', 'c4_is_at': 'null', 'p1_is_at': 'sfo', 'p2_is_at': 'sfo', 'p3_is_at': 'jfk', 'c1_is_in': 'null', 'c2_is_in': 'null', 'c3_is_in': 'p2', 'c4_is_in': 'p3'}\n",
      "   --unload_c3_from_p2_to_sfo--> {'c1_is_at': 'jfk', 'c2_is_at': 'sfo', 'c3_is_at': 'sfo', 'c4_is_at': 'null', 'p1_is_at': 'sfo', 'p2_is_at': 'sfo', 'p3_is_at': 'jfk', 'c1_is_in': 'null', 'c2_is_in': 'null', 'c3_is_in': 'null', 'c4_is_in': 'p3'}\n",
      "   --fly_p3_from_jfk_to_lax--> {'c1_is_at': 'jfk', 'c2_is_at': 'sfo', 'c3_is_at': 'sfo', 'c4_is_at': 'null', 'p1_is_at': 'sfo', 'p2_is_at': 'sfo', 'p3_is_at': 'lax', 'c1_is_in': 'null', 'c2_is_in': 'null', 'c3_is_in': 'null', 'c4_is_in': 'p3'}\n",
      "   --unload_c4_from_p3_to_lax--> {'c1_is_at': 'jfk', 'c2_is_at': 'sfo', 'c3_is_at': 'sfo', 'c4_is_at': 'lax', 'p1_is_at': 'sfo', 'p2_is_at': 'sfo', 'p3_is_at': 'lax', 'c1_is_in': 'null', 'c2_is_in': 'null', 'c3_is_in': 'null', 'c4_is_in': 'null'} (cost: 6)\n",
      " 466 paths have been expanded and 2116 paths remain in the frontier\n",
      "Elapsed time: 0.341602 seconds\n"
     ]
    }
   ],
   "source": [
    "print('Problem 3 - Sub Problem 2 - With heuristic:')\n",
    "\n",
    "start: float = perf_counter()\n",
    "SearcherMPP(Forward_STRIPS(air_cargo3_sub_problem_2, h_combined)).search()\n",
    "end: float = perf_counter()\n",
    "\n",
    "print(f'Elapsed time: {end - start:.6f} seconds')\n",
    "\n",
    "data.loc[len(data)] = ['Problem 3 - Sub Problem 2', True, end - start]"
   ],
   "metadata": {
    "collapsed": false,
    "ExecuteTime": {
     "end_time": "2024-03-24T19:31:30.822128Z",
     "start_time": "2024-03-24T19:31:30.476128Z"
    }
   },
   "execution_count": 65
  },
  {
   "cell_type": "code",
   "outputs": [],
   "source": [],
   "metadata": {
    "collapsed": false,
    "ExecuteTime": {
     "end_time": "2024-03-24T19:31:31.573435Z",
     "start_time": "2024-03-24T19:31:31.570455Z"
    }
   },
   "execution_count": 65
  },
  {
   "cell_type": "code",
   "outputs": [
    {
     "data": {
      "text/plain": "                      problem  used_heuristic  elapsed_time\n0                   Problem 1           False    164.047016\n1                   Problem 1            True     50.530923\n2                   Problem 2           False   1035.112569\n3                   Problem 2            True    497.959938\n4                   Problem 3           False      4.405791\n5                   Problem 3            True      2.390381\n6   Problem 1 - Sub Problem 1           False      8.347586\n7   Problem 1 - Sub Problem 2           False      1.710939\n8   Problem 1 - Sub Problem 1            True      0.767331\n9   Problem 1 - Sub Problem 2            True      0.403290\n10  Problem 2 - Sub Problem 1           False      0.001302\n11  Problem 2 - Sub Problem 1           False      0.001275\n12  Problem 2 - Sub Problem 2           False    600.387508\n13  Problem 2 - Sub Problem 1            True      0.000342\n14  Problem 2 - Sub Problem 2            True    424.487179\n15  Problem 3 - Sub Problem 1           False      0.399859\n16  Problem 3 - Sub Problem 1           False      5.590369\n17  Problem 3 - Sub Problem 2           False      1.240593\n18  Problem 3 - Sub Problem 1            True      5.348742\n19  Problem 3 - Sub Problem 2            True      0.341602",
      "text/html": "<div>\n<style scoped>\n    .dataframe tbody tr th:only-of-type {\n        vertical-align: middle;\n    }\n\n    .dataframe tbody tr th {\n        vertical-align: top;\n    }\n\n    .dataframe thead th {\n        text-align: right;\n    }\n</style>\n<table border=\"1\" class=\"dataframe\">\n  <thead>\n    <tr style=\"text-align: right;\">\n      <th></th>\n      <th>problem</th>\n      <th>used_heuristic</th>\n      <th>elapsed_time</th>\n    </tr>\n  </thead>\n  <tbody>\n    <tr>\n      <th>0</th>\n      <td>Problem 1</td>\n      <td>False</td>\n      <td>164.047016</td>\n    </tr>\n    <tr>\n      <th>1</th>\n      <td>Problem 1</td>\n      <td>True</td>\n      <td>50.530923</td>\n    </tr>\n    <tr>\n      <th>2</th>\n      <td>Problem 2</td>\n      <td>False</td>\n      <td>1035.112569</td>\n    </tr>\n    <tr>\n      <th>3</th>\n      <td>Problem 2</td>\n      <td>True</td>\n      <td>497.959938</td>\n    </tr>\n    <tr>\n      <th>4</th>\n      <td>Problem 3</td>\n      <td>False</td>\n      <td>4.405791</td>\n    </tr>\n    <tr>\n      <th>5</th>\n      <td>Problem 3</td>\n      <td>True</td>\n      <td>2.390381</td>\n    </tr>\n    <tr>\n      <th>6</th>\n      <td>Problem 1 - Sub Problem 1</td>\n      <td>False</td>\n      <td>8.347586</td>\n    </tr>\n    <tr>\n      <th>7</th>\n      <td>Problem 1 - Sub Problem 2</td>\n      <td>False</td>\n      <td>1.710939</td>\n    </tr>\n    <tr>\n      <th>8</th>\n      <td>Problem 1 - Sub Problem 1</td>\n      <td>True</td>\n      <td>0.767331</td>\n    </tr>\n    <tr>\n      <th>9</th>\n      <td>Problem 1 - Sub Problem 2</td>\n      <td>True</td>\n      <td>0.403290</td>\n    </tr>\n    <tr>\n      <th>10</th>\n      <td>Problem 2 - Sub Problem 1</td>\n      <td>False</td>\n      <td>0.001302</td>\n    </tr>\n    <tr>\n      <th>11</th>\n      <td>Problem 2 - Sub Problem 1</td>\n      <td>False</td>\n      <td>0.001275</td>\n    </tr>\n    <tr>\n      <th>12</th>\n      <td>Problem 2 - Sub Problem 2</td>\n      <td>False</td>\n      <td>600.387508</td>\n    </tr>\n    <tr>\n      <th>13</th>\n      <td>Problem 2 - Sub Problem 1</td>\n      <td>True</td>\n      <td>0.000342</td>\n    </tr>\n    <tr>\n      <th>14</th>\n      <td>Problem 2 - Sub Problem 2</td>\n      <td>True</td>\n      <td>424.487179</td>\n    </tr>\n    <tr>\n      <th>15</th>\n      <td>Problem 3 - Sub Problem 1</td>\n      <td>False</td>\n      <td>0.399859</td>\n    </tr>\n    <tr>\n      <th>16</th>\n      <td>Problem 3 - Sub Problem 1</td>\n      <td>False</td>\n      <td>5.590369</td>\n    </tr>\n    <tr>\n      <th>17</th>\n      <td>Problem 3 - Sub Problem 2</td>\n      <td>False</td>\n      <td>1.240593</td>\n    </tr>\n    <tr>\n      <th>18</th>\n      <td>Problem 3 - Sub Problem 1</td>\n      <td>True</td>\n      <td>5.348742</td>\n    </tr>\n    <tr>\n      <th>19</th>\n      <td>Problem 3 - Sub Problem 2</td>\n      <td>True</td>\n      <td>0.341602</td>\n    </tr>\n  </tbody>\n</table>\n</div>"
     },
     "execution_count": 66,
     "metadata": {},
     "output_type": "execute_result"
    }
   ],
   "source": [
    "data"
   ],
   "metadata": {
    "collapsed": false,
    "ExecuteTime": {
     "end_time": "2024-03-24T19:31:32.203404Z",
     "start_time": "2024-03-24T19:31:32.194356Z"
    }
   },
   "execution_count": 66
  },
  {
   "cell_type": "code",
   "outputs": [
    {
     "data": {
      "text/plain": "problem            object\nused_heuristic       bool\nelapsed_time      float64\ndtype: object"
     },
     "execution_count": 67,
     "metadata": {},
     "output_type": "execute_result"
    }
   ],
   "source": [
    "data.dtypes"
   ],
   "metadata": {
    "collapsed": false,
    "ExecuteTime": {
     "end_time": "2024-03-24T19:31:39.825137Z",
     "start_time": "2024-03-24T19:31:39.819977Z"
    }
   },
   "execution_count": 67
  },
  {
   "cell_type": "code",
   "outputs": [],
   "source": [],
   "metadata": {
    "collapsed": false
   }
  }
 ],
 "metadata": {
  "kernelspec": {
   "name": "ioadc",
   "language": "python",
   "display_name": "IOADC"
  },
  "language_info": {
   "codemirror_mode": {
    "name": "ipython",
    "version": 3
   },
   "file_extension": ".py",
   "mimetype": "text/x-python",
   "name": "python",
   "nbconvert_exporter": "python",
   "pygments_lexer": "ipython3",
   "version": "3.12.1"
  }
 },
 "nbformat": 4,
 "nbformat_minor": 2
}
