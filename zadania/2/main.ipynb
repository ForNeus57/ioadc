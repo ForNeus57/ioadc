{
 "cells": [
  {
   "cell_type": "code",
   "execution_count": null,
   "metadata": {},
   "outputs": [],
   "source": [
    "%pip install numpy\n",
    "%pip install pandas\n",
    "%pip install matplotlib\n",
    "%pip install wget"
   ]
  },
  {
   "cell_type": "code",
   "outputs": [],
   "source": [
    "# Download the library from the following link:\n",
    "# https://artint.info/AIPython/\n",
    "\n",
    "from os.path import exists\n",
    "from pathlib import Path\n",
    "from typing import Final\n",
    "from zipfile import ZipFile\n",
    "\n",
    "from wget import download\n",
    "\n",
    "URL: Final[str] = 'https://artint.info/AIPython/aipython.zip'\n",
    "DESTINATION: Final[Path] = Path('aipython.zip')\n",
    "\n",
    "if not exists(DESTINATION):\n",
    "    download(url=URL, out=DESTINATION.absolute().as_posix())\n",
    "\n",
    "if not exists(DESTINATION.stem):\n",
    "    with ZipFile(DESTINATION, 'r') as zip_ref:\n",
    "        zip_ref.extractall(DESTINATION.stem)"
   ],
   "metadata": {
    "collapsed": false
   },
   "execution_count": null
  },
  {
   "cell_type": "code",
   "outputs": [],
   "source": [
    "import sys\n",
    "\n",
    "# Cheat so I don't have to make `aipython` a package with setuptools or move main.ipynb into the `aipython` directory\n",
    "sys.path.append(DESTINATION.stem)"
   ],
   "metadata": {
    "collapsed": false
   },
   "execution_count": null
  },
  {
   "cell_type": "code",
   "outputs": [],
   "source": [
    "import pandas as pd\n",
    "\n",
    "# Makes it easier to transfer data to .tex tables\n",
    "data: pd.DataFrame = pd.DataFrame(\n",
    "    columns=['problem', 'used_heuristic', 'elapsed_time']\n",
    ")"
   ],
   "metadata": {
    "collapsed": false
   },
   "execution_count": null
  },
  {
   "cell_type": "code",
   "execution_count": null,
   "metadata": {},
   "outputs": [],
   "source": [
    "#;; Air cargo transport problem.\n",
    "#;; http://www.inf.unibz.it/~tessaris/teaching/AI_06-07/labs/2007-01-10/planning.html\n",
    "#;;\n",
    "\n",
    "#(define (domain air-cargo)\n",
    "#  (:requirements :strips)\n",
    "#  (:predicates (In ?obj ?place)\n",
    "#           (At ?obj ?place)\n",
    "#           (Cargo ?obj)\n",
    "#           (Plane ?obj)\n",
    "#           (Airport ?obj))\n",
    "\n",
    "#  (:action LOAD\n",
    "#     :parameters (?c ?p ?a)\n",
    "#     :precondition (and (At ?c ?a) (At ?p ?a)\n",
    "#             (Cargo ?c) (Plane ?p) (Airport ?a))\n",
    "#     :effect (and (In ?c ?p) (not (At ?c ?a))))\n",
    "#  \n",
    "#  (:action UNLOAD\n",
    "#     :parameters (?c ?p ?a)\n",
    "#     :precondition (and (In ?c ?p) (At ?p ?a)\n",
    "#             (Cargo ?c) (Plane ?p) (Airport ?a))\n",
    "#     :effect (and (At ?c ?a) (not (In ?c ?p))))\n",
    "#  \n",
    "#  (:action FLY\n",
    "#     :parameters (?p ?from ?to)\n",
    "#     :precondition (and (At ?p ?from)\n",
    "#             (Plane ?p) (Airport ?from) (Airport ?to))\n",
    "#     :effect (and (At ?p ?to) (not (At ?p ?from))))\n",
    "#  )"
   ]
  },
  {
   "cell_type": "code",
   "execution_count": null,
   "metadata": {},
   "outputs": [],
   "source": [
    "# STRIPS domain - Air Cargo Transportation\n",
    "from stripsProblem import Strips, STRIPS_domain, Planning_problem\n",
    "\n",
    "def In(obj: str) -> str:\n",
    "    return obj + '_is_in'\n",
    "\n",
    "def At(obj: str) -> str:\n",
    "    return obj + '_is_at'\n",
    "\n",
    "def Cargo(obj: str) -> str:\n",
    "    return obj + '_is_cargo'\n",
    "\n",
    "def Plane(obj: str) -> str:\n",
    "    return obj + '_is_plane'\n",
    "\n",
    "def Airport(obj: str) -> str:\n",
    "    return obj + '_is_airport'\n",
    "\n",
    "def Load(cargo: str, plane: str, airport: str) -> str:\n",
    "    return 'load_' + cargo + '_from_' + airport + '_to_' + plane\n",
    "\n",
    "def Unload(cargo: str, plane: str, airport: str) -> str:\n",
    "    return 'unload_' + cargo + '_from_' + plane + '_to_' + airport\n",
    "\n",
    "def Fly(plane: str, airport_from: str, airport_to: str) -> str:\n",
    "    return 'fly_' + plane + '_from_' + airport_from + '_to_' + airport_to\n",
    "\n",
    "\n",
    "null: set[str] = {'null'}\n",
    "def create_air_cargo_transportation(cargo: set[str], planes: set[str], airports: set[str], cargo_forbidden_airports: dict[str, set[str]], planes_forbidden_airports: dict[str, set[str]]) -> STRIPS_domain:\n",
    "    assert len(cargo) > 0, \"Cargo set must not be empty.\"\n",
    "    assert len(planes) > 0, \"Planes set must not be empty.\"\n",
    "    assert len(airports) > 0, \"Airports set must not be empty.\"\n",
    "    \n",
    "    assert all(c in cargo_forbidden_airports for c in cargo), \"All cargo must have a forbidden airports set that may or may not be empty.\"\n",
    "    assert all(p in planes_forbidden_airports for p in planes), \"All planes must have a forbidden airports set that may or may not be empty.\"\n",
    "    \n",
    "    #feature_domain_dict = {Cargo(x):True for x in cargo}\n",
    "    #feature_domain_dict.update({Cargo(x):False for x in cargo_storage})\n",
    "    #feature_domain_dict.update({Plane(x):True for x in planes})\n",
    "    #feature_domain_dict.update({Plane(x):False for x in cargo|airports})\n",
    "    #feature_domain_dict.update({Airport(x):True for x in airports})\n",
    "    #feature_domain_dict.update({Airport(x):False for x in cargo|planes})\n",
    "    feature_domain_dict: dict[str, set[str]] = {In(x): planes | null\n",
    "                                                for x in cargo}\n",
    "    feature_domain_dict.update({At(x): (airports - (cargo_forbidden_airports | planes_forbidden_airports)[x]) | null\n",
    "                                for x in planes | cargo})\n",
    "\n",
    "\n",
    "    state_map: set[Strips] = {Strips(Load(c, p, a), {At(c): a, At(p): a}, {In(c): p, At(c): 'null'})\n",
    "                              for c in cargo\n",
    "                              for p in planes\n",
    "                              for a in airports}\n",
    "\n",
    "    state_map.update({Strips(Unload(c, p, a), {In(c): p, At(p): a}, {At(c): a, In(c): 'null'})\n",
    "                      for c in cargo\n",
    "                      for p in planes\n",
    "                      for a in airports\n",
    "                      if a not in cargo_forbidden_airports[c]})\n",
    "\n",
    "    state_map.update({Strips(Fly(p, a_from, a_to), {At(p): a_from}, {At(p): a_to})\n",
    "                      for p in planes\n",
    "                      for a_from in airports\n",
    "                      for a_to in airports\n",
    "                      if a_from != a_to and a_to not in planes_forbidden_airports[p]})\n",
    "\n",
    "    return STRIPS_domain(feature_domain_dict, state_map)"
   ]
  },
  {
   "cell_type": "code",
   "execution_count": null,
   "metadata": {},
   "outputs": [],
   "source": [
    "# Domain\n",
    "air_cargo1dom: STRIPS_domain = create_air_cargo_transportation(\n",
    "    cargo={'c1', 'c2', 'c3', 'c4', 'c5'},\n",
    "    planes={'p1', 'p2',},\n",
    "    airports={'sfo', 'jfk', 'lax',},\n",
    "    cargo_forbidden_airports={'c1': set(), 'c2': set(), 'c3': set(), 'c4': set(), 'c5': set(),},\n",
    "    planes_forbidden_airports={'p1': {'lax'}, 'p2': set(),},\n",
    ")\n",
    "\n",
    "# Initial state\n",
    "air_setup1: dict[str, str] = {\n",
    "    At('c1'): 'sfo',\n",
    "    At('c2'): 'jfk',\n",
    "    At('c3'): 'lax',\n",
    "    At('c4'): 'jfk',\n",
    "    At('c5'): 'lax',\n",
    "    \n",
    "    At('p1'): 'sfo',\n",
    "    At('p2'): 'jfk',\n",
    "    \n",
    "    # Airplanes start loaded with cargo to make the problem easier\n",
    "    In('c1'): 'p1',\n",
    "    In('c2'): 'p2',\n",
    "    In('c3'): 'null',\n",
    "    In('c4'): 'null',\n",
    "    In('c5'): 'null',\n",
    "}\n",
    "\n",
    "# Goal state\n",
    "air_goal1: dict[str, str] = {\n",
    "    At('c1'): 'jfk',\n",
    "    At('c2'): 'sfo',\n",
    "    At('c3'): 'sfo',\n",
    "    At('c4'): 'lax',\n",
    "    At('c5'): 'sfo',\n",
    "\n",
    "    In('c1'): 'null',\n",
    "    In('c2'): 'null',\n",
    "    In('c3'): 'null',\n",
    "    In('c4'): 'null',\n",
    "    In('c5'): 'null',\n",
    "}\n",
    "\n",
    "air_cargo1: Planning_problem = Planning_problem(air_cargo1dom, air_setup1, air_goal1)"
   ]
  },
  {
   "cell_type": "code",
   "execution_count": null,
   "metadata": {},
   "outputs": [],
   "source": [
    "from time import perf_counter\n",
    "\n",
    "from searchMPP import SearcherMPP\n",
    "from stripsForwardPlanner import Forward_STRIPS\n",
    "\n",
    "# Problem 1\n",
    "# Problem idea: We have many more cargo to send than planes, and the planes are not allowed to go to certain airports.\n",
    "print('Problem 1 - No heuristic:')\n",
    "\n",
    "start: float = perf_counter()\n",
    "SearcherMPP(Forward_STRIPS(air_cargo1)).search()\n",
    "end: float = perf_counter()\n",
    "\n",
    "print(f'Elapsed time: {end - start:.6f} seconds')\n",
    "\n",
    "data.loc[len(data)] = ['Problem 1', False, end - start]"
   ]
  },
  {
   "cell_type": "code",
   "outputs": [],
   "source": [
    "def h_unloaded_cargo(assignment, goal):\n",
    "    \"\"\"This heuristic counts the number of cargo that are not yet at their goal location. The idea is that the more cargo that are not at their goal, the further away we are from the goal state.\"\"\"\n",
    "    return sum(1 for k, v in goal.items() if assignment[k] != v and '_is_in' in k)"
   ],
   "metadata": {
    "collapsed": false
   },
   "execution_count": null
  },
  {
   "cell_type": "code",
   "outputs": [],
   "source": [
    "# Solution idea - we solve the problem by using a heuristic that counts the number of cargo that are not yet at their goal location, speeding the computation.\n",
    "print('Problem 1 - With heuristic:')\n",
    "\n",
    "start: float = perf_counter()\n",
    "SearcherMPP(Forward_STRIPS(air_cargo1, h_unloaded_cargo)).search()\n",
    "end: float = perf_counter()\n",
    "\n",
    "print(f'Elapsed time: {end - start:.6f} seconds')\n",
    "\n",
    "data.loc[len(data)] = ['Problem 1', True, end - start]"
   ],
   "metadata": {
    "collapsed": false
   },
   "execution_count": null
  },
  {
   "cell_type": "code",
   "outputs": [],
   "source": [
    "# Domain\n",
    "air_cargo2dom: STRIPS_domain = create_air_cargo_transportation(\n",
    "    cargo={'c1', 'c2', 'c3'},\n",
    "    planes={'p1', 'p2', 'p3', 'p4'},\n",
    "    airports={'sfo', 'jfk', 'lax', 'ord', 'atl',},\n",
    "    cargo_forbidden_airports={'c1': set(), 'c2': set(), 'c3': set(),},\n",
    "    planes_forbidden_airports={'p1': {'ord'}, 'p2': {'lax'}, 'p3': set(), 'p4': {'jfk'},},\n",
    ")\n",
    "\n",
    "# Initial state\n",
    "air_setup2: dict[str, str] = {\n",
    "    At('c1'): 'atl',\n",
    "    At('c2'): 'ord',\n",
    "    At('c3'): 'jfk',\n",
    "\n",
    "    At('p1'): 'sfo',\n",
    "    At('p2'): 'jfk',\n",
    "    At('p3'): 'ord',\n",
    "    At('p4'): 'atl',\n",
    "    \n",
    "    In('c1'): 'null',\n",
    "    In('c2'): 'null',\n",
    "    In('c3'): 'null',\n",
    "}\n",
    "\n",
    "# Goal state\n",
    "air_goal2: dict[str, str] = {\n",
    "    At('c1'): 'jfk',\n",
    "    At('c2'): 'sfo',\n",
    "    At('c3'): 'sfo',\n",
    "    \n",
    "    At('p3'): 'jfk',\n",
    "    At('p4'): 'sfo',\n",
    "\n",
    "    In('c1'): 'null',\n",
    "    In('c2'): 'null',\n",
    "    In('c3'): 'null',\n",
    "}\n",
    "\n",
    "air_cargo2: Planning_problem = Planning_problem(air_cargo2dom, air_setup2, air_goal2)"
   ],
   "metadata": {
    "collapsed": false
   },
   "execution_count": null
  },
  {
   "cell_type": "code",
   "execution_count": null,
   "metadata": {},
   "outputs": [],
   "source": [
    "# Problem 2\n",
    "# Problem idea: We have small amount of cargo, but many airports and planes, some planes must end in specific airports.\n",
    "print(\"Problem 2 - No heuristic:\")\n",
    "\n",
    "start: float = perf_counter()\n",
    "SearcherMPP(Forward_STRIPS(air_cargo2)).search()\n",
    "end: float = perf_counter()\n",
    "\n",
    "print(f'Elapsed time: {end - start:.6f} seconds')\n",
    "\n",
    "data.loc[len(data)] = ['Problem 2', False, end - start]"
   ]
  },
  {
   "cell_type": "code",
   "outputs": [],
   "source": [
    "def h_mismatched_planes(assignment, goal):\n",
    "    \"\"\"This heuristic counts the number of planes that are not yet at their goal location. The idea is that the more planes that are not at their goal, the further away we are from the goal state.\"\"\"\n",
    "    return sum(1 for k, v in goal.items() if assignment[k] != v and '_is_at' in k and 'p' in k)"
   ],
   "metadata": {
    "collapsed": false
   }
  },
  {
   "cell_type": "code",
   "outputs": [],
   "source": [
    "# Solution idea - hopefully making so that free planes fly to their desired location, and in the meantime planes that are not restricted to be on specific airports make the cargo moving....\n",
    "print(\"Problem 2 - With heuristic:\")\n",
    "\n",
    "start: float = perf_counter()\n",
    "SearcherMPP(Forward_STRIPS(air_cargo2, h_mismatched_planes)).search()\n",
    "end: float = perf_counter()\n",
    "\n",
    "print(f'Elapsed time: {end - start:.6f} seconds')\n",
    "\n",
    "data.loc[len(data)] = ['Problem 2', True, end - start]"
   ],
   "metadata": {
    "collapsed": false
   },
   "execution_count": null
  },
  {
   "cell_type": "code",
   "outputs": [],
   "source": [
    "# Domain\n",
    "air_cargo3dom: STRIPS_domain = create_air_cargo_transportation(\n",
    "    cargo={'c1', 'c2', 'c3', 'c4'},\n",
    "    planes={'p1', 'p2', 'p3',},\n",
    "    airports={'sfo', 'jfk', 'lax',},\n",
    "    cargo_forbidden_airports={'c1': {'lax'}, 'c2': {'jfk'}, 'c3': {'lax'}, 'c4': {'sfo'},},\n",
    "    planes_forbidden_airports={'p1': {'lax'}, 'p2': {'jfk'}, 'p3': {'sfo'},}\n",
    ")\n",
    "\n",
    "# Initial state\n",
    "air_setup3: dict[str, str] = {\n",
    "    At('c1'): 'sfo',\n",
    "    At('c2'): 'lax',\n",
    "    At('c3'): 'jfk',\n",
    "    At('c4'): 'jfk',\n",
    "\n",
    "    At('p1'): 'sfo',\n",
    "    At('p2'): 'lax',\n",
    "    At('p3'): 'jfk',\n",
    "\n",
    "    # Airplanes start loaded with cargo to make the problem easier\n",
    "    In('c1'): 'null',\n",
    "    In('c2'): 'null',\n",
    "    In('c3'): 'null',\n",
    "    In('c4'): 'null',\n",
    "}\n",
    "\n",
    "# Goal state\n",
    "air_goal3: dict[str, str] = {\n",
    "    At('c1'): 'jfk',\n",
    "    At('c2'): 'sfo',\n",
    "    At('c3'): 'sfo',\n",
    "    At('c4'): 'lax',\n",
    "\n",
    "    In('c1'): 'null',\n",
    "    In('c2'): 'null',\n",
    "    In('c3'): 'null',\n",
    "    In('c4'): 'null',\n",
    "}\n",
    "\n",
    "air_cargo3: Planning_problem = Planning_problem(air_cargo3dom, air_setup3, air_goal3)"
   ],
   "metadata": {
    "collapsed": false
   }
  },
  {
   "cell_type": "code",
   "execution_count": null,
   "metadata": {},
   "outputs": [],
   "source": [
    "# Problem 3\n",
    "# Problem idea: Medium amount of cargo, medium amount of planes, and some cargo and planes are not allowed to go to certain airports. And some goods are not allowed in some airports.\n",
    "print(\"Problem 3 - No heuristic:\")\n",
    "\n",
    "start: float = perf_counter()\n",
    "SearcherMPP(Forward_STRIPS(air_cargo3)).search()\n",
    "end: float = perf_counter()\n",
    "\n",
    "print(f'Elapsed time: {end - start:.6f} seconds')\n",
    "\n",
    "data.loc[len(data)] = ['Problem 3', False, end - start]"
   ]
  },
  {
   "cell_type": "code",
   "outputs": [],
   "source": [
    "def h_combined(assignment, goal):\n",
    "    \"\"\"This heuristic combines the previous two heuristics.\"\"\"\n",
    "    return h_unloaded_cargo(assignment, goal) + h_mismatched_planes(assignment, goal)"
   ],
   "metadata": {
    "collapsed": false
   }
  },
  {
   "cell_type": "code",
   "outputs": [],
   "source": [
    "# Solution idea - combine all the previous heuristics to make the computation faster.\n",
    "print(\"Problem 3 - With heuristic:\")\n",
    "\n",
    "start: float = perf_counter()\n",
    "SearcherMPP(Forward_STRIPS(air_cargo3, h_combined)).search()\n",
    "end: float = perf_counter()\n",
    "\n",
    "print(f'Elapsed time: {end - start:.6f} seconds')\n",
    "\n",
    "data.loc[len(data)] = ['Problem 3', True, end - start]"
   ],
   "metadata": {
    "collapsed": false
   },
   "execution_count": null
  },
  {
   "cell_type": "code",
   "outputs": [],
   "source": [
    "# Sub goal / initial state\n",
    "air_sub_problem_1: dict[str, str] = {\n",
    "    At('c1'): 'jfk',\n",
    "    At('c2'): 'sfo',\n",
    "    At('c3'): 'sfo',\n",
    "    \n",
    "    At('c4'): 'jfk',\n",
    "    At('c5'): 'lax',\n",
    "\n",
    "    In('c1'): 'null',\n",
    "    In('c2'): 'null',\n",
    "    In('c3'): 'null',\n",
    "    In('c4'): 'null',\n",
    "    In('c5'): 'null',\n",
    "}\n",
    "\n",
    "air_cargo1_sub_problem_1: Planning_problem = Planning_problem(air_cargo1dom, air_setup1, air_sub_problem_1)\n",
    "air_cargo1_sub_problem_2: Planning_problem = Planning_problem(air_cargo1dom, air_sub_problem_1, air_goal1)"
   ],
   "metadata": {
    "collapsed": false
   }
  },
  {
   "cell_type": "code",
   "outputs": [],
   "source": [
    "# Sub problem 1\n",
    "# Idea: finish delivering the initially loaded cargo and c3 to specific airports\n",
    "\n",
    "print('Problem 1 - Sub Problem 1 - No heuristic:')\n",
    "\n",
    "start: float = perf_counter()\n",
    "SearcherMPP(Forward_STRIPS(air_cargo1_sub_problem_1)).search()\n",
    "end: float = perf_counter()\n",
    "\n",
    "print(f'Elapsed time: {end - start:.6f} seconds')\n",
    "\n",
    "data.loc[len(data)] = ['Problem 1 - Sub Problem 1', False, end - start]"
   ],
   "metadata": {
    "collapsed": false
   }
  },
  {
   "cell_type": "code",
   "outputs": [],
   "source": [
    "print('Problem 1 - Sub Problem 2 - No heuristic:')\n",
    "\n",
    "start: float = perf_counter()\n",
    "SearcherMPP(Forward_STRIPS(air_cargo1_sub_problem_2)).search()\n",
    "end: float = perf_counter()\n",
    "\n",
    "print(f'Elapsed time: {end - start:.6f} seconds')\n",
    "\n",
    "data.loc[len(data)] = ['Problem 1 - Sub Problem 2', False, end - start]"
   ],
   "metadata": {
    "collapsed": false
   }
  },
  {
   "cell_type": "code",
   "outputs": [],
   "source": [
    "print('Problem 1 - Sub Problem 1 - With heuristic:')\n",
    "\n",
    "start: float = perf_counter()\n",
    "SearcherMPP(Forward_STRIPS(air_cargo1_sub_problem_1, h_unloaded_cargo)).search()\n",
    "end: float = perf_counter()\n",
    "\n",
    "print(f'Elapsed time: {end - start:.6f} seconds')\n",
    "\n",
    "data.loc[len(data)] = ['Problem 1 - Sub Problem 1', True, end - start]"
   ],
   "metadata": {
    "collapsed": false
   }
  },
  {
   "cell_type": "code",
   "outputs": [],
   "source": [
    "print('Problem 1 - Sub Problem 2 - With heuristic:')\n",
    "\n",
    "start: float = perf_counter()\n",
    "SearcherMPP(Forward_STRIPS(air_cargo1_sub_problem_2, h_unloaded_cargo)).search()\n",
    "end: float = perf_counter()\n",
    "\n",
    "print(f'Elapsed time: {end - start:.6f} seconds')\n",
    "\n",
    "data.loc[len(data)] = ['Problem 1 - Sub Problem 2', True, end - start]"
   ],
   "metadata": {
    "collapsed": false
   }
  },
  {
   "cell_type": "code",
   "outputs": [],
   "source": [
    "# Sub goal / initial state\n",
    "air_sub_problem_2: dict[str, str] = {\n",
    "    At('c1'): 'atl',\n",
    "    At('c2'): 'ord',\n",
    "    At('c3'): 'jfk',\n",
    "\n",
    "    At('p3'): 'jfk',\n",
    "    At('p4'): 'sfo',\n",
    "\n",
    "    In('c1'): 'null',\n",
    "    In('c2'): 'null',\n",
    "    In('c3'): 'null',\n",
    "}\n",
    "\n",
    "air_cargo2_sub_problem_1: Planning_problem = Planning_problem(air_cargo2dom, air_setup2, air_sub_problem_2)\n",
    "air_cargo2_sub_problem_2: Planning_problem = Planning_problem(air_cargo2dom, air_sub_problem_2, air_goal2)"
   ],
   "metadata": {
    "collapsed": false
   }
  },
  {
   "cell_type": "code",
   "outputs": [],
   "source": [
    "# Sub problem 2\n",
    "# Idea: Ground not needed aircrafts, then solve the problem with less number of planes.\n",
    "\n",
    "print('Problem 2 - Sub Problem 1 - No heuristic:')\n",
    "\n",
    "start: float = perf_counter()\n",
    "SearcherMPP(Forward_STRIPS(air_cargo2_sub_problem_1)).search()\n",
    "end: float = perf_counter()\n",
    "\n",
    "print(f'Elapsed time: {end - start:.6f} seconds')\n",
    "\n",
    "data.loc[len(data)] = ['Problem 2 - Sub Problem 1', False, end - start]"
   ],
   "metadata": {
    "collapsed": false
   }
  },
  {
   "cell_type": "code",
   "outputs": [],
   "source": [
    "print('Problem 2 - Sub Problem 2 - No heuristic:')\n",
    "\n",
    "start: float = perf_counter()\n",
    "SearcherMPP(Forward_STRIPS(air_cargo2_sub_problem_2)).search()\n",
    "end: float = perf_counter()\n",
    "\n",
    "print(f'Elapsed time: {end - start:.6f} seconds')\n",
    "\n",
    "data.loc[len(data)] = ['Problem 2 - Sub Problem 2', False, end - start]"
   ],
   "metadata": {
    "collapsed": false
   }
  },
  {
   "cell_type": "code",
   "outputs": [],
   "source": [
    "print('Problem 2 - Sub Problem 1 - With heuristic:')\n",
    "\n",
    "start: float = perf_counter()\n",
    "SearcherMPP(Forward_STRIPS(air_cargo2_sub_problem_1, h_mismatched_planes)).search()\n",
    "end: float = perf_counter()\n",
    "\n",
    "print(f'Elapsed time: {end - start:.6f} seconds')\n",
    "\n",
    "data.loc[len(data)] = ['Problem 2 - Sub Problem 1', True, end - start]"
   ],
   "metadata": {
    "collapsed": false
   }
  },
  {
   "cell_type": "code",
   "outputs": [],
   "source": [
    "print('Problem 2 - Sub Problem 2 - With heuristic:')\n",
    "\n",
    "start: float = perf_counter()\n",
    "SearcherMPP(Forward_STRIPS(air_cargo2_sub_problem_2, h_mismatched_planes)).search()\n",
    "end: float = perf_counter()\n",
    "\n",
    "print(f'Elapsed time: {end - start:.6f} seconds')\n",
    "\n",
    "data.loc[len(data)] = ['Problem 2 - Sub Problem 2', True, end - start]"
   ],
   "metadata": {
    "collapsed": false
   }
  },
  {
   "cell_type": "code",
   "outputs": [],
   "source": [
    "# Sub goal / initial state\n",
    "air_sub_problem_3: dict[str, str] = {\n",
    "    At('c1'): 'jfk',\n",
    "    At('c2'): 'sfo',\n",
    "    At('c3'): 'jfk',\n",
    "    At('c4'): 'jfk',\n",
    "\n",
    "    In('c1'): 'null',\n",
    "    In('c2'): 'null',\n",
    "    In('c3'): 'null',\n",
    "    In('c4'): 'null',\n",
    "}\n",
    "\n",
    "air_cargo3_sub_problem_1: Planning_problem = Planning_problem(air_cargo3dom, air_setup3, air_sub_problem_3)\n",
    "air_cargo3_sub_problem_2: Planning_problem = Planning_problem(air_cargo3dom, air_sub_problem_3, air_goal3)"
   ],
   "metadata": {
    "collapsed": false
   }
  },
  {
   "cell_type": "code",
   "outputs": [],
   "source": [
    "# Sub problem 3\n",
    "# Idea: Solve the problem one package at a time, to utilize different access of some plane to a given airport.\n",
    "\n",
    "print('Problem 3 - Sub Problem 1 - No heuristic:')\n",
    "\n",
    "start: float = perf_counter()\n",
    "SearcherMPP(Forward_STRIPS(air_cargo3_sub_problem_1)).search()\n",
    "end: float = perf_counter()\n",
    "\n",
    "print(f'Elapsed time: {end - start:.6f} seconds')\n",
    "\n",
    "data.loc[len(data)] = ['Problem 3 - Sub Problem 1', False, end - start]"
   ],
   "metadata": {
    "collapsed": false
   }
  },
  {
   "cell_type": "code",
   "outputs": [],
   "source": [
    "print('Problem 3 - Sub Problem 2 - No heuristic:')\n",
    "\n",
    "start: float = perf_counter()\n",
    "SearcherMPP(Forward_STRIPS(air_cargo3_sub_problem_2)).search()\n",
    "end: float = perf_counter()\n",
    "\n",
    "print(f'Elapsed time: {end - start:.6f} seconds')\n",
    "\n",
    "data.loc[len(data)] = ['Problem 3 - Sub Problem 2', False, end - start]"
   ],
   "metadata": {
    "collapsed": false
   }
  },
  {
   "cell_type": "code",
   "outputs": [],
   "source": [
    "print('Problem 3 - Sub Problem 1 - With heuristic:')\n",
    "\n",
    "start: float = perf_counter()\n",
    "SearcherMPP(Forward_STRIPS(air_cargo3_sub_problem_1, h_combined)).search()\n",
    "end: float = perf_counter()\n",
    "\n",
    "print(f'Elapsed time: {end - start:.6f} seconds')\n",
    "\n",
    "data.loc[len(data)] = ['Problem 3 - Sub Problem 1', True, end - start]"
   ],
   "metadata": {
    "collapsed": false
   }
  },
  {
   "cell_type": "code",
   "outputs": [],
   "source": [
    "print('Problem 3 - Sub Problem 2 - With heuristic:')\n",
    "\n",
    "start: float = perf_counter()\n",
    "SearcherMPP(Forward_STRIPS(air_cargo3_sub_problem_2, h_combined)).search()\n",
    "end: float = perf_counter()\n",
    "\n",
    "print(f'Elapsed time: {end - start:.6f} seconds')\n",
    "\n",
    "data.loc[len(data)] = ['Problem 3 - Sub Problem 2', True, end - start]"
   ],
   "metadata": {
    "collapsed": false
   }
  },
  {
   "cell_type": "code",
   "outputs": [],
   "source": [],
   "metadata": {
    "collapsed": false
   }
  },
  {
   "cell_type": "code",
   "outputs": [],
   "source": [
    "data"
   ],
   "metadata": {
    "collapsed": false
   },
   "execution_count": null
  },
  {
   "cell_type": "code",
   "outputs": [],
   "source": [
    "data.dtypes"
   ],
   "metadata": {
    "collapsed": false
   },
   "execution_count": null
  },
  {
   "cell_type": "code",
   "outputs": [],
   "source": [],
   "metadata": {
    "collapsed": false
   }
  }
 ],
 "metadata": {
  "kernelspec": {
   "name": "ioadc",
   "language": "python",
   "display_name": "IOADC"
  },
  "language_info": {
   "codemirror_mode": {
    "name": "ipython",
    "version": 3
   },
   "file_extension": ".py",
   "mimetype": "text/x-python",
   "name": "python",
   "nbconvert_exporter": "python",
   "pygments_lexer": "ipython3",
   "version": "3.12.1"
  }
 },
 "nbformat": 4,
 "nbformat_minor": 2
}
