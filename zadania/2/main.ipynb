{
 "cells": [
  {
   "cell_type": "code",
   "execution_count": 2,
   "metadata": {
    "ExecuteTime": {
     "end_time": "2024-03-24T17:41:08.256530Z",
     "start_time": "2024-03-24T17:41:03.189399Z"
    }
   },
   "outputs": [
    {
     "name": "stdout",
     "output_type": "stream",
     "text": [
      "Requirement already satisfied: numpy in c:\\users\\domin\\.conda\\envs\\ioadc\\lib\\site-packages (1.26.4)\n",
      "Note: you may need to restart the kernel to use updated packages.\n",
      "Requirement already satisfied: pandas in c:\\users\\domin\\.conda\\envs\\ioadc\\lib\\site-packages (2.2.1)\n",
      "Requirement already satisfied: numpy<2,>=1.26.0 in c:\\users\\domin\\.conda\\envs\\ioadc\\lib\\site-packages (from pandas) (1.26.4)\n",
      "Requirement already satisfied: python-dateutil>=2.8.2 in c:\\users\\domin\\.conda\\envs\\ioadc\\lib\\site-packages (from pandas) (2.8.2)\n",
      "Requirement already satisfied: pytz>=2020.1 in c:\\users\\domin\\.conda\\envs\\ioadc\\lib\\site-packages (from pandas) (2024.1)\n",
      "Requirement already satisfied: tzdata>=2022.7 in c:\\users\\domin\\.conda\\envs\\ioadc\\lib\\site-packages (from pandas) (2024.1)\n",
      "Requirement already satisfied: six>=1.5 in c:\\users\\domin\\.conda\\envs\\ioadc\\lib\\site-packages (from python-dateutil>=2.8.2->pandas) (1.16.0)\n",
      "Note: you may need to restart the kernel to use updated packages.\n",
      "Requirement already satisfied: matplotlib in c:\\users\\domin\\.conda\\envs\\ioadc\\lib\\site-packages (3.8.3)\n",
      "Requirement already satisfied: contourpy>=1.0.1 in c:\\users\\domin\\appdata\\roaming\\python\\python312\\site-packages (from matplotlib) (1.2.0)\n",
      "Requirement already satisfied: cycler>=0.10 in c:\\users\\domin\\appdata\\roaming\\python\\python312\\site-packages (from matplotlib) (0.12.1)\n",
      "Requirement already satisfied: fonttools>=4.22.0 in c:\\users\\domin\\.conda\\envs\\ioadc\\lib\\site-packages (from matplotlib) (4.49.0)\n",
      "Requirement already satisfied: kiwisolver>=1.3.1 in c:\\users\\domin\\.conda\\envs\\ioadc\\lib\\site-packages (from matplotlib) (1.4.5)\n",
      "Requirement already satisfied: numpy<2,>=1.21 in c:\\users\\domin\\.conda\\envs\\ioadc\\lib\\site-packages (from matplotlib) (1.26.4)\n",
      "Requirement already satisfied: packaging>=20.0 in c:\\users\\domin\\.conda\\envs\\ioadc\\lib\\site-packages (from matplotlib) (23.1)\n",
      "Requirement already satisfied: pillow>=8 in c:\\users\\domin\\.conda\\envs\\ioadc\\lib\\site-packages (from matplotlib) (10.2.0)\n",
      "Requirement already satisfied: pyparsing>=2.3.1 in c:\\users\\domin\\.conda\\envs\\ioadc\\lib\\site-packages (from matplotlib) (3.1.1)\n",
      "Requirement already satisfied: python-dateutil>=2.7 in c:\\users\\domin\\.conda\\envs\\ioadc\\lib\\site-packages (from matplotlib) (2.8.2)\n",
      "Requirement already satisfied: six>=1.5 in c:\\users\\domin\\.conda\\envs\\ioadc\\lib\\site-packages (from python-dateutil>=2.7->matplotlib) (1.16.0)\n",
      "Note: you may need to restart the kernel to use updated packages.\n",
      "Requirement already satisfied: wget in c:\\users\\domin\\.conda\\envs\\ioadc\\lib\\site-packages (3.2)\n",
      "Note: you may need to restart the kernel to use updated packages.\n"
     ]
    }
   ],
   "source": [
    "%pip install numpy\n",
    "%pip install pandas\n",
    "%pip install matplotlib\n",
    "%pip install wget"
   ]
  },
  {
   "cell_type": "code",
   "outputs": [],
   "source": [
    "# Download the library from the following link:\n",
    "# https://artint.info/AIPython/\n",
    "\n",
    "from os.path import exists\n",
    "from pathlib import Path\n",
    "from typing import Final\n",
    "from zipfile import ZipFile\n",
    "\n",
    "from wget import download\n",
    "\n",
    "URL: Final[str] = 'https://artint.info/AIPython/aipython.zip'\n",
    "DESTINATION: Final[Path] = Path('aipython.zip')\n",
    "\n",
    "if not exists(DESTINATION):\n",
    "    download(url=URL, out=DESTINATION.absolute().as_posix())\n",
    "\n",
    "if not exists(DESTINATION.stem):\n",
    "    with ZipFile(DESTINATION, 'r') as zip_ref:\n",
    "        zip_ref.extractall(DESTINATION.stem)"
   ],
   "metadata": {
    "collapsed": false,
    "ExecuteTime": {
     "end_time": "2024-03-24T17:41:08.793530Z",
     "start_time": "2024-03-24T17:41:08.788308Z"
    }
   },
   "execution_count": 3
  },
  {
   "cell_type": "code",
   "outputs": [],
   "source": [
    "import sys\n",
    "\n",
    "# Cheat so I don't have to make `aipython` a package with setuptools or move main.ipynb into the `aipython` directory\n",
    "sys.path.append(DESTINATION.stem)"
   ],
   "metadata": {
    "collapsed": false,
    "ExecuteTime": {
     "end_time": "2024-03-24T17:41:09.492580Z",
     "start_time": "2024-03-24T17:41:09.489508Z"
    }
   },
   "execution_count": 4
  },
  {
   "cell_type": "code",
   "outputs": [],
   "source": [
    "import pandas as pd\n",
    "\n",
    "# Makes it easier to transfer data to .tex tables\n",
    "data: pd.DataFrame = pd.DataFrame(\n",
    "    columns=['problem', 'used_heuristic', 'elapsed_time']\n",
    ")"
   ],
   "metadata": {
    "collapsed": false,
    "ExecuteTime": {
     "end_time": "2024-03-24T17:41:10.598068Z",
     "start_time": "2024-03-24T17:41:10.060690Z"
    }
   },
   "execution_count": 5
  },
  {
   "cell_type": "code",
   "execution_count": 6,
   "metadata": {
    "ExecuteTime": {
     "end_time": "2024-03-24T17:41:11.151437Z",
     "start_time": "2024-03-24T17:41:11.149012Z"
    }
   },
   "outputs": [],
   "source": [
    "#;; Air cargo transport problem.\n",
    "#;; http://www.inf.unibz.it/~tessaris/teaching/AI_06-07/labs/2007-01-10/planning.html\n",
    "#;;\n",
    "\n",
    "#(define (domain air-cargo)\n",
    "#  (:requirements :strips)\n",
    "#  (:predicates (In ?obj ?place)\n",
    "#           (At ?obj ?place)\n",
    "#           (Cargo ?obj)\n",
    "#           (Plane ?obj)\n",
    "#           (Airport ?obj))\n",
    "\n",
    "#  (:action LOAD\n",
    "#     :parameters (?c ?p ?a)\n",
    "#     :precondition (and (At ?c ?a) (At ?p ?a)\n",
    "#             (Cargo ?c) (Plane ?p) (Airport ?a))\n",
    "#     :effect (and (In ?c ?p) (not (At ?c ?a))))\n",
    "#  \n",
    "#  (:action UNLOAD\n",
    "#     :parameters (?c ?p ?a)\n",
    "#     :precondition (and (In ?c ?p) (At ?p ?a)\n",
    "#             (Cargo ?c) (Plane ?p) (Airport ?a))\n",
    "#     :effect (and (At ?c ?a) (not (In ?c ?p))))\n",
    "#  \n",
    "#  (:action FLY\n",
    "#     :parameters (?p ?from ?to)\n",
    "#     :precondition (and (At ?p ?from)\n",
    "#             (Plane ?p) (Airport ?from) (Airport ?to))\n",
    "#     :effect (and (At ?p ?to) (not (At ?p ?from))))\n",
    "#  )"
   ]
  },
  {
   "cell_type": "code",
   "execution_count": 7,
   "metadata": {
    "ExecuteTime": {
     "end_time": "2024-03-24T17:41:11.796343Z",
     "start_time": "2024-03-24T17:41:11.787650Z"
    }
   },
   "outputs": [],
   "source": [
    "# STRIPS domain - Air Cargo Transportation\n",
    "from stripsProblem import Strips, STRIPS_domain, Planning_problem\n",
    "\n",
    "def In(obj: str) -> str:\n",
    "    return obj + '_is_in'\n",
    "\n",
    "def At(obj: str) -> str:\n",
    "    return obj + '_is_at'\n",
    "\n",
    "def Cargo(obj: str) -> str:\n",
    "    return obj + '_is_cargo'\n",
    "\n",
    "def Plane(obj: str) -> str:\n",
    "    return obj + '_is_plane'\n",
    "\n",
    "def Airport(obj: str) -> str:\n",
    "    return obj + '_is_airport'\n",
    "\n",
    "def Load(cargo: str, plane: str, airport: str) -> str:\n",
    "    return 'load_' + cargo + '_from_' + airport + '_to_' + plane\n",
    "\n",
    "def Unload(cargo: str, plane: str, airport: str) -> str:\n",
    "    return 'unload_' + cargo + '_from_' + plane + '_to_' + airport\n",
    "\n",
    "def Fly(plane: str, airport_from: str, airport_to: str) -> str:\n",
    "    return 'fly_' + plane + '_from_' + airport_from + '_to_' + airport_to\n",
    "\n",
    "\n",
    "null: set[str] = {'null'}\n",
    "def create_air_cargo_transportation(cargo: set[str], planes: set[str], airports: set[str], cargo_forbidden_airports: dict[str, set[str]], planes_forbidden_airports: dict[str, set[str]]) -> STRIPS_domain:\n",
    "    assert len(cargo) > 0, \"Cargo set must not be empty.\"\n",
    "    assert len(planes) > 0, \"Planes set must not be empty.\"\n",
    "    assert len(airports) > 0, \"Airports set must not be empty.\"\n",
    "    \n",
    "    assert all(c in cargo_forbidden_airports for c in cargo), \"All cargo must have a forbidden airports set that may or may not be empty.\"\n",
    "    assert all(p in planes_forbidden_airports for p in planes), \"All planes must have a forbidden airports set that may or may not be empty.\"\n",
    "    \n",
    "    #feature_domain_dict = {Cargo(x):True for x in cargo}\n",
    "    #feature_domain_dict.update({Cargo(x):False for x in cargo_storage})\n",
    "    #feature_domain_dict.update({Plane(x):True for x in planes})\n",
    "    #feature_domain_dict.update({Plane(x):False for x in cargo|airports})\n",
    "    #feature_domain_dict.update({Airport(x):True for x in airports})\n",
    "    #feature_domain_dict.update({Airport(x):False for x in cargo|planes})\n",
    "    feature_domain_dict: dict[str, set[str]] = {In(x): planes | null\n",
    "                                                for x in cargo}\n",
    "    feature_domain_dict.update({At(x): (airports - (cargo_forbidden_airports | planes_forbidden_airports)[x]) | null\n",
    "                                for x in planes | cargo})\n",
    "\n",
    "\n",
    "    state_map: set[Strips] = {Strips(Load(c, p, a), {At(c): a, At(p): a}, {In(c): p, At(c): 'null'})\n",
    "                              for c in cargo\n",
    "                              for p in planes\n",
    "                              for a in airports}\n",
    "\n",
    "    state_map.update({Strips(Unload(c, p, a), {In(c): p, At(p): a}, {At(c): a, In(c): 'null'})\n",
    "                      for c in cargo\n",
    "                      for p in planes\n",
    "                      for a in airports\n",
    "                      if a not in cargo_forbidden_airports[c]})\n",
    "\n",
    "    state_map.update({Strips(Fly(p, a_from, a_to), {At(p): a_from}, {At(p): a_to})\n",
    "                      for p in planes\n",
    "                      for a_from in airports\n",
    "                      for a_to in airports\n",
    "                      if a_from != a_to and a_to not in planes_forbidden_airports[p]})\n",
    "\n",
    "    return STRIPS_domain(feature_domain_dict, state_map)"
   ]
  },
  {
   "cell_type": "code",
   "execution_count": 8,
   "metadata": {
    "ExecuteTime": {
     "end_time": "2024-03-24T17:41:12.516415Z",
     "start_time": "2024-03-24T17:41:12.511964Z"
    }
   },
   "outputs": [],
   "source": [
    "# Domain\n",
    "air_cargo1dom: STRIPS_domain = create_air_cargo_transportation(\n",
    "    cargo={'c1', 'c2', 'c3', 'c4', 'c5'},\n",
    "    planes={'p1', 'p2',},\n",
    "    airports={'sfo', 'jfk', 'lax',},\n",
    "    cargo_forbidden_airports={'c1': set(), 'c2': set(), 'c3': set(), 'c4': set(), 'c5': set(),},\n",
    "    planes_forbidden_airports={'p1': {'lax'}, 'p2': set(),},\n",
    ")\n",
    "\n",
    "# Initial state\n",
    "air_setup1: dict[str, str] = {\n",
    "    At('c1'): 'sfo',\n",
    "    At('c2'): 'jfk',\n",
    "    At('c3'): 'lax',\n",
    "    At('c4'): 'jfk',\n",
    "    At('c5'): 'lax',\n",
    "    \n",
    "    At('p1'): 'sfo',\n",
    "    At('p2'): 'jfk',\n",
    "    \n",
    "    # Airplanes start loaded with cargo to make the problem easier\n",
    "    In('c1'): 'p1',\n",
    "    In('c2'): 'p2',\n",
    "    In('c3'): 'null',\n",
    "    In('c4'): 'null',\n",
    "    In('c5'): 'null',\n",
    "}\n",
    "\n",
    "# Goal state\n",
    "air_goal1: dict[str, str] = {\n",
    "    At('c1'): 'jfk',\n",
    "    At('c2'): 'sfo',\n",
    "    At('c3'): 'sfo',\n",
    "    At('c4'): 'lax',\n",
    "    At('c5'): 'sfo',\n",
    "\n",
    "    In('c1'): 'null',\n",
    "    In('c2'): 'null',\n",
    "    In('c3'): 'null',\n",
    "    In('c4'): 'null',\n",
    "    In('c5'): 'null',\n",
    "}\n",
    "\n",
    "air_cargo1: Planning_problem = Planning_problem(air_cargo1dom, air_setup1, air_goal1)"
   ]
  },
  {
   "cell_type": "code",
   "execution_count": 9,
   "metadata": {
    "ExecuteTime": {
     "end_time": "2024-03-24T17:44:46.717293Z",
     "start_time": "2024-03-24T17:41:13.194933Z"
    }
   },
   "outputs": [
    {
     "name": "stdout",
     "output_type": "stream",
     "text": [
      "Problem 1 - No heuristic:\n",
      "Solution: {'c1_is_at': 'sfo', 'c2_is_at': 'jfk', 'c3_is_at': 'lax', 'c4_is_at': 'jfk', 'c5_is_at': 'lax', 'p1_is_at': 'sfo', 'p2_is_at': 'jfk', 'c1_is_in': 'p1', 'c2_is_in': 'p2', 'c3_is_in': 'null', 'c4_is_in': 'null', 'c5_is_in': 'null'}\n",
      "   --load_c4_from_jfk_to_p2--> {'c1_is_at': 'sfo', 'c2_is_at': 'jfk', 'c3_is_at': 'lax', 'c4_is_at': 'null', 'c5_is_at': 'lax', 'p1_is_at': 'sfo', 'p2_is_at': 'jfk', 'c1_is_in': 'p1', 'c2_is_in': 'p2', 'c3_is_in': 'null', 'c4_is_in': 'p2', 'c5_is_in': 'null'}\n",
      "   --fly_p2_from_jfk_to_lax--> {'c1_is_at': 'sfo', 'c2_is_at': 'jfk', 'c3_is_at': 'lax', 'c4_is_at': 'null', 'c5_is_at': 'lax', 'p1_is_at': 'sfo', 'p2_is_at': 'lax', 'c1_is_in': 'p1', 'c2_is_in': 'p2', 'c3_is_in': 'null', 'c4_is_in': 'p2', 'c5_is_in': 'null'}\n",
      "   --load_c5_from_lax_to_p2--> {'c1_is_at': 'sfo', 'c2_is_at': 'jfk', 'c3_is_at': 'lax', 'c4_is_at': 'null', 'c5_is_at': 'null', 'p1_is_at': 'sfo', 'p2_is_at': 'lax', 'c1_is_in': 'p1', 'c2_is_in': 'p2', 'c3_is_in': 'null', 'c4_is_in': 'p2', 'c5_is_in': 'p2'}\n",
      "   --load_c3_from_lax_to_p2--> {'c1_is_at': 'sfo', 'c2_is_at': 'jfk', 'c3_is_at': 'null', 'c4_is_at': 'null', 'c5_is_at': 'null', 'p1_is_at': 'sfo', 'p2_is_at': 'lax', 'c1_is_in': 'p1', 'c2_is_in': 'p2', 'c3_is_in': 'p2', 'c4_is_in': 'p2', 'c5_is_in': 'p2'}\n",
      "   --unload_c4_from_p2_to_lax--> {'c1_is_at': 'sfo', 'c2_is_at': 'jfk', 'c3_is_at': 'null', 'c4_is_at': 'lax', 'c5_is_at': 'null', 'p1_is_at': 'sfo', 'p2_is_at': 'lax', 'c1_is_in': 'p1', 'c2_is_in': 'p2', 'c3_is_in': 'p2', 'c4_is_in': 'null', 'c5_is_in': 'p2'}\n",
      "   --fly_p2_from_lax_to_sfo--> {'c1_is_at': 'sfo', 'c2_is_at': 'jfk', 'c3_is_at': 'null', 'c4_is_at': 'lax', 'c5_is_at': 'null', 'p1_is_at': 'sfo', 'p2_is_at': 'sfo', 'c1_is_in': 'p1', 'c2_is_in': 'p2', 'c3_is_in': 'p2', 'c4_is_in': 'null', 'c5_is_in': 'p2'}\n",
      "   --unload_c3_from_p2_to_sfo--> {'c1_is_at': 'sfo', 'c2_is_at': 'jfk', 'c3_is_at': 'sfo', 'c4_is_at': 'lax', 'c5_is_at': 'null', 'p1_is_at': 'sfo', 'p2_is_at': 'sfo', 'c1_is_in': 'p1', 'c2_is_in': 'p2', 'c3_is_in': 'null', 'c4_is_in': 'null', 'c5_is_in': 'p2'}\n",
      "   --unload_c5_from_p2_to_sfo--> {'c1_is_at': 'sfo', 'c2_is_at': 'jfk', 'c3_is_at': 'sfo', 'c4_is_at': 'lax', 'c5_is_at': 'sfo', 'p1_is_at': 'sfo', 'p2_is_at': 'sfo', 'c1_is_in': 'p1', 'c2_is_in': 'p2', 'c3_is_in': 'null', 'c4_is_in': 'null', 'c5_is_in': 'null'}\n",
      "   --fly_p1_from_sfo_to_jfk--> {'c1_is_at': 'sfo', 'c2_is_at': 'jfk', 'c3_is_at': 'sfo', 'c4_is_at': 'lax', 'c5_is_at': 'sfo', 'p1_is_at': 'jfk', 'p2_is_at': 'sfo', 'c1_is_in': 'p1', 'c2_is_in': 'p2', 'c3_is_in': 'null', 'c4_is_in': 'null', 'c5_is_in': 'null'}\n",
      "   --unload_c2_from_p2_to_sfo--> {'c1_is_at': 'sfo', 'c2_is_at': 'sfo', 'c3_is_at': 'sfo', 'c4_is_at': 'lax', 'c5_is_at': 'sfo', 'p1_is_at': 'jfk', 'p2_is_at': 'sfo', 'c1_is_in': 'p1', 'c2_is_in': 'null', 'c3_is_in': 'null', 'c4_is_in': 'null', 'c5_is_in': 'null'}\n",
      "   --unload_c1_from_p1_to_jfk--> {'c1_is_at': 'jfk', 'c2_is_at': 'sfo', 'c3_is_at': 'sfo', 'c4_is_at': 'lax', 'c5_is_at': 'sfo', 'p1_is_at': 'jfk', 'p2_is_at': 'sfo', 'c1_is_in': 'null', 'c2_is_in': 'null', 'c3_is_in': 'null', 'c4_is_in': 'null', 'c5_is_in': 'null'} (cost: 11)\n",
      " 19955 paths have been expanded and 37795 paths remain in the frontier\n",
      "Elapsed time: 213.104771 seconds\n"
     ]
    }
   ],
   "source": [
    "from time import perf_counter\n",
    "\n",
    "from searchMPP import SearcherMPP\n",
    "from stripsForwardPlanner import Forward_STRIPS\n",
    "\n",
    "# Problem 1\n",
    "# Problem idea: We have many more cargo to send than planes, and the planes are not allowed to go to certain airports.\n",
    "print('Problem 1 - No heuristic:')\n",
    "\n",
    "start: float = perf_counter()\n",
    "SearcherMPP(Forward_STRIPS(air_cargo1)).search()\n",
    "end: float = perf_counter()\n",
    "\n",
    "print(f'Elapsed time: {end - start:.6f} seconds')\n",
    "\n",
    "data.loc[len(data)] = ['Problem 1', False, end - start]"
   ]
  },
  {
   "cell_type": "code",
   "outputs": [],
   "source": [
    "def h_unloaded_cargo(assignment, goal):\n",
    "    \"\"\"This heuristic counts the number of cargo that are not yet at their goal location. The idea is that the more cargo that are not at their goal, the further away we are from the goal state.\"\"\"\n",
    "    return sum(1 for k, v in goal.items() if assignment[k] != v and '_is_in' in k)"
   ],
   "metadata": {
    "collapsed": false,
    "ExecuteTime": {
     "end_time": "2024-03-24T17:45:50.282229Z",
     "start_time": "2024-03-24T17:45:50.278736Z"
    }
   },
   "execution_count": 10
  },
  {
   "cell_type": "code",
   "outputs": [
    {
     "name": "stdout",
     "output_type": "stream",
     "text": [
      "Problem 1 - With heuristic:\n",
      "Solution: {'c1_is_at': 'sfo', 'c2_is_at': 'jfk', 'c3_is_at': 'lax', 'c4_is_at': 'jfk', 'c5_is_at': 'lax', 'p1_is_at': 'sfo', 'p2_is_at': 'jfk', 'c1_is_in': 'p1', 'c2_is_in': 'p2', 'c3_is_in': 'null', 'c4_is_in': 'null', 'c5_is_in': 'null'}\n",
      "   --load_c4_from_jfk_to_p2--> {'c1_is_at': 'sfo', 'c2_is_at': 'jfk', 'c3_is_at': 'lax', 'c4_is_at': 'null', 'c5_is_at': 'lax', 'p1_is_at': 'sfo', 'p2_is_at': 'jfk', 'c1_is_in': 'p1', 'c2_is_in': 'p2', 'c3_is_in': 'null', 'c4_is_in': 'p2', 'c5_is_in': 'null'}\n",
      "   --fly_p2_from_jfk_to_lax--> {'c1_is_at': 'sfo', 'c2_is_at': 'jfk', 'c3_is_at': 'lax', 'c4_is_at': 'null', 'c5_is_at': 'lax', 'p1_is_at': 'sfo', 'p2_is_at': 'lax', 'c1_is_in': 'p1', 'c2_is_in': 'p2', 'c3_is_in': 'null', 'c4_is_in': 'p2', 'c5_is_in': 'null'}\n",
      "   --load_c5_from_lax_to_p2--> {'c1_is_at': 'sfo', 'c2_is_at': 'jfk', 'c3_is_at': 'lax', 'c4_is_at': 'null', 'c5_is_at': 'null', 'p1_is_at': 'sfo', 'p2_is_at': 'lax', 'c1_is_in': 'p1', 'c2_is_in': 'p2', 'c3_is_in': 'null', 'c4_is_in': 'p2', 'c5_is_in': 'p2'}\n",
      "   --load_c3_from_lax_to_p2--> {'c1_is_at': 'sfo', 'c2_is_at': 'jfk', 'c3_is_at': 'null', 'c4_is_at': 'null', 'c5_is_at': 'null', 'p1_is_at': 'sfo', 'p2_is_at': 'lax', 'c1_is_in': 'p1', 'c2_is_in': 'p2', 'c3_is_in': 'p2', 'c4_is_in': 'p2', 'c5_is_in': 'p2'}\n",
      "   --unload_c4_from_p2_to_lax--> {'c1_is_at': 'sfo', 'c2_is_at': 'jfk', 'c3_is_at': 'null', 'c4_is_at': 'lax', 'c5_is_at': 'null', 'p1_is_at': 'sfo', 'p2_is_at': 'lax', 'c1_is_in': 'p1', 'c2_is_in': 'p2', 'c3_is_in': 'p2', 'c4_is_in': 'null', 'c5_is_in': 'p2'}\n",
      "   --fly_p1_from_sfo_to_jfk--> {'c1_is_at': 'sfo', 'c2_is_at': 'jfk', 'c3_is_at': 'null', 'c4_is_at': 'lax', 'c5_is_at': 'null', 'p1_is_at': 'jfk', 'p2_is_at': 'lax', 'c1_is_in': 'p1', 'c2_is_in': 'p2', 'c3_is_in': 'p2', 'c4_is_in': 'null', 'c5_is_in': 'p2'}\n",
      "   --unload_c1_from_p1_to_jfk--> {'c1_is_at': 'jfk', 'c2_is_at': 'jfk', 'c3_is_at': 'null', 'c4_is_at': 'lax', 'c5_is_at': 'null', 'p1_is_at': 'jfk', 'p2_is_at': 'lax', 'c1_is_in': 'null', 'c2_is_in': 'p2', 'c3_is_in': 'p2', 'c4_is_in': 'null', 'c5_is_in': 'p2'}\n",
      "   --fly_p2_from_lax_to_sfo--> {'c1_is_at': 'jfk', 'c2_is_at': 'jfk', 'c3_is_at': 'null', 'c4_is_at': 'lax', 'c5_is_at': 'null', 'p1_is_at': 'jfk', 'p2_is_at': 'sfo', 'c1_is_in': 'null', 'c2_is_in': 'p2', 'c3_is_in': 'p2', 'c4_is_in': 'null', 'c5_is_in': 'p2'}\n",
      "   --unload_c5_from_p2_to_sfo--> {'c1_is_at': 'jfk', 'c2_is_at': 'jfk', 'c3_is_at': 'null', 'c4_is_at': 'lax', 'c5_is_at': 'sfo', 'p1_is_at': 'jfk', 'p2_is_at': 'sfo', 'c1_is_in': 'null', 'c2_is_in': 'p2', 'c3_is_in': 'p2', 'c4_is_in': 'null', 'c5_is_in': 'null'}\n",
      "   --unload_c2_from_p2_to_sfo--> {'c1_is_at': 'jfk', 'c2_is_at': 'sfo', 'c3_is_at': 'null', 'c4_is_at': 'lax', 'c5_is_at': 'sfo', 'p1_is_at': 'jfk', 'p2_is_at': 'sfo', 'c1_is_in': 'null', 'c2_is_in': 'null', 'c3_is_in': 'p2', 'c4_is_in': 'null', 'c5_is_in': 'null'}\n",
      "   --unload_c3_from_p2_to_sfo--> {'c1_is_at': 'jfk', 'c2_is_at': 'sfo', 'c3_is_at': 'sfo', 'c4_is_at': 'lax', 'c5_is_at': 'sfo', 'p1_is_at': 'jfk', 'p2_is_at': 'sfo', 'c1_is_in': 'null', 'c2_is_in': 'null', 'c3_is_in': 'null', 'c4_is_in': 'null', 'c5_is_in': 'null'} (cost: 11)\n",
      " 9587 paths have been expanded and 27927 paths remain in the frontier\n",
      "Elapsed time: 49.897438 seconds\n"
     ]
    }
   ],
   "source": [
    "# Solution idea - we solve the problem by using a heuristic that counts the number of cargo that are not yet at their goal location, speeding the computation.\n",
    "print('Problem 1 - With heuristic:')\n",
    "\n",
    "start: float = perf_counter()\n",
    "SearcherMPP(Forward_STRIPS(air_cargo1, h_unloaded_cargo)).search()\n",
    "end: float = perf_counter()\n",
    "\n",
    "print(f'Elapsed time: {end - start:.6f} seconds')\n",
    "\n",
    "data.loc[len(data)] = ['Problem 1', True, end - start]"
   ],
   "metadata": {
    "collapsed": false,
    "ExecuteTime": {
     "end_time": "2024-03-24T17:46:40.782715Z",
     "start_time": "2024-03-24T17:45:50.880915Z"
    }
   },
   "execution_count": 11
  },
  {
   "cell_type": "code",
   "outputs": [],
   "source": [
    "# Domain\n",
    "air_cargo2dom: STRIPS_domain = create_air_cargo_transportation(\n",
    "    cargo={'c1', 'c2', 'c3'},\n",
    "    planes={'p1', 'p2', 'p3'},\n",
    "    airports={'sfo', 'jfk', 'lax', 'ord', 'atl',},\n",
    "    cargo_forbidden_airports={'c1': set(), 'c2': set(), 'c3': set(),},\n",
    "    planes_forbidden_airports={'p1': {'ord'}, 'p2': {'lax'}, 'p3': set(),},\n",
    ")\n",
    "\n",
    "# Initial state\n",
    "air_setup2: dict[str, str] = {\n",
    "    At('c1'): 'atl',\n",
    "    At('c2'): 'ord',\n",
    "    At('c3'): 'jfk',\n",
    "\n",
    "    At('p1'): 'sfo',\n",
    "    At('p2'): 'jfk',\n",
    "    At('p3'): 'ord',\n",
    "    \n",
    "    In('c1'): 'null',\n",
    "    In('c2'): 'null',\n",
    "    In('c3'): 'null',\n",
    "}\n",
    "\n",
    "# Goal state\n",
    "air_goal2: dict[str, str] = {\n",
    "    At('c1'): 'jfk',\n",
    "    At('c2'): 'sfo',\n",
    "    At('c3'): 'sfo',\n",
    "    \n",
    "    At('p3'): 'jfk',\n",
    "\n",
    "    In('c1'): 'null',\n",
    "    In('c2'): 'null',\n",
    "    In('c3'): 'null',\n",
    "}\n",
    "\n",
    "air_cargo2: Planning_problem = Planning_problem(air_cargo2dom, air_setup2, air_goal2)"
   ],
   "metadata": {
    "collapsed": false,
    "ExecuteTime": {
     "end_time": "2024-03-24T17:46:48.793267Z",
     "start_time": "2024-03-24T17:46:48.788694Z"
    }
   },
   "execution_count": 12
  },
  {
   "cell_type": "code",
   "execution_count": 13,
   "metadata": {
    "ExecuteTime": {
     "end_time": "2024-03-24T17:59:20.406142Z",
     "start_time": "2024-03-24T17:46:51.567744Z"
    }
   },
   "outputs": [
    {
     "name": "stdout",
     "output_type": "stream",
     "text": [
      "Problem 2 - No heuristic:\n",
      "Solution: {'c1_is_at': 'atl', 'c2_is_at': 'ord', 'c3_is_at': 'jfk', 'p1_is_at': 'sfo', 'p2_is_at': 'jfk', 'p3_is_at': 'ord', 'c1_is_in': 'null', 'c2_is_in': 'null', 'c3_is_in': 'null'}\n",
      "   --load_c3_from_jfk_to_p2--> {'c1_is_at': 'atl', 'c2_is_at': 'ord', 'c3_is_at': 'null', 'p1_is_at': 'sfo', 'p2_is_at': 'jfk', 'p3_is_at': 'ord', 'c1_is_in': 'null', 'c2_is_in': 'null', 'c3_is_in': 'p2'}\n",
      "   --fly_p2_from_jfk_to_ord--> {'c1_is_at': 'atl', 'c2_is_at': 'ord', 'c3_is_at': 'null', 'p1_is_at': 'sfo', 'p2_is_at': 'ord', 'p3_is_at': 'ord', 'c1_is_in': 'null', 'c2_is_in': 'null', 'c3_is_in': 'p2'}\n",
      "   --fly_p3_from_ord_to_atl--> {'c1_is_at': 'atl', 'c2_is_at': 'ord', 'c3_is_at': 'null', 'p1_is_at': 'sfo', 'p2_is_at': 'ord', 'p3_is_at': 'atl', 'c1_is_in': 'null', 'c2_is_in': 'null', 'c3_is_in': 'p2'}\n",
      "   --load_c2_from_ord_to_p2--> {'c1_is_at': 'atl', 'c2_is_at': 'null', 'c3_is_at': 'null', 'p1_is_at': 'sfo', 'p2_is_at': 'ord', 'p3_is_at': 'atl', 'c1_is_in': 'null', 'c2_is_in': 'p2', 'c3_is_in': 'p2'}\n",
      "   --load_c1_from_atl_to_p3--> {'c1_is_at': 'null', 'c2_is_at': 'null', 'c3_is_at': 'null', 'p1_is_at': 'sfo', 'p2_is_at': 'ord', 'p3_is_at': 'atl', 'c1_is_in': 'p3', 'c2_is_in': 'p2', 'c3_is_in': 'p2'}\n",
      "   --fly_p2_from_ord_to_sfo--> {'c1_is_at': 'null', 'c2_is_at': 'null', 'c3_is_at': 'null', 'p1_is_at': 'sfo', 'p2_is_at': 'sfo', 'p3_is_at': 'atl', 'c1_is_in': 'p3', 'c2_is_in': 'p2', 'c3_is_in': 'p2'}\n",
      "   --fly_p3_from_atl_to_jfk--> {'c1_is_at': 'null', 'c2_is_at': 'null', 'c3_is_at': 'null', 'p1_is_at': 'sfo', 'p2_is_at': 'sfo', 'p3_is_at': 'jfk', 'c1_is_in': 'p3', 'c2_is_in': 'p2', 'c3_is_in': 'p2'}\n",
      "   --unload_c3_from_p2_to_sfo--> {'c1_is_at': 'null', 'c2_is_at': 'null', 'c3_is_at': 'sfo', 'p1_is_at': 'sfo', 'p2_is_at': 'sfo', 'p3_is_at': 'jfk', 'c1_is_in': 'p3', 'c2_is_in': 'p2', 'c3_is_in': 'null'}\n",
      "   --unload_c1_from_p3_to_jfk--> {'c1_is_at': 'jfk', 'c2_is_at': 'null', 'c3_is_at': 'sfo', 'p1_is_at': 'sfo', 'p2_is_at': 'sfo', 'p3_is_at': 'jfk', 'c1_is_in': 'null', 'c2_is_in': 'p2', 'c3_is_in': 'null'}\n",
      "   --unload_c2_from_p2_to_sfo--> {'c1_is_at': 'jfk', 'c2_is_at': 'sfo', 'c3_is_at': 'sfo', 'p1_is_at': 'sfo', 'p2_is_at': 'sfo', 'p3_is_at': 'jfk', 'c1_is_in': 'null', 'c2_is_in': 'null', 'c3_is_in': 'null'} (cost: 10)\n",
      " 23636 paths have been expanded and 101904 paths remain in the frontier\n",
      "Elapsed time: 748.833487 seconds\n"
     ]
    }
   ],
   "source": [
    "# Problem 2\n",
    "# Problem idea: We have small amount of cargo, but many airports and planes, some planes must end in specific airports.\n",
    "print(\"Problem 2 - No heuristic:\")\n",
    "\n",
    "start: float = perf_counter()\n",
    "SearcherMPP(Forward_STRIPS(air_cargo2)).search()\n",
    "end: float = perf_counter()\n",
    "\n",
    "print(f'Elapsed time: {end - start:.6f} seconds')\n",
    "\n",
    "data.loc[len(data)] = ['Problem 2', False, end - start]"
   ]
  },
  {
   "cell_type": "code",
   "outputs": [],
   "source": [
    "def h_mismatched_planes(assignment, goal):\n",
    "    \"\"\"This heuristic counts the number of planes that are not yet at their goal location. The idea is that the more planes that are not at their goal, the further away we are from the goal state.\"\"\"\n",
    "    return sum(1 for k, v in goal.items() if assignment[k] != v and '_is_at' in k and 'p' in k)"
   ],
   "metadata": {
    "collapsed": false,
    "ExecuteTime": {
     "end_time": "2024-03-24T18:03:00.843850Z",
     "start_time": "2024-03-24T18:03:00.840247Z"
    }
   },
   "execution_count": 14
  },
  {
   "cell_type": "code",
   "outputs": [
    {
     "name": "stdout",
     "output_type": "stream",
     "text": [
      "Problem 2 - With heuristic:\n",
      "Solution: {'c1_is_at': 'atl', 'c2_is_at': 'ord', 'c3_is_at': 'jfk', 'p1_is_at': 'sfo', 'p2_is_at': 'jfk', 'p3_is_at': 'ord', 'c1_is_in': 'null', 'c2_is_in': 'null', 'c3_is_in': 'null'}\n",
      "   --load_c2_from_ord_to_p3--> {'c1_is_at': 'atl', 'c2_is_at': 'null', 'c3_is_at': 'jfk', 'p1_is_at': 'sfo', 'p2_is_at': 'jfk', 'p3_is_at': 'ord', 'c1_is_in': 'null', 'c2_is_in': 'p3', 'c3_is_in': 'null'}\n",
      "   --fly_p3_from_ord_to_jfk--> {'c1_is_at': 'atl', 'c2_is_at': 'null', 'c3_is_at': 'jfk', 'p1_is_at': 'sfo', 'p2_is_at': 'jfk', 'p3_is_at': 'jfk', 'c1_is_in': 'null', 'c2_is_in': 'p3', 'c3_is_in': 'null'}\n",
      "   --load_c3_from_jfk_to_p3--> {'c1_is_at': 'atl', 'c2_is_at': 'null', 'c3_is_at': 'null', 'p1_is_at': 'sfo', 'p2_is_at': 'jfk', 'p3_is_at': 'jfk', 'c1_is_in': 'null', 'c2_is_in': 'p3', 'c3_is_in': 'p3'}\n",
      "   --fly_p3_from_jfk_to_atl--> {'c1_is_at': 'atl', 'c2_is_at': 'null', 'c3_is_at': 'null', 'p1_is_at': 'sfo', 'p2_is_at': 'jfk', 'p3_is_at': 'atl', 'c1_is_in': 'null', 'c2_is_in': 'p3', 'c3_is_in': 'p3'}\n",
      "   --load_c1_from_atl_to_p3--> {'c1_is_at': 'null', 'c2_is_at': 'null', 'c3_is_at': 'null', 'p1_is_at': 'sfo', 'p2_is_at': 'jfk', 'p3_is_at': 'atl', 'c1_is_in': 'p3', 'c2_is_in': 'p3', 'c3_is_in': 'p3'}\n",
      "   --fly_p3_from_atl_to_sfo--> {'c1_is_at': 'null', 'c2_is_at': 'null', 'c3_is_at': 'null', 'p1_is_at': 'sfo', 'p2_is_at': 'jfk', 'p3_is_at': 'sfo', 'c1_is_in': 'p3', 'c2_is_in': 'p3', 'c3_is_in': 'p3'}\n",
      "   --unload_c3_from_p3_to_sfo--> {'c1_is_at': 'null', 'c2_is_at': 'null', 'c3_is_at': 'sfo', 'p1_is_at': 'sfo', 'p2_is_at': 'jfk', 'p3_is_at': 'sfo', 'c1_is_in': 'p3', 'c2_is_in': 'p3', 'c3_is_in': 'null'}\n",
      "   --unload_c2_from_p3_to_sfo--> {'c1_is_at': 'null', 'c2_is_at': 'sfo', 'c3_is_at': 'sfo', 'p1_is_at': 'sfo', 'p2_is_at': 'jfk', 'p3_is_at': 'sfo', 'c1_is_in': 'p3', 'c2_is_in': 'null', 'c3_is_in': 'null'}\n",
      "   --fly_p3_from_sfo_to_jfk--> {'c1_is_at': 'null', 'c2_is_at': 'sfo', 'c3_is_at': 'sfo', 'p1_is_at': 'sfo', 'p2_is_at': 'jfk', 'p3_is_at': 'jfk', 'c1_is_in': 'p3', 'c2_is_in': 'null', 'c3_is_in': 'null'}\n",
      "   --unload_c1_from_p3_to_jfk--> {'c1_is_at': 'jfk', 'c2_is_at': 'sfo', 'c3_is_at': 'sfo', 'p1_is_at': 'sfo', 'p2_is_at': 'jfk', 'p3_is_at': 'jfk', 'c1_is_in': 'null', 'c2_is_in': 'null', 'c3_is_in': 'null'} (cost: 10)\n",
      " 18316 paths have been expanded and 93788 paths remain in the frontier\n",
      "Elapsed time: 469.093306 seconds\n"
     ]
    }
   ],
   "source": [
    "# Solution idea - hopefully making so that free planes fly to their desired location, and in the meantime planes that are not restricted to be on specific airports make the cargo moving....\n",
    "print(\"Problem 2 - With heuristic:\")\n",
    "\n",
    "start: float = perf_counter()\n",
    "SearcherMPP(Forward_STRIPS(air_cargo2, h_mismatched_planes)).search()\n",
    "end: float = perf_counter()\n",
    "\n",
    "print(f'Elapsed time: {end - start:.6f} seconds')\n",
    "\n",
    "data.loc[len(data)] = ['Problem 2', True, end - start]"
   ],
   "metadata": {
    "collapsed": false,
    "ExecuteTime": {
     "end_time": "2024-03-24T18:10:50.605198Z",
     "start_time": "2024-03-24T18:03:01.507477Z"
    }
   },
   "execution_count": 15
  },
  {
   "cell_type": "code",
   "outputs": [],
   "source": [
    "# Domain\n",
    "air_cargo3dom: STRIPS_domain = create_air_cargo_transportation(\n",
    "    cargo={'c1', 'c2', 'c3', 'c4'},\n",
    "    planes={'p1', 'p2', 'p3',},\n",
    "    airports={'sfo', 'jfk', 'lax',},\n",
    "    cargo_forbidden_airports={'c1': {'lax'}, 'c2': {'jfk'}, 'c3': {'lax'}, 'c4': {'sfo'},},\n",
    "    planes_forbidden_airports={'p1': {'lax'}, 'p2': {'jfk'}, 'p3': {'sfo'},}\n",
    ")\n",
    "\n",
    "# Initial state\n",
    "air_setup3: dict[str, str] = {\n",
    "    At('c1'): 'sfo',\n",
    "    At('c2'): 'lax',\n",
    "    At('c3'): 'jfk',\n",
    "    At('c4'): 'jfk',\n",
    "\n",
    "    At('p1'): 'sfo',\n",
    "    At('p2'): 'lax',\n",
    "    At('p3'): 'jfk',\n",
    "\n",
    "    In('c1'): 'null',\n",
    "    In('c2'): 'null',\n",
    "    In('c3'): 'null',\n",
    "    In('c4'): 'null',\n",
    "}\n",
    "\n",
    "# Goal state\n",
    "air_goal3: dict[str, str] = {\n",
    "    At('c1'): 'jfk',\n",
    "    At('c2'): 'sfo',\n",
    "    At('c3'): 'sfo',\n",
    "    At('c4'): 'lax',\n",
    "\n",
    "    In('c1'): 'null',\n",
    "    In('c2'): 'null',\n",
    "    In('c3'): 'null',\n",
    "    In('c4'): 'null',\n",
    "}\n",
    "\n",
    "air_cargo3: Planning_problem = Planning_problem(air_cargo3dom, air_setup3, air_goal3)"
   ],
   "metadata": {
    "collapsed": false,
    "ExecuteTime": {
     "end_time": "2024-03-24T18:12:07.922804Z",
     "start_time": "2024-03-24T18:12:07.918278Z"
    }
   },
   "execution_count": 16
  },
  {
   "cell_type": "code",
   "execution_count": 17,
   "metadata": {
    "ExecuteTime": {
     "end_time": "2024-03-24T18:12:13.814455Z",
     "start_time": "2024-03-24T18:12:09.177067Z"
    }
   },
   "outputs": [
    {
     "name": "stdout",
     "output_type": "stream",
     "text": [
      "Problem 3 - No heuristic:\n",
      "Solution: {'c1_is_at': 'sfo', 'c2_is_at': 'lax', 'c3_is_at': 'jfk', 'c4_is_at': 'jfk', 'p1_is_at': 'sfo', 'p2_is_at': 'lax', 'p3_is_at': 'jfk', 'c1_is_in': 'null', 'c2_is_in': 'null', 'c3_is_in': 'null', 'c4_is_in': 'null'}\n",
      "   --load_c1_from_sfo_to_p1--> {'c1_is_at': 'null', 'c2_is_at': 'lax', 'c3_is_at': 'jfk', 'c4_is_at': 'jfk', 'p1_is_at': 'sfo', 'p2_is_at': 'lax', 'p3_is_at': 'jfk', 'c1_is_in': 'p1', 'c2_is_in': 'null', 'c3_is_in': 'null', 'c4_is_in': 'null'}\n",
      "   --load_c4_from_jfk_to_p3--> {'c1_is_at': 'null', 'c2_is_at': 'lax', 'c3_is_at': 'jfk', 'c4_is_at': 'null', 'p1_is_at': 'sfo', 'p2_is_at': 'lax', 'p3_is_at': 'jfk', 'c1_is_in': 'p1', 'c2_is_in': 'null', 'c3_is_in': 'null', 'c4_is_in': 'p3'}\n",
      "   --fly_p1_from_sfo_to_jfk--> {'c1_is_at': 'null', 'c2_is_at': 'lax', 'c3_is_at': 'jfk', 'c4_is_at': 'null', 'p1_is_at': 'jfk', 'p2_is_at': 'lax', 'p3_is_at': 'jfk', 'c1_is_in': 'p1', 'c2_is_in': 'null', 'c3_is_in': 'null', 'c4_is_in': 'p3'}\n",
      "   --fly_p3_from_jfk_to_lax--> {'c1_is_at': 'null', 'c2_is_at': 'lax', 'c3_is_at': 'jfk', 'c4_is_at': 'null', 'p1_is_at': 'jfk', 'p2_is_at': 'lax', 'p3_is_at': 'lax', 'c1_is_in': 'p1', 'c2_is_in': 'null', 'c3_is_in': 'null', 'c4_is_in': 'p3'}\n",
      "   --unload_c1_from_p1_to_jfk--> {'c1_is_at': 'jfk', 'c2_is_at': 'lax', 'c3_is_at': 'jfk', 'c4_is_at': 'null', 'p1_is_at': 'jfk', 'p2_is_at': 'lax', 'p3_is_at': 'lax', 'c1_is_in': 'null', 'c2_is_in': 'null', 'c3_is_in': 'null', 'c4_is_in': 'p3'}\n",
      "   --unload_c4_from_p3_to_lax--> {'c1_is_at': 'jfk', 'c2_is_at': 'lax', 'c3_is_at': 'jfk', 'c4_is_at': 'lax', 'p1_is_at': 'jfk', 'p2_is_at': 'lax', 'p3_is_at': 'lax', 'c1_is_in': 'null', 'c2_is_in': 'null', 'c3_is_in': 'null', 'c4_is_in': 'null'}\n",
      "   --load_c3_from_jfk_to_p1--> {'c1_is_at': 'jfk', 'c2_is_at': 'lax', 'c3_is_at': 'null', 'c4_is_at': 'lax', 'p1_is_at': 'jfk', 'p2_is_at': 'lax', 'p3_is_at': 'lax', 'c1_is_in': 'null', 'c2_is_in': 'null', 'c3_is_in': 'p1', 'c4_is_in': 'null'}\n",
      "   --load_c2_from_lax_to_p2--> {'c1_is_at': 'jfk', 'c2_is_at': 'null', 'c3_is_at': 'null', 'c4_is_at': 'lax', 'p1_is_at': 'jfk', 'p2_is_at': 'lax', 'p3_is_at': 'lax', 'c1_is_in': 'null', 'c2_is_in': 'p2', 'c3_is_in': 'p1', 'c4_is_in': 'null'}\n",
      "   --fly_p1_from_jfk_to_sfo--> {'c1_is_at': 'jfk', 'c2_is_at': 'null', 'c3_is_at': 'null', 'c4_is_at': 'lax', 'p1_is_at': 'sfo', 'p2_is_at': 'lax', 'p3_is_at': 'lax', 'c1_is_in': 'null', 'c2_is_in': 'p2', 'c3_is_in': 'p1', 'c4_is_in': 'null'}\n",
      "   --fly_p2_from_lax_to_sfo--> {'c1_is_at': 'jfk', 'c2_is_at': 'null', 'c3_is_at': 'null', 'c4_is_at': 'lax', 'p1_is_at': 'sfo', 'p2_is_at': 'sfo', 'p3_is_at': 'lax', 'c1_is_in': 'null', 'c2_is_in': 'p2', 'c3_is_in': 'p1', 'c4_is_in': 'null'}\n",
      "   --unload_c3_from_p1_to_sfo--> {'c1_is_at': 'jfk', 'c2_is_at': 'null', 'c3_is_at': 'sfo', 'c4_is_at': 'lax', 'p1_is_at': 'sfo', 'p2_is_at': 'sfo', 'p3_is_at': 'lax', 'c1_is_in': 'null', 'c2_is_in': 'p2', 'c3_is_in': 'null', 'c4_is_in': 'null'}\n",
      "   --unload_c2_from_p2_to_sfo--> {'c1_is_at': 'jfk', 'c2_is_at': 'sfo', 'c3_is_at': 'sfo', 'c4_is_at': 'lax', 'p1_is_at': 'sfo', 'p2_is_at': 'sfo', 'p3_is_at': 'lax', 'c1_is_in': 'null', 'c2_is_in': 'null', 'c3_is_in': 'null', 'c4_is_in': 'null'} (cost: 12)\n",
      " 3932 paths have been expanded and 3725 paths remain in the frontier\n",
      "Elapsed time: 4.632667 seconds\n"
     ]
    }
   ],
   "source": [
    "# Problem 3\n",
    "# Problem idea: Medium amount of cargo, medium amount of planes, and some cargo and planes are not allowed to go to certain airports. And some goods are not allowed in some airports.\n",
    "print(\"Problem 3 - No heuristic:\")\n",
    "\n",
    "start: float = perf_counter()\n",
    "SearcherMPP(Forward_STRIPS(air_cargo3)).search()\n",
    "end: float = perf_counter()\n",
    "\n",
    "print(f'Elapsed time: {end - start:.6f} seconds')\n",
    "\n",
    "data.loc[len(data)] = ['Problem 3', False, end - start]"
   ]
  },
  {
   "cell_type": "code",
   "outputs": [],
   "source": [
    "def h_combined(assignment, goal):\n",
    "    \"\"\"This heuristic combines the previous two heuristics.\"\"\"\n",
    "    return h_unloaded_cargo(assignment, goal) + h_mismatched_planes(assignment, goal)"
   ],
   "metadata": {
    "collapsed": false,
    "ExecuteTime": {
     "end_time": "2024-03-24T18:12:17.666410Z",
     "start_time": "2024-03-24T18:12:17.662987Z"
    }
   },
   "execution_count": 18
  },
  {
   "cell_type": "code",
   "outputs": [
    {
     "name": "stdout",
     "output_type": "stream",
     "text": [
      "Problem 3 - With heuristic:\n",
      "Solution: {'c1_is_at': 'sfo', 'c2_is_at': 'lax', 'c3_is_at': 'jfk', 'c4_is_at': 'jfk', 'p1_is_at': 'sfo', 'p2_is_at': 'lax', 'p3_is_at': 'jfk', 'c1_is_in': 'null', 'c2_is_in': 'null', 'c3_is_in': 'null', 'c4_is_in': 'null'}\n",
      "   --load_c1_from_sfo_to_p1--> {'c1_is_at': 'null', 'c2_is_at': 'lax', 'c3_is_at': 'jfk', 'c4_is_at': 'jfk', 'p1_is_at': 'sfo', 'p2_is_at': 'lax', 'p3_is_at': 'jfk', 'c1_is_in': 'p1', 'c2_is_in': 'null', 'c3_is_in': 'null', 'c4_is_in': 'null'}\n",
      "   --fly_p1_from_sfo_to_jfk--> {'c1_is_at': 'null', 'c2_is_at': 'lax', 'c3_is_at': 'jfk', 'c4_is_at': 'jfk', 'p1_is_at': 'jfk', 'p2_is_at': 'lax', 'p3_is_at': 'jfk', 'c1_is_in': 'p1', 'c2_is_in': 'null', 'c3_is_in': 'null', 'c4_is_in': 'null'}\n",
      "   --load_c3_from_jfk_to_p1--> {'c1_is_at': 'null', 'c2_is_at': 'lax', 'c3_is_at': 'null', 'c4_is_at': 'jfk', 'p1_is_at': 'jfk', 'p2_is_at': 'lax', 'p3_is_at': 'jfk', 'c1_is_in': 'p1', 'c2_is_in': 'null', 'c3_is_in': 'p1', 'c4_is_in': 'null'}\n",
      "   --load_c2_from_lax_to_p2--> {'c1_is_at': 'null', 'c2_is_at': 'null', 'c3_is_at': 'null', 'c4_is_at': 'jfk', 'p1_is_at': 'jfk', 'p2_is_at': 'lax', 'p3_is_at': 'jfk', 'c1_is_in': 'p1', 'c2_is_in': 'p2', 'c3_is_in': 'p1', 'c4_is_in': 'null'}\n",
      "   --load_c4_from_jfk_to_p3--> {'c1_is_at': 'null', 'c2_is_at': 'null', 'c3_is_at': 'null', 'c4_is_at': 'null', 'p1_is_at': 'jfk', 'p2_is_at': 'lax', 'p3_is_at': 'jfk', 'c1_is_in': 'p1', 'c2_is_in': 'p2', 'c3_is_in': 'p1', 'c4_is_in': 'p3'}\n",
      "   --fly_p3_from_jfk_to_lax--> {'c1_is_at': 'null', 'c2_is_at': 'null', 'c3_is_at': 'null', 'c4_is_at': 'null', 'p1_is_at': 'jfk', 'p2_is_at': 'lax', 'p3_is_at': 'lax', 'c1_is_in': 'p1', 'c2_is_in': 'p2', 'c3_is_in': 'p1', 'c4_is_in': 'p3'}\n",
      "   --unload_c1_from_p1_to_jfk--> {'c1_is_at': 'jfk', 'c2_is_at': 'null', 'c3_is_at': 'null', 'c4_is_at': 'null', 'p1_is_at': 'jfk', 'p2_is_at': 'lax', 'p3_is_at': 'lax', 'c1_is_in': 'null', 'c2_is_in': 'p2', 'c3_is_in': 'p1', 'c4_is_in': 'p3'}\n",
      "   --fly_p2_from_lax_to_sfo--> {'c1_is_at': 'jfk', 'c2_is_at': 'null', 'c3_is_at': 'null', 'c4_is_at': 'null', 'p1_is_at': 'jfk', 'p2_is_at': 'sfo', 'p3_is_at': 'lax', 'c1_is_in': 'null', 'c2_is_in': 'p2', 'c3_is_in': 'p1', 'c4_is_in': 'p3'}\n",
      "   --unload_c2_from_p2_to_sfo--> {'c1_is_at': 'jfk', 'c2_is_at': 'sfo', 'c3_is_at': 'null', 'c4_is_at': 'null', 'p1_is_at': 'jfk', 'p2_is_at': 'sfo', 'p3_is_at': 'lax', 'c1_is_in': 'null', 'c2_is_in': 'null', 'c3_is_in': 'p1', 'c4_is_in': 'p3'}\n",
      "   --fly_p1_from_jfk_to_sfo--> {'c1_is_at': 'jfk', 'c2_is_at': 'sfo', 'c3_is_at': 'null', 'c4_is_at': 'null', 'p1_is_at': 'sfo', 'p2_is_at': 'sfo', 'p3_is_at': 'lax', 'c1_is_in': 'null', 'c2_is_in': 'null', 'c3_is_in': 'p1', 'c4_is_in': 'p3'}\n",
      "   --unload_c4_from_p3_to_lax--> {'c1_is_at': 'jfk', 'c2_is_at': 'sfo', 'c3_is_at': 'null', 'c4_is_at': 'lax', 'p1_is_at': 'sfo', 'p2_is_at': 'sfo', 'p3_is_at': 'lax', 'c1_is_in': 'null', 'c2_is_in': 'null', 'c3_is_in': 'p1', 'c4_is_in': 'null'}\n",
      "   --unload_c3_from_p1_to_sfo--> {'c1_is_at': 'jfk', 'c2_is_at': 'sfo', 'c3_is_at': 'sfo', 'c4_is_at': 'lax', 'p1_is_at': 'sfo', 'p2_is_at': 'sfo', 'p3_is_at': 'lax', 'c1_is_in': 'null', 'c2_is_in': 'null', 'c3_is_in': 'null', 'c4_is_in': 'null'} (cost: 12)\n",
      " 2464 paths have been expanded and 4120 paths remain in the frontier\n",
      "Elapsed time: 2.536019 seconds\n"
     ]
    }
   ],
   "source": [
    "# Solution idea - combine all the previous heuristics to make the computation faster.\n",
    "print(\"Problem 3 - With heuristic:\")\n",
    "\n",
    "start: float = perf_counter()\n",
    "SearcherMPP(Forward_STRIPS(air_cargo3, h_combined)).search()\n",
    "end: float = perf_counter()\n",
    "\n",
    "print(f'Elapsed time: {end - start:.6f} seconds')\n",
    "\n",
    "data.loc[len(data)] = ['Problem 3', True, end - start]"
   ],
   "metadata": {
    "collapsed": false,
    "ExecuteTime": {
     "end_time": "2024-03-24T18:12:26.350646Z",
     "start_time": "2024-03-24T18:12:23.810142Z"
    }
   },
   "execution_count": 19
  },
  {
   "cell_type": "code",
   "outputs": [],
   "source": [
    "# Sub goal / initial state\n",
    "air_sub_problem_1: dict[str, str] = {\n",
    "    At('c1'): 'jfk',\n",
    "    At('c2'): 'sfo',\n",
    "    At('c3'): 'sfo',\n",
    "    At('c4'): 'jfk',\n",
    "    At('c5'): 'lax',\n",
    "    \n",
    "    At('p1'): 'jfk',\n",
    "    At('p2'): 'sfo',\n",
    "\n",
    "    In('c1'): 'null',\n",
    "    In('c2'): 'null',\n",
    "    In('c3'): 'null',\n",
    "    In('c4'): 'null',\n",
    "    In('c5'): 'null',\n",
    "}\n",
    "\n",
    "air_cargo1_sub_problem_1: Planning_problem = Planning_problem(air_cargo1dom, air_setup1, air_sub_problem_1)\n",
    "air_cargo1_sub_problem_2: Planning_problem = Planning_problem(air_cargo1dom, air_sub_problem_1, air_goal1)"
   ],
   "metadata": {
    "collapsed": false,
    "ExecuteTime": {
     "end_time": "2024-03-24T18:14:57.511310Z",
     "start_time": "2024-03-24T18:14:57.507215Z"
    }
   },
   "execution_count": 23
  },
  {
   "cell_type": "code",
   "outputs": [
    {
     "name": "stdout",
     "output_type": "stream",
     "text": [
      "Problem 1 - Sub Problem 1 - No heuristic:\n",
      "Solution: {'c1_is_at': 'sfo', 'c2_is_at': 'jfk', 'c3_is_at': 'lax', 'c4_is_at': 'jfk', 'c5_is_at': 'lax', 'p1_is_at': 'sfo', 'p2_is_at': 'jfk', 'c1_is_in': 'p1', 'c2_is_in': 'p2', 'c3_is_in': 'null', 'c4_is_in': 'null', 'c5_is_in': 'null'}\n",
      "   --fly_p2_from_jfk_to_lax--> {'c1_is_at': 'sfo', 'c2_is_at': 'jfk', 'c3_is_at': 'lax', 'c4_is_at': 'jfk', 'c5_is_at': 'lax', 'p1_is_at': 'sfo', 'p2_is_at': 'lax', 'c1_is_in': 'p1', 'c2_is_in': 'p2', 'c3_is_in': 'null', 'c4_is_in': 'null', 'c5_is_in': 'null'}\n",
      "   --load_c3_from_lax_to_p2--> {'c1_is_at': 'sfo', 'c2_is_at': 'jfk', 'c3_is_at': 'null', 'c4_is_at': 'jfk', 'c5_is_at': 'lax', 'p1_is_at': 'sfo', 'p2_is_at': 'lax', 'c1_is_in': 'p1', 'c2_is_in': 'p2', 'c3_is_in': 'p2', 'c4_is_in': 'null', 'c5_is_in': 'null'}\n",
      "   --fly_p2_from_lax_to_sfo--> {'c1_is_at': 'sfo', 'c2_is_at': 'jfk', 'c3_is_at': 'null', 'c4_is_at': 'jfk', 'c5_is_at': 'lax', 'p1_is_at': 'sfo', 'p2_is_at': 'sfo', 'c1_is_in': 'p1', 'c2_is_in': 'p2', 'c3_is_in': 'p2', 'c4_is_in': 'null', 'c5_is_in': 'null'}\n",
      "   --unload_c2_from_p2_to_sfo--> {'c1_is_at': 'sfo', 'c2_is_at': 'sfo', 'c3_is_at': 'null', 'c4_is_at': 'jfk', 'c5_is_at': 'lax', 'p1_is_at': 'sfo', 'p2_is_at': 'sfo', 'c1_is_in': 'p1', 'c2_is_in': 'null', 'c3_is_in': 'p2', 'c4_is_in': 'null', 'c5_is_in': 'null'}\n",
      "   --fly_p1_from_sfo_to_jfk--> {'c1_is_at': 'sfo', 'c2_is_at': 'sfo', 'c3_is_at': 'null', 'c4_is_at': 'jfk', 'c5_is_at': 'lax', 'p1_is_at': 'jfk', 'p2_is_at': 'sfo', 'c1_is_in': 'p1', 'c2_is_in': 'null', 'c3_is_in': 'p2', 'c4_is_in': 'null', 'c5_is_in': 'null'}\n",
      "   --unload_c3_from_p2_to_sfo--> {'c1_is_at': 'sfo', 'c2_is_at': 'sfo', 'c3_is_at': 'sfo', 'c4_is_at': 'jfk', 'c5_is_at': 'lax', 'p1_is_at': 'jfk', 'p2_is_at': 'sfo', 'c1_is_in': 'p1', 'c2_is_in': 'null', 'c3_is_in': 'null', 'c4_is_in': 'null', 'c5_is_in': 'null'}\n",
      "   --unload_c1_from_p1_to_jfk--> {'c1_is_at': 'jfk', 'c2_is_at': 'sfo', 'c3_is_at': 'sfo', 'c4_is_at': 'jfk', 'c5_is_at': 'lax', 'p1_is_at': 'jfk', 'p2_is_at': 'sfo', 'c1_is_in': 'null', 'c2_is_in': 'null', 'c3_is_in': 'null', 'c4_is_in': 'null', 'c5_is_in': 'null'} (cost: 7)\n",
      " 2707 paths have been expanded and 11398 paths remain in the frontier\n",
      "Elapsed time: 5.020872 seconds\n"
     ]
    }
   ],
   "source": [
    "# Sub problem 1\n",
    "# Idea: finish delivering the initially loaded cargo and c3 to specific airports\n",
    "\n",
    "print('Problem 1 - Sub Problem 1 - No heuristic:')\n",
    "\n",
    "start: float = perf_counter()\n",
    "SearcherMPP(Forward_STRIPS(air_cargo1_sub_problem_1)).search()\n",
    "end: float = perf_counter()\n",
    "\n",
    "print(f'Elapsed time: {end - start:.6f} seconds')\n",
    "\n",
    "data.loc[len(data)] = ['Problem 1 - Sub Problem 1', False, end - start]"
   ],
   "metadata": {
    "collapsed": false,
    "ExecuteTime": {
     "end_time": "2024-03-24T18:15:05.867400Z",
     "start_time": "2024-03-24T18:15:00.842128Z"
    }
   },
   "execution_count": 24
  },
  {
   "cell_type": "code",
   "outputs": [
    {
     "name": "stdout",
     "output_type": "stream",
     "text": [
      "Problem 1 - Sub Problem 2 - No heuristic:\n"
     ]
    },
    {
     "ename": "KeyError",
     "evalue": "'p1_is_at'",
     "output_type": "error",
     "traceback": [
      "\u001B[1;31m---------------------------------------------------------------------------\u001B[0m",
      "\u001B[1;31mKeyError\u001B[0m                                  Traceback (most recent call last)",
      "Cell \u001B[1;32mIn[22], line 4\u001B[0m\n\u001B[0;32m      1\u001B[0m \u001B[38;5;28mprint\u001B[39m(\u001B[38;5;124m'\u001B[39m\u001B[38;5;124mProblem 1 - Sub Problem 2 - No heuristic:\u001B[39m\u001B[38;5;124m'\u001B[39m)\n\u001B[0;32m      3\u001B[0m start: \u001B[38;5;28mfloat\u001B[39m \u001B[38;5;241m=\u001B[39m perf_counter()\n\u001B[1;32m----> 4\u001B[0m SearcherMPP(Forward_STRIPS(air_cargo1_sub_problem_2))\u001B[38;5;241m.\u001B[39msearch()\n\u001B[0;32m      5\u001B[0m end: \u001B[38;5;28mfloat\u001B[39m \u001B[38;5;241m=\u001B[39m perf_counter()\n\u001B[0;32m      7\u001B[0m \u001B[38;5;28mprint\u001B[39m(\u001B[38;5;124mf\u001B[39m\u001B[38;5;124m'\u001B[39m\u001B[38;5;124mElapsed time: \u001B[39m\u001B[38;5;132;01m{\u001B[39;00mend\u001B[38;5;250m \u001B[39m\u001B[38;5;241m-\u001B[39m\u001B[38;5;250m \u001B[39mstart\u001B[38;5;132;01m:\u001B[39;00m\u001B[38;5;124m.6f\u001B[39m\u001B[38;5;132;01m}\u001B[39;00m\u001B[38;5;124m seconds\u001B[39m\u001B[38;5;124m'\u001B[39m)\n",
      "File \u001B[1;32m~\\PycharmProjects\\ioadc\\zadania\\2\\aipython\\searchMPP.py:40\u001B[0m, in \u001B[0;36mSearcherMPP.search\u001B[1;34m(self)\u001B[0m\n\u001B[0;32m     38\u001B[0m \u001B[38;5;28;01melse\u001B[39;00m:\n\u001B[0;32m     39\u001B[0m     \u001B[38;5;28mself\u001B[39m\u001B[38;5;241m.\u001B[39mdisplay(\u001B[38;5;241m4\u001B[39m,\u001B[38;5;124mf\u001B[39m\u001B[38;5;124m\"\u001B[39m\u001B[38;5;124mExpanding: \u001B[39m\u001B[38;5;132;01m{\u001B[39;00m\u001B[38;5;28mself\u001B[39m\u001B[38;5;241m.\u001B[39mpath\u001B[38;5;132;01m}\u001B[39;00m\u001B[38;5;124m (cost: \u001B[39m\u001B[38;5;132;01m{\u001B[39;00m\u001B[38;5;28mself\u001B[39m\u001B[38;5;241m.\u001B[39mpath\u001B[38;5;241m.\u001B[39mcost\u001B[38;5;132;01m}\u001B[39;00m\u001B[38;5;124m)\u001B[39m\u001B[38;5;124m\"\u001B[39m)\n\u001B[1;32m---> 40\u001B[0m     neighs \u001B[38;5;241m=\u001B[39m \u001B[38;5;28mself\u001B[39m\u001B[38;5;241m.\u001B[39mproblem\u001B[38;5;241m.\u001B[39mneighbors(\u001B[38;5;28mself\u001B[39m\u001B[38;5;241m.\u001B[39mpath\u001B[38;5;241m.\u001B[39mend())\n\u001B[0;32m     41\u001B[0m     \u001B[38;5;28mself\u001B[39m\u001B[38;5;241m.\u001B[39mdisplay(\u001B[38;5;241m2\u001B[39m,\u001B[38;5;124mf\u001B[39m\u001B[38;5;124m\"\u001B[39m\u001B[38;5;124mExpanding: \u001B[39m\u001B[38;5;132;01m{\u001B[39;00m\u001B[38;5;28mself\u001B[39m\u001B[38;5;241m.\u001B[39mpath\u001B[38;5;132;01m}\u001B[39;00m\u001B[38;5;124m with neighbors \u001B[39m\u001B[38;5;132;01m{\u001B[39;00mneighs\u001B[38;5;132;01m}\u001B[39;00m\u001B[38;5;124m\"\u001B[39m)\n\u001B[0;32m     42\u001B[0m     \u001B[38;5;28;01mfor\u001B[39;00m arc \u001B[38;5;129;01min\u001B[39;00m neighs:\n",
      "File \u001B[1;32m~\\PycharmProjects\\ioadc\\zadania\\2\\aipython\\stripsForwardPlanner.py:62\u001B[0m, in \u001B[0;36mForward_STRIPS.neighbors\u001B[1;34m(self, state)\u001B[0m\n\u001B[0;32m     58\u001B[0m \u001B[38;5;28;01mdef\u001B[39;00m \u001B[38;5;21mneighbors\u001B[39m(\u001B[38;5;28mself\u001B[39m,state):\n\u001B[0;32m     59\u001B[0m \u001B[38;5;250m    \u001B[39m\u001B[38;5;124;03m\"\"\"returns neighbors of state in this problem\"\"\"\u001B[39;00m\n\u001B[0;32m     60\u001B[0m     \u001B[38;5;28;01mreturn\u001B[39;00m [ Arc(state, \u001B[38;5;28mself\u001B[39m\u001B[38;5;241m.\u001B[39meffect(act,state\u001B[38;5;241m.\u001B[39massignment), act\u001B[38;5;241m.\u001B[39mcost, act)\n\u001B[0;32m     61\u001B[0m              \u001B[38;5;28;01mfor\u001B[39;00m act \u001B[38;5;129;01min\u001B[39;00m \u001B[38;5;28mself\u001B[39m\u001B[38;5;241m.\u001B[39mprob_domain\u001B[38;5;241m.\u001B[39mactions\n\u001B[1;32m---> 62\u001B[0m              \u001B[38;5;28;01mif\u001B[39;00m \u001B[38;5;28mself\u001B[39m\u001B[38;5;241m.\u001B[39mpossible(act,state\u001B[38;5;241m.\u001B[39massignment)]\n",
      "File \u001B[1;32m~\\PycharmProjects\\ioadc\\zadania\\2\\aipython\\stripsForwardPlanner.py:67\u001B[0m, in \u001B[0;36mForward_STRIPS.possible\u001B[1;34m(self, act, state_asst)\u001B[0m\n\u001B[0;32m     64\u001B[0m \u001B[38;5;28;01mdef\u001B[39;00m \u001B[38;5;21mpossible\u001B[39m(\u001B[38;5;28mself\u001B[39m,act,state_asst):\n\u001B[0;32m     65\u001B[0m \u001B[38;5;250m    \u001B[39m\u001B[38;5;124;03m\"\"\"True if act is possible in state.\u001B[39;00m\n\u001B[0;32m     66\u001B[0m \u001B[38;5;124;03m    act is possible if all of its preconditions have the same value in the state\"\"\"\u001B[39;00m\n\u001B[1;32m---> 67\u001B[0m     \u001B[38;5;28;01mreturn\u001B[39;00m \u001B[38;5;28mall\u001B[39m(state_asst[pre] \u001B[38;5;241m==\u001B[39m act\u001B[38;5;241m.\u001B[39mpreconds[pre]\n\u001B[0;32m     68\u001B[0m                \u001B[38;5;28;01mfor\u001B[39;00m pre \u001B[38;5;129;01min\u001B[39;00m act\u001B[38;5;241m.\u001B[39mpreconds)\n",
      "File \u001B[1;32m~\\PycharmProjects\\ioadc\\zadania\\2\\aipython\\stripsForwardPlanner.py:67\u001B[0m, in \u001B[0;36m<genexpr>\u001B[1;34m(.0)\u001B[0m\n\u001B[0;32m     64\u001B[0m \u001B[38;5;28;01mdef\u001B[39;00m \u001B[38;5;21mpossible\u001B[39m(\u001B[38;5;28mself\u001B[39m,act,state_asst):\n\u001B[0;32m     65\u001B[0m \u001B[38;5;250m    \u001B[39m\u001B[38;5;124;03m\"\"\"True if act is possible in state.\u001B[39;00m\n\u001B[0;32m     66\u001B[0m \u001B[38;5;124;03m    act is possible if all of its preconditions have the same value in the state\"\"\"\u001B[39;00m\n\u001B[1;32m---> 67\u001B[0m     \u001B[38;5;28;01mreturn\u001B[39;00m \u001B[38;5;28mall\u001B[39m(state_asst[pre] \u001B[38;5;241m==\u001B[39m act\u001B[38;5;241m.\u001B[39mpreconds[pre]\n\u001B[0;32m     68\u001B[0m                \u001B[38;5;28;01mfor\u001B[39;00m pre \u001B[38;5;129;01min\u001B[39;00m act\u001B[38;5;241m.\u001B[39mpreconds)\n",
      "\u001B[1;31mKeyError\u001B[0m: 'p1_is_at'"
     ]
    }
   ],
   "source": [
    "print('Problem 1 - Sub Problem 2 - No heuristic:')\n",
    "\n",
    "start: float = perf_counter()\n",
    "SearcherMPP(Forward_STRIPS(air_cargo1_sub_problem_2)).search()\n",
    "end: float = perf_counter()\n",
    "\n",
    "print(f'Elapsed time: {end - start:.6f} seconds')\n",
    "\n",
    "data.loc[len(data)] = ['Problem 1 - Sub Problem 2', False, end - start]"
   ],
   "metadata": {
    "collapsed": false,
    "ExecuteTime": {
     "end_time": "2024-03-24T18:12:38.411225Z",
     "start_time": "2024-03-24T18:12:37.815894Z"
    }
   },
   "execution_count": 22
  },
  {
   "cell_type": "code",
   "outputs": [],
   "source": [
    "print('Problem 1 - Sub Problem 1 - With heuristic:')\n",
    "\n",
    "start: float = perf_counter()\n",
    "SearcherMPP(Forward_STRIPS(air_cargo1_sub_problem_1, h_unloaded_cargo)).search()\n",
    "end: float = perf_counter()\n",
    "\n",
    "print(f'Elapsed time: {end - start:.6f} seconds')\n",
    "\n",
    "data.loc[len(data)] = ['Problem 1 - Sub Problem 1', True, end - start]"
   ],
   "metadata": {
    "collapsed": false
   }
  },
  {
   "cell_type": "code",
   "outputs": [],
   "source": [
    "print('Problem 1 - Sub Problem 2 - With heuristic:')\n",
    "\n",
    "start: float = perf_counter()\n",
    "SearcherMPP(Forward_STRIPS(air_cargo1_sub_problem_2, h_unloaded_cargo)).search()\n",
    "end: float = perf_counter()\n",
    "\n",
    "print(f'Elapsed time: {end - start:.6f} seconds')\n",
    "\n",
    "data.loc[len(data)] = ['Problem 1 - Sub Problem 2', True, end - start]"
   ],
   "metadata": {
    "collapsed": false
   }
  },
  {
   "cell_type": "code",
   "outputs": [],
   "source": [
    "# Sub goal / initial state\n",
    "air_sub_problem_2: dict[str, str] = {\n",
    "    At('c1'): 'atl',\n",
    "    At('c2'): 'ord',\n",
    "    At('c3'): 'jfk',\n",
    "\n",
    "    At('p3'): 'jfk',\n",
    "    At('p4'): 'sfo',\n",
    "\n",
    "    In('c1'): 'null',\n",
    "    In('c2'): 'null',\n",
    "    In('c3'): 'null',\n",
    "}\n",
    "\n",
    "air_cargo2_sub_problem_1: Planning_problem = Planning_problem(air_cargo2dom, air_setup2, air_sub_problem_2)\n",
    "air_cargo2_sub_problem_2: Planning_problem = Planning_problem(air_cargo2dom, air_sub_problem_2, air_goal2)"
   ],
   "metadata": {
    "collapsed": false
   }
  },
  {
   "cell_type": "code",
   "outputs": [],
   "source": [
    "# Sub problem 2\n",
    "# Idea: Ground not needed aircrafts, then solve the problem with less number of planes.\n",
    "\n",
    "print('Problem 2 - Sub Problem 1 - No heuristic:')\n",
    "\n",
    "start: float = perf_counter()\n",
    "SearcherMPP(Forward_STRIPS(air_cargo2_sub_problem_1)).search()\n",
    "end: float = perf_counter()\n",
    "\n",
    "print(f'Elapsed time: {end - start:.6f} seconds')\n",
    "\n",
    "data.loc[len(data)] = ['Problem 2 - Sub Problem 1', False, end - start]"
   ],
   "metadata": {
    "collapsed": false
   }
  },
  {
   "cell_type": "code",
   "outputs": [],
   "source": [
    "print('Problem 2 - Sub Problem 2 - No heuristic:')\n",
    "\n",
    "start: float = perf_counter()\n",
    "SearcherMPP(Forward_STRIPS(air_cargo2_sub_problem_2)).search()\n",
    "end: float = perf_counter()\n",
    "\n",
    "print(f'Elapsed time: {end - start:.6f} seconds')\n",
    "\n",
    "data.loc[len(data)] = ['Problem 2 - Sub Problem 2', False, end - start]"
   ],
   "metadata": {
    "collapsed": false
   }
  },
  {
   "cell_type": "code",
   "outputs": [],
   "source": [
    "print('Problem 2 - Sub Problem 1 - With heuristic:')\n",
    "\n",
    "start: float = perf_counter()\n",
    "SearcherMPP(Forward_STRIPS(air_cargo2_sub_problem_1, h_mismatched_planes)).search()\n",
    "end: float = perf_counter()\n",
    "\n",
    "print(f'Elapsed time: {end - start:.6f} seconds')\n",
    "\n",
    "data.loc[len(data)] = ['Problem 2 - Sub Problem 1', True, end - start]"
   ],
   "metadata": {
    "collapsed": false
   }
  },
  {
   "cell_type": "code",
   "outputs": [],
   "source": [
    "print('Problem 2 - Sub Problem 2 - With heuristic:')\n",
    "\n",
    "start: float = perf_counter()\n",
    "SearcherMPP(Forward_STRIPS(air_cargo2_sub_problem_2, h_mismatched_planes)).search()\n",
    "end: float = perf_counter()\n",
    "\n",
    "print(f'Elapsed time: {end - start:.6f} seconds')\n",
    "\n",
    "data.loc[len(data)] = ['Problem 2 - Sub Problem 2', True, end - start]"
   ],
   "metadata": {
    "collapsed": false
   }
  },
  {
   "cell_type": "code",
   "outputs": [],
   "source": [
    "# Sub goal / initial state\n",
    "air_sub_problem_3: dict[str, str] = {\n",
    "    At('c1'): 'jfk',\n",
    "    At('c2'): 'sfo',\n",
    "    At('c3'): 'jfk',\n",
    "    At('c4'): 'jfk',\n",
    "\n",
    "    In('c1'): 'null',\n",
    "    In('c2'): 'null',\n",
    "    In('c3'): 'null',\n",
    "    In('c4'): 'null',\n",
    "}\n",
    "\n",
    "air_cargo3_sub_problem_1: Planning_problem = Planning_problem(air_cargo3dom, air_setup3, air_sub_problem_3)\n",
    "air_cargo3_sub_problem_2: Planning_problem = Planning_problem(air_cargo3dom, air_sub_problem_3, air_goal3)"
   ],
   "metadata": {
    "collapsed": false
   }
  },
  {
   "cell_type": "code",
   "outputs": [],
   "source": [
    "# Sub problem 3\n",
    "# Idea: Solve the problem one package at a time, to utilize different access of some plane to a given airport.\n",
    "\n",
    "print('Problem 3 - Sub Problem 1 - No heuristic:')\n",
    "\n",
    "start: float = perf_counter()\n",
    "SearcherMPP(Forward_STRIPS(air_cargo3_sub_problem_1)).search()\n",
    "end: float = perf_counter()\n",
    "\n",
    "print(f'Elapsed time: {end - start:.6f} seconds')\n",
    "\n",
    "data.loc[len(data)] = ['Problem 3 - Sub Problem 1', False, end - start]"
   ],
   "metadata": {
    "collapsed": false
   }
  },
  {
   "cell_type": "code",
   "outputs": [],
   "source": [
    "print('Problem 3 - Sub Problem 2 - No heuristic:')\n",
    "\n",
    "start: float = perf_counter()\n",
    "SearcherMPP(Forward_STRIPS(air_cargo3_sub_problem_2)).search()\n",
    "end: float = perf_counter()\n",
    "\n",
    "print(f'Elapsed time: {end - start:.6f} seconds')\n",
    "\n",
    "data.loc[len(data)] = ['Problem 3 - Sub Problem 2', False, end - start]"
   ],
   "metadata": {
    "collapsed": false
   }
  },
  {
   "cell_type": "code",
   "outputs": [],
   "source": [
    "print('Problem 3 - Sub Problem 1 - With heuristic:')\n",
    "\n",
    "start: float = perf_counter()\n",
    "SearcherMPP(Forward_STRIPS(air_cargo3_sub_problem_1, h_combined)).search()\n",
    "end: float = perf_counter()\n",
    "\n",
    "print(f'Elapsed time: {end - start:.6f} seconds')\n",
    "\n",
    "data.loc[len(data)] = ['Problem 3 - Sub Problem 1', True, end - start]"
   ],
   "metadata": {
    "collapsed": false
   }
  },
  {
   "cell_type": "code",
   "outputs": [],
   "source": [
    "print('Problem 3 - Sub Problem 2 - With heuristic:')\n",
    "\n",
    "start: float = perf_counter()\n",
    "SearcherMPP(Forward_STRIPS(air_cargo3_sub_problem_2, h_combined)).search()\n",
    "end: float = perf_counter()\n",
    "\n",
    "print(f'Elapsed time: {end - start:.6f} seconds')\n",
    "\n",
    "data.loc[len(data)] = ['Problem 3 - Sub Problem 2', True, end - start]"
   ],
   "metadata": {
    "collapsed": false
   }
  },
  {
   "cell_type": "code",
   "outputs": [],
   "source": [],
   "metadata": {
    "collapsed": false
   }
  },
  {
   "cell_type": "code",
   "outputs": [],
   "source": [
    "data"
   ],
   "metadata": {
    "collapsed": false
   },
   "execution_count": null
  },
  {
   "cell_type": "code",
   "outputs": [],
   "source": [
    "data.dtypes"
   ],
   "metadata": {
    "collapsed": false
   },
   "execution_count": null
  },
  {
   "cell_type": "code",
   "outputs": [],
   "source": [],
   "metadata": {
    "collapsed": false
   }
  }
 ],
 "metadata": {
  "kernelspec": {
   "name": "ioadc",
   "language": "python",
   "display_name": "IOADC"
  },
  "language_info": {
   "codemirror_mode": {
    "name": "ipython",
    "version": 3
   },
   "file_extension": ".py",
   "mimetype": "text/x-python",
   "name": "python",
   "nbconvert_exporter": "python",
   "pygments_lexer": "ipython3",
   "version": "3.12.1"
  }
 },
 "nbformat": 4,
 "nbformat_minor": 2
}
